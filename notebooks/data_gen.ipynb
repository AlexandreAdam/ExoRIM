{
 "cells": [
  {
   "cell_type": "code",
   "execution_count": 1,
   "metadata": {},
   "outputs": [
    {
     "name": "stderr",
     "output_type": "stream",
     "text": [
      "/home/aadam/anaconda3/envs/Base3.6/lib/python3.6/importlib/_bootstrap.py:219: RuntimeWarning: numpy.ufunc size changed, may indicate binary incompatibility. Expected 216, got 192\n",
      "  return f(*args, **kwds)\n",
      "/home/aadam/anaconda3/envs/Base3.6/lib/python3.6/importlib/_bootstrap.py:219: RuntimeWarning: numpy.ufunc size changed, may indicate binary incompatibility. Expected 192 from C header, got 216 from PyObject\n",
      "  return f(*args, **kwds)\n"
     ]
    }
   ],
   "source": [
    "from ExoRIM.data_generator import SimpleGenerator\n",
    "from ExoRIM.train import Training\n",
    "import matplotlib.pyplot as plt"
   ]
  },
  {
   "cell_type": "code",
   "execution_count": 11,
   "metadata": {},
   "outputs": [],
   "source": [
    "gen = SimpleGenerator(1000)"
   ]
  },
  {
   "cell_type": "code",
   "execution_count": 18,
   "metadata": {},
   "outputs": [
    {
     "data": {
      "text/plain": [
       "<matplotlib.image.AxesImage at 0x7feac9678be0>"
      ]
     },
     "execution_count": 18,
     "metadata": {},
     "output_type": "execute_result"
    },
    {
     "data": {
      "image/png": "[encoded data removed]",
      "text/plain": [
       "<Figure size 432x288 with 1 Axes>"
      ]
     },
     "metadata": {
      "needs_background": "light"
     },
     "output_type": "display_data"
    }
   ],
   "source": [
    "plt.imshow(gen.images[700, :, :])"
   ]
  },
  {
   "cell_type": "code",
   "execution_count": 23,
   "metadata": {},
   "outputs": [
    {
     "name": "stdout",
     "output_type": "stream",
     "text": [
      "initializing Phys_Mod\n",
      "Creating from coordinate file\n",
      "15 distinct baselines were identified\n",
      "10 Kernel Phases identified.\n",
      "Now calculating bispectrum\n",
      "Calculating bispectrum matrix. Will take a few minutes.\n",
      "Done 0 of 6 .  10  bispectra found. Time taken: 0.0 sec\n",
      "Done. Total time taken: 0.0 mins\n",
      "Found 20 bispectra\n",
      "Doing sparse svd\n",
      "Matrix rank: 10\n",
      "Reduced-rank bispectrum matrix calculated.\n",
      "Matrix shape (10, 15)\n",
      "Time taken: 0.0 mins\n",
      "Loaded coords.txt\n"
     ]
    }
   ],
   "source": [
    "from ExoRIM.model import RIM, MSE, PhysicalModel\n",
    "import tensorflow as tf\n",
    "pixels = 32\n",
    "noise = 0.01\n",
    "\n",
    "# First test call execution\n",
    "rim = RIM(steps=10, pixels=32, state_size=4, state_depth=2, noise_std=0.1, num_cell_features=2)\n",
    "phys = rim.physical_model\n",
    "image = tf.ones((1, pixels, pixels, 1))  # x\n",
    "noisy_image = phys.simulate_noisy_image(image)  # y\n",
    "rim(noisy_image)\n",
    "\n",
    "# Test training\n",
    "loss = MSE()\n",
    "optimizer = tf.keras.optimizers.Adam(learning_rate=1e-3)\n",
    "\n",
    "# train a single epoch\n",
    "with tf.GradientTape() as tape:\n",
    "    tape.watch(rim.variables)\n",
    "    output = rim.call(noisy_image)\n",
    "    cost_value = loss.call(x_true=image, x_preds=output)"
   ]
  },
  {
   "cell_type": "code",
   "execution_count": 19,
   "metadata": {},
   "outputs": [
    {
     "data": {
      "text/plain": [
       "<matplotlib.colorbar.Colorbar at 0x7f229115f128>"
      ]
     },
     "execution_count": 19,
     "metadata": {},
     "output_type": "execute_result"
    },
    {
     "data": {
      "image/png": "[encoded data removed]",
      "text/plain": [
       "<Figure size 432x288 with 2 Axes>"
      ]
     },
     "metadata": {
      "needs_background": "light"
     },
     "output_type": "display_data"
    }
   ],
   "source": [
    "fig = plt.figure()\n",
    "plot = plt.imshow(output.numpy()[0, :, :, 0, -1])\n",
    "fig.colorbar(plot)"
   ]
  },
  {
   "cell_type": "code",
   "execution_count": 20,
   "metadata": {},
   "outputs": [
    {
     "data": {
      "text/plain": [
       "<tf.Tensor: id=16787, shape=(), dtype=float32, numpy=540.83777>"
      ]
     },
     "execution_count": 20,
     "metadata": {},
     "output_type": "execute_result"
    }
   ],
   "source": [
    "tf.reduce_sum(tf.square(output[0, :, :, 0, -1] - gen.images[700, :, :]))"
   ]
  },
  {
   "cell_type": "code",
   "execution_count": 22,
   "metadata": {},
   "outputs": [
    {
     "data": {
      "text/plain": [
       "0.09999241"
      ]
     },
     "execution_count": 22,
     "metadata": {},
     "output_type": "execute_result"
    }
   ],
   "source": [
    "output[0, :, :, 0, -1].numpy().min()"
   ]
  },
  {
   "cell_type": "code",
   "execution_count": 15,
   "metadata": {},
   "outputs": [
    {
     "data": {
      "text/plain": [
       "1.0"
      ]
     },
     "execution_count": 15,
     "metadata": {},
     "output_type": "execute_result"
    }
   ],
   "source": [
    "gen.images[700, :, :].max()"
   ]
  }
 ],
 "metadata": {
  "kernelspec": {
   "display_name": "Python 3",
   "language": "python",
   "name": "python3"
  },
  "language_info": {
   "codemirror_mode": {
    "name": "ipython",
    "version": 3
   },
   "file_extension": ".py",
   "mimetype": "text/x-python",
   "name": "python",
   "nbconvert_exporter": "python",
   "pygments_lexer": "ipython3",
   "version": "3.6.10"
  }
 },
 "nbformat": 4,
 "nbformat_minor": 4
}
