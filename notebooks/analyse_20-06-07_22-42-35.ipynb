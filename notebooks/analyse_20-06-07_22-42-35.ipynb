{
 "cells": [
  {
   "cell_type": "code",
   "execution_count": 1,
   "metadata": {},
   "outputs": [],
   "source": [
    "import numpy as np\n",
    "import tensorflow as tf\n",
    "import os, glob\n",
    "import matplotlib.pyplot as plt\n",
    "from PIL import Image\n",
    "from celluloid import Camera\n",
    "from IPython.display import HTML\n",
    "import collections.abc\n",
    "from matplotlib.gridspec import GridSpec\n",
    "import exorim as exo\n",
    "import xara\n",
    "import pickle\n",
    "import matplotlib\n",
    "from numpy.fft import fft2, ifft2\n",
    "%matplotlib inline"
   ]
  },
  {
   "cell_type": "code",
   "execution_count": 2,
   "metadata": {},
   "outputs": [
    {
     "data": {
      "text/plain": [
       "'/home/alexandre/Desktop/Projects/ExoRIM'"
      ]
     },
     "execution_count": 2,
     "metadata": {},
     "output_type": "execute_result"
    }
   ],
   "source": [
    "os.chdir(\"..\")\n",
    "basedir = os.getcwd()\n",
    "basedir"
   ]
  },
  {
   "cell_type": "code",
   "execution_count": 4,
   "metadata": {},
   "outputs": [],
   "source": [
    "# id = \"20-08-20_14-19-28\"\n",
    "# id = \"20-08-25_16-47-24\"\n",
    "# id = \"20-10-01_11-12-26\"\n",
    "# id = \"21-03-04_15-50-12\"\n",
    "# id = \"21-03-28_14-59-25\"\n",
    "# id = \"21-03-28_15-47-46\"\n",
    "# id = \"21-03-28_16-39-39\"\n",
    "# id = \"21-03-28_16-56-08\"\n",
    "# id = \"21-03-28_17-04-48\"\n",
    "# id = \"21-03-31_12-26-11\"\n",
    "# id = \"21-03-31_12-39-22\"\n",
    "id = \"21-04-01_10-37-33\" #with adam (likelihood grad)\n",
    "\n",
    "results_dir = os.path.join(basedir, \"results\", id)\n",
    "checkpoints_dir = os.path.join(basedir, \"models\", id)\n",
    "train_data_dir = os.path.join(basedir, \"data\", id, \"train\")\n",
    "test_data_dir = os.path.join(basedir, \"data\", id, \"test\")"
   ]
  },
  {
   "cell_type": "code",
   "execution_count": 4,
   "metadata": {},
   "outputs": [
    {
     "data": {
      "image/png": "[encoded data removed]",
      "text/plain": [
       "<Figure size 432x288 with 1 Axes>"
      ]
     },
     "metadata": {
      "needs_background": "light"
     },
     "output_type": "display_data"
    }
   ],
   "source": [
    "train_loss = np.loadtxt(os.path.join(results_dir, \"train_loss.txt\"))\n",
    "test_loss = np.loadtxt(os.path.join(results_dir, \"test_loss.txt\"))\n",
    "epochs = [i for i in range(1, train_loss.size + 1)]\n",
    "plt.figure()\n",
    "plt.plot(epochs, train_loss, \"-r\", label=\"Train loss\")\n",
    "plt.plot(epochs, test_loss, \"-b\", label=\"Test loss\")\n",
    "plt.title(id + \"_training results\")\n",
    "plt.xlabel(\"Epochs\")\n",
    "plt.ylabel(\"Loss\")\n",
    "plt.legend()\n",
    "plt.savefig(os.path.join(results_dir, \"learning_curve.png\"))"
   ]
  },
  {
   "cell_type": "code",
   "execution_count": 5,
   "metadata": {},
   "outputs": [],
   "source": [
    "def gaussian_filter(pixel_scale, resolution, pixels):\n",
    "#     size = min(int(3 * resolution / pixel), pixels) \n",
    "    sigma = resolution / 2\n",
    "    size = pixels\n",
    "#     print(f\"kernel size = {size}\")\n",
    "    x = (np.arange(size) - size//2)* pixel_scale\n",
    "    xx, yy = np.meshgrid(x, x) \n",
    "    rho = np.sqrt(xx**2 + yy**2)\n",
    "    out = np.zeros((size, size))\n",
    "    out += np.exp(-rho**2 / sigma**2) / np.sqrt(2 * np.pi)/sigma\n",
    "    return out\n",
    "    \n",
    "def fft_convolve2d(x,y):\n",
    "    N = x.shape[0]\n",
    "    n = N//2\n",
    "    pad = int(2*N)\n",
    "    pads = (pad, pad)\n",
    "    return np.abs(ifft2(fft2(x, pads) * fft2(y, pads)))[n:-n, n:-n]"
   ]
  },
  {
   "cell_type": "code",
   "execution_count": 6,
   "metadata": {},
   "outputs": [
    {
     "data": {
      "text/plain": [
       "dict_keys([20, 60, 40, 0])"
      ]
     },
     "execution_count": 6,
     "metadata": {},
     "output_type": "execute_result"
    }
   ],
   "source": [
    "# update of nested dictionaries\n",
    "def update(d, u):\n",
    "    for k, v in u.items():\n",
    "        if isinstance(v, collections.abc.Mapping):\n",
    "            d[k] = update(d.get(k, {}), v)\n",
    "        else:\n",
    "            d[k] = v\n",
    "    return d\n",
    "\n",
    "images = {}\n",
    "for file in glob.glob(os.path.join(results_dir, \"output*\")):\n",
    "    name = os.path.split(file)[-1]\n",
    "    if name[-3:] == \"png\":\n",
    "        epoch = int(name[7:10])\n",
    "        index = int(name[11:15])\n",
    "        step = int(name[16:18])\n",
    "        with Image.open(file) as image:\n",
    "            im = np.array(image.getdata()).reshape([image.size[0], image.size[1]])\n",
    "            update(images, {index: {epoch : {step: im}}})\n",
    "    elif name[-3:] == \"txt\":\n",
    "        epoch = int(name[7:11])\n",
    "        index = int(name[12:16])\n",
    "        step = int(name[17:19])\n",
    "        im = np.loadtxt(file)\n",
    "        update(images, {index: {epoch : {step: im}}})\n",
    "images.keys()"
   ]
  },
  {
   "cell_type": "code",
   "execution_count": 7,
   "metadata": {},
   "outputs": [],
   "source": [
    "log_grad = {}\n",
    "for file in glob.glob(os.path.join(results_dir, \"grad_[0-9]*\")):\n",
    "    name = os.path.split(file)[-1]\n",
    "    epoch = int(name[5:9])\n",
    "    index = int(name[10:14])\n",
    "    step = int(name[15:17])\n",
    "    g = np.loadtxt(file)\n",
    "    update(log_grad, {index: {epoch : {step: g}}})\n",
    "with open(os.path.join(results_dir, \"grad_and_weights.pickle\"), \"rb\") as f:\n",
    "    grad_and_weights = pickle.load(f)"
   ]
  },
  {
   "cell_type": "code",
   "execution_count": 8,
   "metadata": {},
   "outputs": [
    {
     "data": {
      "text/plain": [
       "dict_keys([20, 60, 40, 0])"
      ]
     },
     "execution_count": 8,
     "metadata": {},
     "output_type": "execute_result"
    }
   ],
   "source": [
    "ground_truth = {}\n",
    "for file in glob.glob(os.path.join(train_data_dir, \"image[0-9]*\")):\n",
    "    name = os.path.split(file)[-1]\n",
    "    index = int(name[-7:-4])\n",
    "    if name[-3:] == \"png\":\n",
    "        with Image.open(file) as image:\n",
    "            im = np.array(image.getdata()).reshape(image.size[0], image.size[1])\n",
    "            ground_truth[index] = im\n",
    "    elif name[-3:] == \"txt\":\n",
    "        update(ground_truth, {index: np.loadtxt(file)})\n",
    "ground_truth.keys()"
   ]
  },
  {
   "cell_type": "code",
   "execution_count": 16,
   "metadata": {},
   "outputs": [],
   "source": [
    "%%capture\n",
    "\n",
    "index = 20\n",
    "# index = 50\n",
    "step = 7\n",
    "# step = 11\n",
    "fig = plt.figure()\n",
    "cam = Camera(fig)\n",
    "selected_image = images[index]\n",
    "for key in sorted(list(selected_image.keys())):\n",
    "    im = selected_image[key][step]\n",
    "    plt.imshow(im, cmap=\"gray\")\n",
    "    cam.snap()\n",
    "animation = cam.animate()\n",
    "animation.save(os.path.join(results_dir, \"output.mp4\"), writer=\"ffmpeg\")\n",
    "anim1 = HTML(animation.to_html5_video())"
   ]
  },
  {
   "cell_type": "code",
   "execution_count": 17,
   "metadata": {},
   "outputs": [],
   "source": [
    "%%capture\n",
    "fig = plt.figure()\n",
    "cam = Camera(fig)\n",
    "for key in sorted(list(selected_image.keys())):\n",
    "    plt.imshow(np.abs((ground_truth[index] - selected_image[key][step])), cmap=\"gray\")\n",
    "    cam.snap()\n",
    "animation = cam.animate()\n",
    "animation.save(os.path.join(results_dir, \"residual.mp4\"), writer=\"ffmpeg\")\n",
    "anim2 = HTML(animation.to_html5_video())"
   ]
  },
  {
   "cell_type": "code",
   "execution_count": 18,
   "metadata": {},
   "outputs": [],
   "source": [
    "%%capture\n",
    "\n",
    "fig = plt.figure()\n",
    "cam = Camera(fig)\n",
    "selected_grad = log_grad[index]\n",
    "for key in sorted(list(selected_grad.keys())):\n",
    "    plt.imshow(selected_grad[key][step])\n",
    "    cam.snap()\n",
    "animation = cam.animate()\n",
    "animation.save(os.path.join(results_dir, \"log_likelihood_grad.mp4\"), writer=\"ffmpeg\")\n",
    "anim3 = HTML(animation.to_html5_video())"
   ]
  },
  {
   "cell_type": "code",
   "execution_count": 19,
   "metadata": {},
   "outputs": [
    {
     "data": {
      "image/png": "[encoded data removed]",
      "text/plain": [
       "<Figure size 432x288 with 1 Axes>"
      ]
     },
     "metadata": {
      "needs_background": "light"
     },
     "output_type": "display_data"
    }
   ],
   "source": [
    "fig, axs = plt.subplots(1, 1)\n",
    "axs.imshow(ground_truth[index], cmap=\"gray\")\n",
    "plt.savefig(os.path.join(results_dir, \"ground_truth.png\"))"
   ]
  },
  {
   "cell_type": "code",
   "execution_count": 20,
   "metadata": {},
   "outputs": [
    {
     "data": {
      "text/html": [
       "<video width=\"432\" height=\"288\" controls autoplay loop>\n",
       "  <source type=\"video/mp4\" src=\"data:video/mp4;base64,AAAAHGZ0eXBNNFYgAAACAGlzb21pc28yYXZjMQAAAAhmcmVlAAAl0G1kYXQAAAKtBgX//6ncRem9\n",
       "5tlIt5Ys2CDZI+7veDI2NCAtIGNvcmUgMTUyIHIyODU0IGU5YTU5MDMgLSBILjI2NC9NUEVHLTQg\n",
       "QVZDIGNvZGVjIC0gQ29weWxlZnQgMjAwMy0yMDE3IC0gaHR0cDovL3d3dy52aWRlb2xhbi5vcmcv\n",
       "eDI2NC5odG1sIC0gb3B0aW9uczogY2FiYWM9MSByZWY9MyBkZWJsb2NrPTE6MDowIGFuYWx5c2U9\n",
       "MHgzOjB4MTEzIG1lPWhleCBzdWJtZT03IHBzeT0xIHBzeV9yZD0xLjAwOjAuMDAgbWl4ZWRfcmVm\n",
       "PTEgbWVfcmFuZ2U9MTYgY2hyb21hX21lPTEgdHJlbGxpcz0xIDh4OGRjdD0xIGNxbT0wIGRlYWR6\n",
       "b25lPTIxLDExIGZhc3RfcHNraXA9MSBjaHJvbWFfcXBfb2Zmc2V0PS0yIHRocmVhZHM9OSBsb29r\n",
       "YWhlYWRfdGhyZWFkcz0xIHNsaWNlZF90aHJlYWRzPTAgbnI9MCBkZWNpbWF0ZT0xIGludGVybGFj\n",
       "ZWQ9MCBibHVyYXlfY29tcGF0PTAgY29uc3RyYWluZWRfaW50cmE9MCBiZnJhbWVzPTMgYl9weXJh\n",
       "bWlkPTIgYl9hZGFwdD0xIGJfYmlhcz0wIGRpcmVjdD0xIHdlaWdodGI9MSBvcGVuX2dvcD0wIHdl\n",
       "aWdodHA9MiBrZXlpbnQ9MjUwIGtleWludF9taW49NSBzY2VuZWN1dD00MCBpbnRyYV9yZWZyZXNo\n",
       "PTAgcmNfbG9va2FoZWFkPTQwIHJjPWNyZiBtYnRyZWU9MSBjcmY9MjMuMCBxY29tcD0wLjYwIHFw\n",
       "bWluPTAgcXBtYXg9NjkgcXBzdGVwPTQgaXBfcmF0aW89MS40MCBhcT0xOjEuMDAAgAAAE6hliIQA\n",
       "Ef/+94gfMstp+TrXchHnrS6tH1DuRnFepL3+IAAAAwAWnJlD+2HHTlrDQABCpSX+Cyf4gElXljrt\n",
       "pQb0D3XtzwY7d0wyNp+NPDORUJswqNRkBRNrQQ2NE42gLeNxiAVbPoSKN3Te/0ZcQwiQ6YhizUqw\n",
       "wcDBUZnWNLmXRnf8502vmLZ4efRwF3KNV2psZgpxEK0XF9V+9IFpf0vdkPpnIEmkR4uChgyhCDK9\n",
       "I5Lfe6NdpYUuwxo+uL00kXYw479rKH5vkTxHi5LywhMTuKnYWu2j4W6qSuUxo8LCCRrnQyAlue6S\n",
       "BwTJWF/cO3JPW5ASOfBUm6NY2nek4lDbbCIZ1pORf62yIILVKov/84kZNhh2le/0FNsSIag0xK1/\n",
       "QddKoq1CRjkQ/hOwa/t1G8GMY76y79T7w3nWFfE/iSh6i1mCSJbusSU1vcoE3jpF3w4X4bi//T/x\n",
       "Wq8KrRUOpXsbxZ5QXrFMrLDUF1CX9XmOMYkL5EFJPMEVoyxPNavP46u8UWduB0MDML56l/88ETBA\n",
       "kobYNE+zpQFThFB98EzgdJVgDbO1JyzxPwh1qK+4tulnGmjdsSw/+jlSNicKa8iY1yXf615EhJx0\n",
       "fzvT1nOVH7G/VAoxBPusOv2U3OGT5X2mMw7mINrxYBBiwJbtdfqyb+f0SZw8pkkGjUmZg9ytvzrg\n",
       "vYpXrR5ih6V515qt73rhmQtkMjy2mNZpJ1NJ11N3ujTDaJGYvKihUgcSATzk7jJU+S8jZwpFj91z\n",
       "rQSAOJJPyHas8ZXEE4FtEBVi83CJNNgP/Q/22FdrOq7eXbE1Rxmx1FdpQMAzDcY44lBVydICNHjz\n",
       "4GLFB0iqej7rhqR7l4lOIc2h6Tl5P3ETm3nxi6Y5YQlS/CWIugtVvrMNTm+Hk0WUL137Cr2P6N1a\n",
       "oc8SwoFo5Fh1gFKqFewcr5B2p2wgXc89XD7MWfHKnzAWF1My8IodIWZxJeenq2iwjosanNe8qND7\n",
       "reL9+olhyN1E6gzuq4bd7thV/Y/ixaW4Zxy8cJsAacFETELsbM7nLUkT8I4kZtX+DxcRL3gUucPx\n",
       "TyPnxijVsUy8+X0rPmhqlX2JmrHUptR+zfANmZbnVjaXv3hSZKvJQ2VyTuftE6oh/HXS31aPBDP2\n",
       "UZaBUW9cDsWXZrv4ptKJZAS3D2dSIcMIhENazcYx/2jeiC+a7Hze5+iwI+BGOc5MxljFYx4iVIWz\n",
       "/wl48m1vhDwZ02fyz5yjx9vjfHv7ddIXqQNon/QayG7TmIwmyl05C2XAt3RHzDz6CYLGRidhrZJj\n",
       "TelILivJP/17YyJ/CRlvXtDaRRT0uSd0+8W3E/Qf/MC9lcOdg3cXnWWMet7F7pFPQdCD2GkmvmMT\n",
       "xGv+7SAj2Q7ymuzJYrJs/EvKB4ibPJqi3aFS6Q3A9J93JMlJ0SSSlve5Vi4/AtbHQe0kDvUyxdZz\n",
       "bWXFWHQWDxs2zaL81EYazZah1rEvogLUq6Uavg863JUMgC6UpZDZJ2PV6xxGAhEjymFWX7DKyXMk\n",
       "4d1JPeVj4ur7MIvQfCp7H7LWL73XROlxFPRtsLpEHIQqDsykSJVukhJ91ioqp2pivl5SJospRTQR\n",
       "IvEJlBmzX6ZS40MKmhTpS601FKvWw5uHKJvYqOiU04950zQxdCbeyxTzPwhjjSPlxWpdFy9IhZjk\n",
       "29fQunyDGwfCEvGulk1vR3ckfqd3XljZBMV6zOpRueVsN1utVSMRdrndjIdkvIZAFQX13XW3GeZi\n",
       "EK5TipKA5UQ4Zbif0g0IE2+IXus+WmwJtALWqfpKQ6SSC4MxKzcMkw8ss12ZxcIRAbuAYfNljtHM\n",
       "15mZ+evgLobk8+SGR9+JwWTpX3OXLWbJf0ebwZtnen0Kn7mxx5NdF8eb72tFgkaEwhqKt/daywbZ\n",
       "qOyYcde2oG2n0eDp8sZxzXVyG5T4mnaugdIdNzs1R/Xq/TM9R2anVC0IAcL+5cm21Uh2NxggweXK\n",
       "TMlofOGFoqwUqVeoho4fKG29HOgUqAuBAku46souAio5YyNLbHINxN2yd6V3DedzZTT79a4tNKp2\n",
       "8kfhLN9Zw1uBva193R1vQwr/2Q222BNdOHIdbeeLKShT8Syy3mOvYsmbo6yC3OPiNye2crnW0q21\n",
       "X9hmLv/9aO6/DoCxGCa4avusH0bdaJ/F97HDfsSlu9NH71LCmOxgYmVuHtcZ5zX2G7LTt5ispuUR\n",
       "LaeWPf2kONGBq2Sa8Tu4pweCMhwaJf+Sw6E/NbwCcHlV/Q04IS7xP5WovFvLQpxmFyG2YtzuG7rh\n",
       "XO2ihKEQPqFUdJaL2MtVjQrmqv/r1zI+VEO2O+74bno+SKSS/SxPrV5aC3i/OtX2lzOXX0ytJ5ps\n",
       "iV0skaS3DpKTQCob+L9jQTaOnodT+oCpRRBbmn8PmD46txctiNTpM2jlc7cQlxr34VKdWWU7Vtbm\n",
       "9HwggIpMDji6VIXq2Cbs5+72bYoMcsDbfD5DQBQrC1fVUVFkREP+End4Kw2J2X2XMXOWyvLveAwC\n",
       "rPlvc8Qs4bTZJLRdSHGBP+dDmN+j0/FLTta9MAGAfdjIBCQvkYc9jJ3wULoRXKYR9yp7mgyVo9Xd\n",
       "7+ghdetRnZ4Ehe17Nnr6ZSU51qi1RZ9MSJaQOeOI+huomwiryfRr/v8o8l5zy2XQ1ZFNJ/5zyO3k\n",
       "XXJnWy6S2ojyWpFU28+h37FDtDrbLYtkMJgP2cxbkHZfxuJR5n61DY6ApGYzDsett/LtJnHNuoHa\n",
       "IRuxY0UH+WtbkDHufKvY56b1OrPyLFXEpiC6WP9K8mcSEUJIxOr3t9HGgRUmzfz1V3CR3TYGQ+B0\n",
       "PDy+VAnC+BFQiIOOOGBQX/AcUo6djPQ+Vq0v3DYLbgSm9jNfrA2rcS031Lq1+cB5R8zAye69BanJ\n",
       "+TkYPoEzorQJ0ZW9cDdCTOhRFOq/81JBMntCrHfFza7YMfylToJ6259YiX/gLZ4L+0XZm5zlLYH3\n",
       "homRtZzhOjIWR5Evscqe9gbcPBIRFu4ZMVpEKtKMx4JRKy0kdeYb1LYBcEOc/OaEozAszjdSLvVW\n",
       "wknoiqGIUCLrEcxtZfA96FOTv0uyJ52nbedTWQccafRjcx6dO9TM55zfkCml1um3PulJ/+lIszgy\n",
       "3wZmHenjrpVcSz0//nvsWntk1f3kxrzbc3yQtgGEW7CRuHer07qyOsvdpc1dV1KDFMKv1EiALJ2g\n",
       "CcsayuROd16mJ5TcJgRjGNHYiaWemon1US2fJ0i+6S6uS+Oby+B7h4KdJQbPxMK25nmCVyYZFSW7\n",
       "sxu5REl1vSu8s1URogfRbyJOFcTm09ZLBNULi7b9qkl/zV6ZHNkEHyGxfGTz/1R6cgI3HzU3GKmM\n",
       "+62wxUNeC3OeD+ii35cew2YvtOaOJouigiHkV4ybnM0+qY1UigXtPUBi8wrMjQrwKryLbpexf1CF\n",
       "DQRx+C4P32RhtWQ6GCZNnxxmy/y4u099o2oVqEWcQjJ6LlkR//JbnM7zCq2jg8p0+7Bm011qK8GS\n",
       "F99qYVHpK/OSxamHu/UfuRAlYYm1e02f0A8NVwt4aoJ3+p8YB5WPY7Rolx91nDf1uq3wqjqem1ni\n",
       "yiZ8X9etHc9ha6KRtICsQ2SA/BUIz13roXOmd0kFVOLVN2eGJ6gZQZfNXjMeXN7kWqyTOqpFk3kp\n",
       "UuW4lAYPd/P8ZsPOnS5W5IC7uwWWYOwgZdLcflYX8YJbFFihkBDDkSJTJkNahyox5fmok0sgbRT4\n",
       "ywW2vRYs1I2Rv8Yenl5pt6IhqRrztJRBQuCEI7y7RhpOGYbNqkIrf3KE+8Zz7HkdJ4xNFM09022Y\n",
       "2bnPCVt40+LBRUKxjRnC68Sipzwsq+IlhlDPPcQ1AHcK8iLQ/V2nXpw9oq5Vc18cWi9AFPLNN98V\n",
       "a2HbUYqRFSHqR/NDJiYd09XTcYZPCip68JdWqkUwnPc6rvCt44TF0PSHM/1RElmpWNx9DO+1sSAT\n",
       "THOUbyLU5sZGco2DZU86DvIv+UIjYKxUtkeqFQ+6bDkhGyVJWFZX28Qy0MYcfPJMB+SYhpIpdiUC\n",
       "QjM9dNSptvek9ltzYdHKf1gOF8sBDBCZVWJ47KAhF8EyM4zNBZm+6ccrBUbWsR3q+dOue4wSGNnW\n",
       "8e7ImYJPvxsehYpoYHiu2wo8krzbi635uZ9BzyXoKHEM/aQMwzaUoZKJwDymX9lmNArAFxiYBREt\n",
       "6lJYFL/XlLBY94HCR6+TlQkDNMcE7jfOswfAJW/I47bp3eNC/zC0tfkJzE8w/DNM9qLhjL2upo9L\n",
       "p312livSovY/U13AvXu1Nthgz/NC0LIwxetFmkyw6aeNlJtmg5foq7fQ7vsf6ew/5kq/RK91vxBs\n",
       "09SnyGnuFh1ZQLJ8KhMvaXnbm3Jzm2J+eltW2RVF3F82dqmMaWelgynPtkkPhif2ZvdaxmYGzyWE\n",
       "3LturFif29peQh55AQUEaFV70wvHJmJ7hGAiOG3nQVHtody7scCapmgITJSK6MIQ1nxZOpHVMmA6\n",
       "JK1ZQCXV1ZoB20PS7ysFmNFnc5bL2Od5dPtZ+mEqHMj5OC6PSX5b9+GIDWYEfpgJ03/6LUV18oA8\n",
       "wO2rsOqdhaB8/aj7vi8OEiCXzxudFlUxo2iAhO4strqlmxxyCJj0TZWTi6PVfYH02eBgyQcbRyOS\n",
       "aLrQEh4a8X4Ol82PIUn+ILrIRvb/fqF1M/DT2nIlDGDv5lzZko6m9hg6DJR/9C/Kt3Zj2BaxRn1u\n",
       "aXxjgz9pL9EbyyDMtw5m8ZgRbu85kfL7iVbGDcop3ALDdisaidcBWuX06Ov/A00ajiCU/F4jgFyy\n",
       "vuHKAAuTpKr0dDluesIRDi6OyhlcZofEHXi3NlOCYtTeN6gl8aT0IAXYklefQWd7QM21ePpPYYK5\n",
       "xGqy5yl+XgBC9gY3oopLnV78FhKV7ZP86ARUqkGf0Qqb4YTNhJeKyBinyYdwhG+esTTAPCQzASVD\n",
       "9qIAAPq9DvgvEEw8igfFwl5P9owiGkaBO0CMx0mORrKfiRg5bajFrkn5Hq6YDatsOL3284+DoymC\n",
       "IgjTHhgPRnG7pVgpKNhkpBN7X7jEPZZ6NF2dT1MraFAqret3eRIXG3oLGVKFdYWW7gHV/F+FNqUj\n",
       "kdXxtry6/BsZ/MsZRjuHGIV0j3AoTd6ECoCaNqsc7SoLL6hevq1vfo6IWCXyb5amfdQdLcgUBG+F\n",
       "0uvGKt8GRFwiVXv5GyZBksIoHTScoa+wAOZEDkOJvHkUDJ3vbgIo2/csFIlOzMG115d/WSEAHttu\n",
       "3fckSxzxYB346cGuVbLRJfLXQSau+nMoBj7f8lzZPRrqt2/cHfaUALNOZvauWJtd9LqF27q18ndE\n",
       "hZbFSzgx7/1MbiWmm8MA3WxHRqrXyf76ZO/+vOELdFo1EVfAbyPBP+awt5R5mfW80LDlb5MxpKA1\n",
       "EUEfkl9oOgnHRVvBPaLfwzYArYyQh2Hc8BOxCMUT1nqeE38jrdnzPBIVOSEz7JsF5CyEkebOiNdg\n",
       "y5Fw9I25U2T48jKYSCGifIXXYVWVlKgQ8Uyc2YQbAP9fpb/V5ucZBoC3TpBB1BGD5rx4M22LaZwl\n",
       "GOnOW1nTEY9Ty8bSxIHd7og9KIB4ZqgcbVbAtoIZZRBxk0MQhdZzUg4z80p/iNbT4Xls8YPemaZi\n",
       "P4n1eUnH2E7tdSJDFQcdUM3br+vTtSPViqZ6qt2X74JJCsA4sOM+MhjXH1RaG0v+Z7yys28lVXO/\n",
       "FudPHfcIurkMdJJs3Z8Gki0ebvuOuNdkQqHJmxqOFWsQ1RbWhWCcSAb/w5ECLsKRYManp+NPGBo6\n",
       "SP9iRawBzKZZ6jNs+xEpUeNFlrE5QZaK6HTdmfmKNun2p2aCRSPZP5/DQ7JT/0yJoa9lZD1OiHAr\n",
       "1OX/e7y+fGTesYXuPbDInmMchS917J40gQ/X3uVQ6hqArOaP9zlZN9W03mJTpi/jmASCdO3tIUa0\n",
       "FT6BAf8zpDrWxWsTCqykhyYv+McQdOGbxgMlY1U2nDrYmGr5b9720zkXOROSEjIeYfpOcY2fQCWf\n",
       "I7huu/GAx3FuzaXJ6Sukl5IlJh+hLEUeY369eQPj6rnAVsIZ9PiTSMtzLnHxHIqU7U7Q9IbzpTSm\n",
       "JTvYuwnAz6Y6sR+sXoSTxz1owykbPMEpklN2HJ9gcgamVWDr8iqkeH/o/9ENZA7EaxatBgaV+qRV\n",
       "IDqXBaNdzhLSg1EU75qBPRJ1mbThhz20ma/T0Sce84CPVVfmWJWX8DLV/dxyWVYMxZYWLOE+eEky\n",
       "pNsgzBS1WChkeG5nQ5VPg4XGGuf0TBA9NXnwbHiabnb/7g8txyJW/Tp8Vmmir3W1+mHFcXabgp6F\n",
       "qlbYGMugtF46jk8oEKw22OCETuu7yIzjoevvm3wfxXEM38Z/knpOq6etwl/zMwRmMaZLvL6bv3hq\n",
       "LwlXBvoVNtKT+nk/Di8X6wNjHyD9f5eMhnoeEgQ6zvEf878pl8x8oGhWSea8YDa2EMx0cfKZyqeG\n",
       "47rHzNlWiIOMjYmKY/goy0jqXhB+Rw6Y2Rx1c0TO0Lhh3yed9c5earEIpeYBvbYl/ZRfeZ7QH20C\n",
       "w8MkFuISEFr36qg86hOs3JINeTlChpRdjRhYpHy4qiYzHUqtCgMz33Q+13gEmCtn/6/Sqis9v2y8\n",
       "ne9czsB7n8/YLAf3623YbDEFqY217ciyjBiopN8z/qpiKbsf7pml3TLZawgpyFZi80OMhFu6kP+H\n",
       "+RtNeqeQCS/Z34K5AAAGI0GaImxD//6plgDaY4xQAXSdgz4ECnsJV86i3yzsjENqcVbK66/ZO0BX\n",
       "ZP82xoD0Ou519dfjgUiPxxDcmoq0iFncHg2du7cgQyoQREpMzL7xZ6/AxuVewOUPcZpTWicsXtiY\n",
       "ka4LsNTS7QGpzJv92Z8NYbDYsarrdrDopTswPh65vsf+QRaR06HC11W41JwuogT8IkDSOMdcdASN\n",
       "rpUcgfFiYsoJ9Yjp4Wqeyv0jzOcy1GGm9PBvp7lCCTRtGBVDsxjaXuNU98Y0YM6E/Hgy1BKLF8MS\n",
       "fnFn+z0l9OWuYL8wc/DxpSuP60tY2/ppC1KiFAz6c9swttVQbL4G0NLGhKW3fkBA+/mzjgiWO7pE\n",
       "ZTfOXdrBBoIPtcB6IrVzVMKi9THL/nFiR03/AWRhQAc3mahVCh6HOAIViyuSyDy0FQJX1YopvclV\n",
       "KbGfHzsq6tTYWGsJ03U0N9JKml0BQGx+j8macxuEmhM88BER3YgzBCxcTIwBKuxVZW1q3CDQAs1+\n",
       "0ybjeQMHNMhGgEfDcr3pSBds3x6LIQUF8S6SKRLBhJ9LV8RCgMoijjbBxw9v6AtmjGLhVFpyjFo5\n",
       "uGgpSGefM4ZfXyZ65JVT2a/1JBeNj10pkTpTkAS9fnGCn9W9Xdg1qbJHVqujnxTMNl7Yyg7jq+M4\n",
       "fsXg4odiMfU1ghh7dt2k1DahDNNfYZM3iSpXPP4hJEJmKnFxD/y0yKtfvUB6CVpaP+VgbzT5Ktgm\n",
       "/VuUNt/3zoO2ONRS1Wl6ln577yAz8Y858WsPhSte8jg1NP6+WPeBzHcqk/VAzMjLTESyzWZ/Vz1K\n",
       "NtPwJx+lO7IhzmVsDu+fQFcOSA6klgyu7d7dg+NXpcin80Nzwiyi02aTsoS89DIcK8PI1BPXmf3U\n",
       "IgZNLe31Kwhju1y4EFjwjHoWhjDwi0e9Rp1fgTrYk/ajy7HRoSR86Hj4z8rrghFJ+T4ZdMntnIU2\n",
       "WEDKM2uZRS3Qz4XtxG9inw50sZvPvHgEJvTP/mNRjvo/jlJO6q1og1AyZGWj3j3QP4MRfQk+Pd+Z\n",
       "UcDVvJAaOFt/SoiR2niWc+T9xOVPzGADPoiK82XYdyXe1yQu38UwzPhLOq2KKtxgjHON2BfnUsod\n",
       "0AX4J5RtWbS2F+MYT5YX/oJ9JfWsO8wyw3FqwLYniFcq7qniowzm2Xls13YLcoMUxpn8y40625Ru\n",
       "hwBm1wyA35f6XZZQL9GeDP7MQXLAtzN4TJGvC8usi1tBCsFQi5BZ1jetV1UeNXOeIFgURJ0H2tRv\n",
       "8rj9Fc9xSkXDl8spMavxxYghnaQ454t6YsQcaFeOpt64KSDqdZXVR0E/TZ3nM/+LB3N07MokAe6X\n",
       "Nr87EdG+DJfN9f+U32UMafdJ27ACLO/kOS4WmnDaHug40SsBlBfgmnhjHrNDzscW/mBULE+/gbB9\n",
       "dkaUoemsUBEtT79b5rjw3SYYSYWombe/OEFYMPq9U/mht5ETBInFd3TRCK9gBkeyxhMRNeXs66Bp\n",
       "61IPYdmJJZNEL5FLuTIyrb7yaqvQpW1gLc/6yNU3dW9a90/XwS2ypiwP+/TufgC4BxE7szUzr2k6\n",
       "KVkGv/ZxjivIDnAxSITPtMIJysME9oSgp/OiylrI+DWw4DwBJZm/E1oXvV+Hc4G6oERefJmSoZGy\n",
       "UN9JGXrD6+zf8bpQ9D6enUKiOVRzwlzOGcs0SMGJvqvLCzyQ6saMGuSKT7M1A4Khr4sfwbA7rOZb\n",
       "msGEuPZyAjBwrLxDzI0ZgE7J3zQeL7vDifXCFmRF0h2VJJhcGFZK6DxlRrTACXAexCPRIIt0BFmJ\n",
       "2trI75OaZZ3c58LfiABqhXiuRi/543fF2eTAVooAG0zJIcgdYF2CSOGmpzPggftLE7H/WKD9O6aK\n",
       "GBbrMpcDpC1VB9HahOxfO9USYEU6y4Ll4vXNVObR1VldLicYkVMqxfFu4ZMsdj4wb87O0NM7g5IW\n",
       "WFAAO5z5e1wjhqguo/QOZQnJR9fDwusOG8/nBNZB8eL4KGxDJx8AZpnMr/d5ZIgHEta2zECwCe0x\n",
       "Qmo7Dx40fgSuwqI762Fv57CZEPX52PY8+3X5QbWs0480WVSuHxbo8wCjKEHWn1CAAAAJQAGeQXkP\n",
       "/wC9fPedKgAulXWrZdcofSYvQuH8oHTt3bBM/pwSxGrDxf0NEwTEp19gbFwNlZkVENr6YEtAUMDZ\n",
       "382MedoOQKl5ZrD/gfkhGlPC2AC8T4SUlb1adtIOR43ezDGzjPos8PNm7OtEvNMRPnyYGLU395RS\n",
       "72Dq6cVvphl/I1EqmK5zbg/qynwFj3aa9w9HnHnZseCVfwdhmaJc/CVUWcVRq8G6Ei5k9g5bICk0\n",
       "PqPD8qQKO8rjeA6xFKv0kv/3fJBbV2hcTLYU4Zu7wVyPikHKW3GPFBgxKng6O3ApBmxfEAA6Tl+l\n",
       "RZzi3Wz8Czr29GgoAIZoqJTeZqyv/tX/VCar6RvkKlO4TKmgfePxey+Db2G1AhtRtgCrxOdCFjaN\n",
       "UYf1H9KX5rMR+cUlgMlhHqo4OOeqKj1Fv+QWA/sPK+Yn8emGlEG5Iu7yxAum8TvTxiKiw88y+ykN\n",
       "j20QfxFCvATADdv12PwJgzFg4tRTNHArKOXE+QkG0YXcX12V5BIm81btCVpGgNACDD4TnxLxA8uM\n",
       "WFdZ8dG+Wtw4O3uD/wNOffvTeaxA6d25NwspMRFkS/GDaAhfqtxFXq3EQdQwjP6YdgE9pbIDX0TL\n",
       "h+sxXKSuufqPHzECnlhRyMtm5rY/hSt3h3rxzqNYVDC6zf8B3/uxz80TzPj9XfrzjwZiWTF9MkkR\n",
       "6vDBBbQhBVhkW45kP6HAHRPnuHjziEAn6IM7Nii6H1TQ5EuOCN6y/TRQqQqtOCRx5km/3yyLDmcw\n",
       "1mcjSCyCEE/LNz3/H1I7nDCWrjPOoKXIb0RGeGIeKJk1APx9uTCgd7YDEl3obkJKPsViBPT7pTBk\n",
       "D4ggz+OABIvzM6xFPgS4oBXLEJtNvoxoJPa5K0EY0wV8p9Rgcgq7cGWPYq/1Eh1YUuGyeYrQVhYp\n",
       "rqVUfgIj3rljudYDf3wzdGRVFXbzCIHzAeI+DlNpnEl9Y2sy3bPkZFM4FmKyKzd/tORBn5CQI9+I\n",
       "LFVD+T4QJKhdKCquli/Wlsk6MJP/eerA3lPgHvTuGLyjvEC2YrZGhjBedKoYeZG26QsvIUmeOcKS\n",
       "+C2LyZY7NAdunNVcwidJZNswn+rmVgOaUVmkJrFijM9ysAWxU+IwRfXyqbTXTKVQp+Dx9e5T82la\n",
       "nnFY8oplHXYEBQ4jL0FOnflnp3QXxJReSCwQb65MHTM8bnVBoU5quqDmvfI14glyfHgnWfubU44S\n",
       "kBthM8iDx+UifjPsj0eW6JzJ/z8qgDIEZjDrhybTcpDZcbg26Eks1wc5n5QG2sSQqyQrsXY8xv13\n",
       "hU2LOGx6r+uD7jQ2ANnrGznxku30hwzYb6MMqVsewEv3Z/WsO4PAX+FOIUBEYnQ21Lf2+EWxOplr\n",
       "vYar4EadKX1jzlcXfqjJm4AXnBnsYemmXM7+/bDThecjpGpOlnq4LhjuGRGY5kBkWOHB2e/yn7+T\n",
       "mSpY2SwRHQab5bqa6TB036vMSsvoOoCPQrSCHsY1nuIA7tkVciyHcaD8se7pqguJp0M+OpxcNk32\n",
       "mspDNS1WmRyuowHrk7N+FOYo6vpXYxLQlCqfZtdhMoLwD0tik6apsB2smGQHK+bRONGyKEd3hqYX\n",
       "C5lwWNrM1OVW9lBQO4DneBpCmUL7LwjFmhg5eaaYTEUCUYAJ3SNL/DPeWMTZrOsGGhmb+lYlYpuz\n",
       "X4Ay1DViG67V3mO/SyXbI52lfS4mWyuQXT50a2AQaYx22bWycy5pe74K1AZRHEdpXtpS8U392ucP\n",
       "ZYC2rlx/OtoAEt+XqsveJxW30sDsdw07ezRAgOVLpHrAiOCFw1JzKTV7pPA/MKf/GsF0XFdEgery\n",
       "TMFDDYxTiqJfutJjEeJ9QK09ykrylps5aSNGEtpZlCuKxBETa64iNdvi9GWp68Qs542L/SAAVC7H\n",
       "V5n9ne8BY+I5lNb0KBm9qxrlvZYQ4u49ZpTI4++0Y7lYCyUDSjiz53OMVcyqRO11kN0vNyEGrlwo\n",
       "tK7/nDClEL2KEnprCpr/SDGSHhG3JuB1aERrRlcGfdz/29tCXWnOQH663drSA60h7MuVjnke2nZ5\n",
       "1S9+xOF9Y44THqhtQH/95PHGTF3RFvYhgU6CwNVL/ScFYgwp5vCUIEc65/RcjkP06NL+TM9s9yrx\n",
       "WtZKX56Sb3TG2OS52+oRulP7QDeZQG9cMJyIfxLjGAI0xA8OwsdiJx1rgyaPi7zOmZcVsoErJfGh\n",
       "F9qPXBNyViG1jrzmYihPT2QMVtxskjzONA93yL4qYubBXVnxHEumcdc4xxhVggTbpAgH/u89ESFu\n",
       "S5pmisGGWQwQBOxv56eFSgjc7Pzv37k17TmlB03dl4buW9H8nQchX5//VAzkh6dP+jzqd/ScVHSk\n",
       "d/eE8DhI/4JrY6uI+a38T8QYEFsQFTeUqIDad4DBGjUE3toBfig4++X7u6WvBU75qAv8ma5axFsq\n",
       "uK4VPqlWrxxgClowh/El6MywFd+bcD2V7TOhG43+i7lMndlPdkWDOd+XpPlJTkxikqBxhVOtA9gw\n",
       "kgRlFpv56Uc8Zd37Q++sqaq5sE3Wmu6OojMFOekQPeSbjUQmhiCWQiyrShzMP7VQXkgVQdPIcZWD\n",
       "DXwEFBnY9a8Z/OGcCuWb3srteZ9GhhvAsv198S93XzRjyehrZuQMvDf6dKId+QSAlZzMvd6+2LYB\n",
       "g7SlnT9VmbQn7Yk+Lv87JzXpNpDLJLAR9xeahzXynukoPs9eT1NbIuNbYMo4yd6ZLbJNxN80wLJ4\n",
       "zte98WQEly0ogi65EpenxG4VAdBwjK+JerHDDG2v7/Wq8stFwOqZXq5pHadDMdxk12bdwnHoVgIX\n",
       "7+eVNhIa+F6D2tKwkXXM1Xc92KG++t7gdc3QrsjGUEqj9HwEiDDVoTsnGcaZQQTVDB7MVgGmRmrK\n",
       "Vkoq253M+4iIY+6Wa0jz9du8DuVBDEE/jsU/hbsc6XA8v+W58C8IcIRUrNsH9obkvAXuc5RfnRot\n",
       "x+IOb4okhNSN1vEuSgLbJSt108zz/HO+va8YYX9M5ic7itahmD//srk08mLI1ADK0vDi4itN21fq\n",
       "6jHSnA00nVtlUj8s97t1D1WRKFEJgPti5LhbU9qb/CNf7NOn7IvH532enwEFwoXgM1TK92qhgIji\n",
       "D90f5tFHklyb9TNzcW9oIe8d9SDUdMzQMIEAAANSbW9vdgAAAGxtdmhkAAAAAAAAAAAAAAAAAAAD\n",
       "6AAAAlgAAQAAAQAAAAAAAAAAAAAAAAEAAAAAAAAAAAAAAAAAAAABAAAAAAAAAAAAAAAAAABAAAAA\n",
       "AAAAAAAAAAAAAAAAAAAAAAAAAAAAAAAAAAAAAgAAAnx0cmFrAAAAXHRraGQAAAADAAAAAAAAAAAA\n",
       "AAABAAAAAAAAAlgAAAAAAAAAAAAAAAAAAAAAAAEAAAAAAAAAAAAAAAAAAAABAAAAAAAAAAAAAAAA\n",
       "AABAAAAAAbAAAAEgAAAAAAAkZWR0cwAAABxlbHN0AAAAAAAAAAEAAAJYAAAQAAABAAAAAAH0bWRp\n",
       "YQAAACBtZGhkAAAAAAAAAAAAAAAAAAAoAAAAGABVxAAAAAAALWhkbHIAAAAAAAAAAHZpZGUAAAAA\n",
       "AAAAAAAAAABWaWRlb0hhbmRsZXIAAAABn21pbmYAAAAUdm1oZAAAAAEAAAAAAAAAAAAAACRkaW5m\n",
       "AAAAHGRyZWYAAAAAAAAAAQAAAAx1cmwgAAAAAQAAAV9zdGJsAAAAs3N0c2QAAAAAAAAAAQAAAKNh\n",
       "dmMxAAAAAAAAAAEAAAAAAAAAAAAAAAAAAAAAAbABIABIAAAASAAAAAAAAAABAAAAAAAAAAAAAAAA\n",
       "AAAAAAAAAAAAAAAAAAAAAAAAAAAAGP//AAAAMWF2Y0MBZAAV/+EAGGdkABWs2UGwloQAAAMABAAA\n",
       "AwAoPFi2WAEABmjr48siwAAAABx1dWlka2hA8l8kT8W6OaUbzwMj8wAAAAAAAAAYc3R0cwAAAAAA\n",
       "AAABAAAAAwAACAAAAAAUc3RzcwAAAAAAAAABAAAAAQAAAChjdHRzAAAAAAAAAAMAAAABAAAQAAAA\n",
       "AAEAABgAAAAAAQAACAAAAAAcc3RzYwAAAAAAAAABAAAAAQAAAAMAAAABAAAAIHN0c3oAAAAAAAAA\n",
       "AAAAAAMAABZdAAAGJwAACUQAAAAUc3RjbwAAAAAAAAABAAAALAAAAGJ1ZHRhAAAAWm1ldGEAAAAA\n",
       "AAAAIWhkbHIAAAAAAAAAAG1kaXJhcHBsAAAAAAAAAAAAAAAALWlsc3QAAAAlqXRvbwAAAB1kYXRh\n",
       "AAAAAQAAAABMYXZmNTcuODMuMTAw\n",
       "\">\n",
       "  Your browser does not support the video tag.\n",
       "</video>"
      ],
      "text/plain": [
       "<IPython.core.display.HTML object>"
      ]
     },
     "execution_count": 20,
     "metadata": {},
     "output_type": "execute_result"
    }
   ],
   "source": [
    "# Output\n",
    "anim1"
   ]
  },
  {
   "cell_type": "code",
   "execution_count": 21,
   "metadata": {},
   "outputs": [
    {
     "data": {
      "text/html": [
       "<video width=\"432\" height=\"288\" controls autoplay loop>\n",
       "  <source type=\"video/mp4\" src=\"data:video/mp4;base64,AAAAHGZ0eXBNNFYgAAACAGlzb21pc28yYXZjMQAAAAhmcmVlAAAlcG1kYXQAAAKtBgX//6ncRem9\n",
       "5tlIt5Ys2CDZI+7veDI2NCAtIGNvcmUgMTUyIHIyODU0IGU5YTU5MDMgLSBILjI2NC9NUEVHLTQg\n",
       "QVZDIGNvZGVjIC0gQ29weWxlZnQgMjAwMy0yMDE3IC0gaHR0cDovL3d3dy52aWRlb2xhbi5vcmcv\n",
       "eDI2NC5odG1sIC0gb3B0aW9uczogY2FiYWM9MSByZWY9MyBkZWJsb2NrPTE6MDowIGFuYWx5c2U9\n",
       "MHgzOjB4MTEzIG1lPWhleCBzdWJtZT03IHBzeT0xIHBzeV9yZD0xLjAwOjAuMDAgbWl4ZWRfcmVm\n",
       "PTEgbWVfcmFuZ2U9MTYgY2hyb21hX21lPTEgdHJlbGxpcz0xIDh4OGRjdD0xIGNxbT0wIGRlYWR6\n",
       "b25lPTIxLDExIGZhc3RfcHNraXA9MSBjaHJvbWFfcXBfb2Zmc2V0PS0yIHRocmVhZHM9OSBsb29r\n",
       "YWhlYWRfdGhyZWFkcz0xIHNsaWNlZF90aHJlYWRzPTAgbnI9MCBkZWNpbWF0ZT0xIGludGVybGFj\n",
       "ZWQ9MCBibHVyYXlfY29tcGF0PTAgY29uc3RyYWluZWRfaW50cmE9MCBiZnJhbWVzPTMgYl9weXJh\n",
       "bWlkPTIgYl9hZGFwdD0xIGJfYmlhcz0wIGRpcmVjdD0xIHdlaWdodGI9MSBvcGVuX2dvcD0wIHdl\n",
       "aWdodHA9MiBrZXlpbnQ9MjUwIGtleWludF9taW49NSBzY2VuZWN1dD00MCBpbnRyYV9yZWZyZXNo\n",
       "PTAgcmNfbG9va2FoZWFkPTQwIHJjPWNyZiBtYnRyZWU9MSBjcmY9MjMuMCBxY29tcD0wLjYwIHFw\n",
       "bWluPTAgcXBtYXg9NjkgcXBzdGVwPTQgaXBfcmF0aW89MS40MCBhcT0xOjEuMDAAgAAAEeNliIQA\n",
       "Ef/+94gfMstp+TrXchHnrS6tH1DuRnFepL3+IAAAAwAWnJlD+2HHTlrDQABCpSX+Cyf4gElXljrt\n",
       "pQb0D3XtzwY7d0wyNp+NPDORUJswqNRkBRNrQQ2NE42gLeNxiAVbPoSKN3Te/0ZcQwiQ6YhizUqw\n",
       "wcDBUZnWNLmXRnf8502vmLZ4efRwF3KNV2psZgpxEK0XF9V+9IomilhILZ6GrBaZLhvM6B17XGsU\n",
       "6Xe3nFohHciFmYKuqljqNOejnF71dgTwxsUOxdFDpF0s9TIA0QPApYxZMZeEwaySGcBJ4Npvf/Pr\n",
       "Wo8y/C26sLJDkWMzbrNC1YClDeeNhb/CG8FUl/TukoQ0vfO+/U+8N5sxEp/ElD1FrMFg1D6OHmZv\n",
       "kIC/ecbhofHHp+ZY0qh8jWm9X3FizJvsZWbUccLrfWep2V6JKuztWGpHPw8fyrBIHKwq1rm/n4Ak\n",
       "32YEHkQoIK6M6Ndx6eNq8xtmsUFfMUbCUqGMZjXJ/M5nPc7drOyN3p2bvh2UJ3VeRkbj7L7b9Dsh\n",
       "tdxCxLwJ/uRcn9XhfMbITijBv1smU1jO/5C8GKlxC/ej8YNQUuppoVvuZquAZ4BP4l2CLtdwwZsM\n",
       "YZwJ0+lPdw0s4WWgJ40zZH6/CELLc0u16xByyRWT1ajH0JXFYqgoHxH36xz9S7xIbypat/LQEPol\n",
       "CjGrwh3ZwhAGPDEYyVGXShBjNRrNWT2gcUXCMf9j8fRqSLiU7sKoE4vUSQeOSYGypNEMK9hyNEIN\n",
       "V+byMY6s3Uc/j7Xt8DbQLYi9/lCkNwuGj1JERVLy8IStTBFANa1W+sl/gigNGpC+0Z/R7z3I4fPo\n",
       "dGAaFDzogb81ILJk3/f7eZ/11f2VADQBRTKy/kRNgW9RvUY8qxLTw4W5G8Hb3uq3LxWPp2NqtLfA\n",
       "klX1iPfdFVCPky6OqKJrSpZv+2h9FQf3ZeeK7PUatiWEzmgITMquRE5iEkPKxlcXgqKeh019hmA3\n",
       "T223Zmfp06GFi0EhFAhLi8rlDky5W5PPQfWvxxIl1/tB07NvCwHAULBmVuIUr0Wee+DVfTr/qjJp\n",
       "myByTlEoz7doTgiV4AZ1MDrTM99IS7TvLbqNnrebbQNsddrd6vEiQ66VQulHYjAEuBT0cegtn/oJ\n",
       "C0dpZS/4T053FVLVIdsFsLcHkEEU5D5pEPTCF78dPz+/d1ts8N/op4oAPx+fJ1QDZam+UHHOYuHI\n",
       "XU2r9N1ujg26pxL0B98Y7JNGO/qCCOTD3vTN7+nWd+h8yNsFID2NUo77TTdHqiQBGho9XGwuhRH4\n",
       "iFc1EZi5rU2xZsbj+webZmNiff1+yPO7BjcOJY527XKYIlxQOgxy15qn7vlqFxxsaMtVPieGRLWr\n",
       "geuvz4FPUEgMVKjjfTpnEkZUjZyQe93utfqrtmSfJe9DrACzGfRqVzANPZVowZXSi9zFloY3PMdS\n",
       "KZW7ve5pwAnGW2FdDMI4sFlytiDmOo6cPIce2ru9YZR8y7wg9Mcm4QyHUXiB8Y1ARCTW6aHpatCE\n",
       "02Bdk33lzzLWbA5xMXy1VsVxajdGXakBcX0Y/Zpq5CmErBjqbBF4cSSQlyR1tgo+acL1IGBLI2Iu\n",
       "ErhU1L3QTO4RTvcYnWrfvPaJLkX+vHmky+JKWR6J3mQ01W8GMAR4xcBW0AzM8aSPQdl36NboEbax\n",
       "fnkLBn1MYfVkMzBr9aFfR1sU9K8Gu2Q8Oyc+I1gun7DJkPTlRnMckMS8A+IzZh4x81YzZ1QXVyfG\n",
       "3ocHQLjYk5D/NwSQKHr8D/U03zO0q0ZBqiTsmaIELSEclvWOPDXYWuy65wPqyzJbsV5/Oc+EWbvo\n",
       "0bTESbzZjvp39HIP6mcr9+58RViLAUJnD7RbzbzEDVvVm/nWWbIOoM3ZQOD/rDw63AS9yIWvZEMO\n",
       "T6jJDiVExK3dAsZZOQ/PfaAwsIq4iepOWb68L8+Rxmy0taS3rmUU+fVRRZg8U7DxsYcn4Hnp+NKB\n",
       "ihTtDSDk4dkopiCgWm0O9ePHYaM2+pdA2YpmFaM8Hz+pYv3Pw6i5U0oaTTc2Kugadnf7IFpf2Shn\n",
       "fdl7wh13/PflVUyteTmkD1L3kcUlCMnt8PIhIa1T2T99Eq/ZgUCSQ0CxA6910yC0jmw21+psyXFS\n",
       "N08C5FWYF0GpXKbglz3azTB4KqCf2knk2szdNGns1JNvx6f0xmSrCjOgPdYfy7ZjSUJHr8isWvJn\n",
       "6iUfgZMJrKqfTayc0rqlBjlgbcZGe/yy6Ys2hVxcR//MSd/p6I+SybohzmXjCsd5XlgEpo7EylPV\n",
       "YOsyNceiOEpKf4VEQdTZaWldYcpW/kH4rnAPM1VAU43uE57jqHH9t7o5t1mebJve8TR33qlF1nra\n",
       "dB5jgRqntnLJjkNaSCkk35gCxAjMBnW/8R3f3877fubw0AxEfiv4SfPK1G3dZbTnc1zYWri3e8Hu\n",
       "9DqMFh0eVSl2I66lObisXYMxWtt9qjO/+bk75TE4GvrQfb03U/8V5AuA0aQm/4NNzyd08/XuVRWQ\n",
       "vsiSITfdcHJ5MDz82Il6VlWvhl0dpizjT0e7G/H1wXIEVc8rTtWQdaHJOj6xbMzFxTPJR8LiWZ/d\n",
       "NHoR0GY0YDVc9nFaQLj3WW+S3imYRQTb58/F+xa4H0wx+LbwfRwKwsxdnZUB+akykpsIcnZ3ubny\n",
       "oltlujEVBPuQhTHaiqts8QAFvvDROfLK7PHk4Wbl2ZFIcYvcf8MF2eyl6e/p51nHoW8kjzs1SJEV\n",
       "fMBzgxoTiVw74ESAyOTxJqmYkmG6Ib3H61C7cpsN5kFIxpkk+Qbpj9Hix6m0pIYYbSteJCt3m3xq\n",
       "rqIc/UsRfo7dD0JnQP87veM1he67ggeX36PNmH7L4esyBd9jJEjlgrxYJEhaYemjDwEzlKpoKOCi\n",
       "vwqeGl3Xu5GQE1pCbTticDTn+6I5Dbx25/sclQHfDE3EisasxuN1h9VOSoQ8hiF+Inj69U7/no5H\n",
       "hpnu1moSzIewd8ZDnXC/Qublajeudh3dkLSrjzw77nMaz+O3bTakVt1hZ5B5QxjR2P5PO3TCVKoS\n",
       "dQWGf3WFDGIoHBhvI1EThGzfJ9aE4t6/DIPfdXo9izW8o3uQqtf2hb59p52+HZm4xbrENfgAptXL\n",
       "FnER03Iv5WlipmSxeENf+fx+Q8cgH/3/GHoxcSsGhLgS0+f7z74Sr8Xqkrw237FLKpO3qPygvnMq\n",
       "aOdkMGDCgegiSXc4XWbNjDBTPpegzMEqTRdnR2LoMp+jYt82tyIMVneeQlElBDF7plCuBWf3yjZ2\n",
       "CnIujdvJZK+Nuq8Vrn55V1u++W+DAyhTkoInfEeAxGXkdpaFD/CzJCnO2H7dW2E3L1je2cjCynzY\n",
       "cY7KED82bU2X6KwuY8AwEHQFHPRs2oSOpNAFOhQxeSNBPXtPZxOpBKfGwW6rUsYPMS4Y30Lt6uXD\n",
       "me1rBSTc4tdpMnsPG/M5PkMlbAMRGEicIFvU9MNiM+GC01jXr3eLum2zHtv14atLfq/1OIfnd+eW\n",
       "yc4sSe4JlmELDKGee4hpSuoVr4LImGUNEQ/3X7IoYztsx87JvvP1BgYrJopYJxUc8lUhIdB2dqjH\n",
       "o+SEpIakkMJQPmzBqqs9zsnNbr14vALRbF96KP/LUUeHAJ6NuuoyfgW64tC/V2PNEENKhvy5HmEL\n",
       "uIrde17mhT8j+rPhrSTlEHgfwRU140EZ7CsEgKe70/RuRRmgQMCkRjwKWTnQXmNb3be6syYCNQSp\n",
       "Z83CH6twtgQg6uFhNtL409U+kXV5dstJ9ganJuD1XiRN1Q4bbbRxKZRSbgxT4rBFvKlMoe0MIw1g\n",
       "7ZKZ/+n0ePs/CWSEEkhg71rQqLTJUr8tl+sCAIJVuDOAvw/9lvhHWryXK11tswVk0S5PabiLV0L6\n",
       "LqiMzFiLlozt3HvHFR+gOV0z6yWCy34XQqW1DsfYSgzCoKfODApzD/tvcPrKg+Xd5IxekwZ8tlim\n",
       "XUINZ+pi+FqcOh8QV3fVugm275NY/iZDsjrAgH+gyXohQH/nOS6yPjQydbcQ8RE4VqHiJZikT7cE\n",
       "3qZemqt2SZveBMVijRotXOeXPLHgsaeATjMdwj50Xo9zoXN9ui09RHSlCyHrSxaNCgIVfOTXk/+2\n",
       "ifhL0MSlDxVUqLjsK8ChDE0SSh/0GjROx/oCybiexiO3J4AQrh/nOU2q7GOBZkhNy8aldfW8xE8z\n",
       "Kqi6frVRCkMy7ABDd42pAWdxykDWHuBqQ3Bkqqzr5K2A63rx1iPYb6i3mwQ1fPG+5dZ0jGeWZ5fI\n",
       "P3kpNZIINa0pjwmPTsdYNh1aCPBVhuLMPSQZpqa2847LxfdcwfazD1fEZWpghD8yMHo8k7ciXJsj\n",
       "+uCi/b/Tit6DV4wzc26kbrJ3d0n4NgcLkzpGVTBaZy3XglrkvWFhjKC+0USJkLyVFJiR1UrZ6VhH\n",
       "iEG5pLOAyMQO2ZmnUyFsQd9gIW6DDa2VnSeaHEm1DSejnPVHEvaquLSAT3P36gjVfU+3TBp9z+x6\n",
       "dDGoY/PW4uiigpyuBVW+AjeO2kk6lYp7wugjf1iyjEui8GHL6spzCAOFuQ1cj7f/esXfSxCoMktl\n",
       "FkVyNV0azTDgHj8Vbu446Z8wQzlYGpFi/U9awFAsK1iC0iCIE32mFHxNynRvrgm9s1AkwYSOnj/M\n",
       "jCjD+Ew1G/biu0w9967R1naagE8g1QuwvK+XBVn3KxTGxutY3NrLjz6nnSci4YS4kZghu5hI5Z0D\n",
       "9y9/5qNaBRpZSYRdtTHWKp7vflMoOsb3FTF9KDyDXRFcK8zPmO76qmm0iCcKFWFP2mVkHDGPRZ+r\n",
       "09ZWXpw+xGSipVa8OpcSuuow15RxtiI3949rV9t4hGwxOWY8pCVZV+c780UG7+ERPpuKjPDc5Vbw\n",
       "RANOkE9tJgE5O2KhoJXWgzV0s5M/mA8sm1b6TuvVYI1VlpeQwcyVV7fCeXqkIeoTzpVLnQzLe5zH\n",
       "fg1JzXjwZqS04UqW9Zam9feoI0E02v4I/9KDAErg3SH/G5sPHxhwKlBZQP3QYVbFy663QjpNonZ8\n",
       "T0unqrJfftOX/ouDzJn28UwYrAEE5XIjvI7od6BfZKMIIWQkptiJTtX84To3c39lkfM3BmgijJUr\n",
       "rIrIFm9UGo4LoGiVslS8DkUqFEQoL3bcTX1FUI5TqnnLqBVJoWJcyBdVLklOb06pv1afoq4L75KC\n",
       "hf+8eX7gfA4dUdfVilQ/kFcCEHgY72sBkFkbcSY1qHANhB3u5qy4530Sk3U3zdv9PPETMH9rJpRs\n",
       "ul5g6GzW9L3tfhPmm5U3IervnuF6OyzBCl7r2TxoyL5lXMcqh4EZ9GkWPjGRED0dTeYjXZFI3xP/\n",
       "qB9Hhc7N7Bni/N0ghSeUCc2y45PrAhRIhyYv+NKQC2W1EkUVeG5jRw5LVmmmFTTdjGNGzJmUnEm8\n",
       "6kjHoRW8KKWDEw7BgFDfi7r6Tj4MMDiXuorFKfRdSVs73T8CFyolmOJkoGhXg/BxI0/R08jcj5Wv\n",
       "3ftQjhOcv3vb6Qv7JHp/RHJkucWIJmtJihN7jkAAzeNI62L0Twd9kfDsRdHGbktPmMgdvxP9BGS3\n",
       "I5KMlWgwLHf76QIJNKsEeyd1LLni9tR0I9JZwOChUn26amums7v3/rsDAlHo1x+y7O1lHsWok2t2\n",
       "L+czrZxbK2EnKUH7JvjMc8asDCvW3SyL3skJgpCJ2MD64t7Xjx86NYhBXKIHlQgH5gWSKj1p5FyT\n",
       "pnAkOPPfNy14q7gS3bMv7jDLQTDDRmw5THOqZwUkwcRKcBoqUfr+wnk46ZJ9UUJ5MnVYnv3xmxfR\n",
       "C5jG0kWOFdF5rt4dOLkof9FjxX9GldaXS0P7px6K8z5IiyUrS73opAXif8qYzglaSiSpIaITmjH2\n",
       "D+wJRe7s/BPP4pbUnqp20SUTRAbTprLCMN+tMNQN3nJ+BoSJB5xmZwFda1ix0cRu/MBSwoAbhwrO\n",
       "tx8xbdggUIK3F0cDw3M35tOMD0lTfqCEMyRk+bXcP8DoW+b9K7Gvqw9vz+ecZiY3Mgfya/lRNhQv\n",
       "HqtmwjZiNyMHMeZXhn+bVoIdXyuCFUchgWKpzMHxe/+TaPr+zFx5QlkQ0tHk1GddEHTmsJ/1viTg\n",
       "y59L+DLSvBUUt6ZR8CMhAAAHM0GaImxD//6plgDT+aFABpj/V0nrI+CZH8yNcBLd619/RGMpScEi\n",
       "Y/vF3ZGMU6MDXlkqaPqu7G9v2+LLK2ilnBH9skbvl5+iaDcMWyRknPWMecoJRBaXXI+q5hOLZW4M\n",
       "J5Ykm8LXvvlkM8Bu71d/OWJN6bLFhb23hN0GUsodT8fcXIZR1/MnZ6V/e3in8Ga1fDpsPe6wfWsu\n",
       "Wc05JaLWRXEUj9nylSfo2PxM8+iRnmk6avLJLA6eXpz4qWJg4/8qd5NELtaz3Etut6Kti41mBzqe\n",
       "yG2NeJmhxsXLVilkxpV4fpHVwHEbcH4JxJXWc1iONknQ6sCTZ3fYPRLMCKTFzV8m/dczWAB58bUj\n",
       "zkeL8b7sCE2WR1gZhfI7ESQABHJsYqnAwydTuq45UrpTw+jnShFqGH9VoAnlfnhXQqZHbcsPr71n\n",
       "zkS7e9GyQoxHecOSeMbhCjARkH53spDVRXujeGBXbL3ErosHPax17ZcLaMECwg+g9kzUNrOiTjdW\n",
       "s749Mz97z8PgmBAI4CrcbevIRi7XF1Bsy68Tg5DdHlIvnQ0kAV7ZsRvog+xYIf4uE80riUsKd9xU\n",
       "3hNzH68ErNUH+3+U0vFoVga3H2I5kAsWy6uGhNML+S7i3atGrv6bADcS/wc3H/K7+U6GxMv3PeZN\n",
       "2HFjz94ROJLPZ0H53Gt8Rvepq/Tn33z8yRs/h9RyIo+qRcfihkF07LBmJwrXFmRavm0VkZuxPAio\n",
       "pKRV5RIq0bdUd0CR3WECj4E8lSN4WdDLNuYg1K8tcwahHLGqvo/8KrL4xAk8tkWYj9E2c2l77aV1\n",
       "a+fEWAGsOsD7Fe7BNjDMZswyQQS0eA6tWVVR8nWSC3HBV29iZDBcpkzuct871EymxpY9QikmOp1Y\n",
       "siCvY3p9ijzXjpcZNqSMIiMbDmWVs8fNQFr9KnP+7lMf1Mml6WdGR5hLVSrsAEyxyTxLA7MSMusO\n",
       "CMfuBh3bSPq9NyD3I7arGLR+rV1xfACQfmJUL272URO4ZayS3I08FaeaYwkZ+6Wt98uLvBubYOpl\n",
       "OQOOTVqAs39P8fbfamL+smC9yKvlU9YZf2FgWH98ipQyvh1Xnk3aZvzp+VkhwzLqXLlxM58ziNDv\n",
       "Gfmin0BE5qikIL95hz3+eMhWK6k3A5hKXgcxV1nuaYBU9eec5w0JOXG9tF9olB4QOJbalXVY1T21\n",
       "fxTXohnJqqOyqWSupbYAnAiQRa+W6SFPmReREKGJE3h2o/M8XI2ZM2mzHpIZncrNpkH8V7gISCVD\n",
       "YmIFWsdlJlvDcTR8Nxmfkam1bLFPtQvlIfvlFaoMKS8JDbpPXjcOW1e2evlXtT60MjxT4xuY+3nt\n",
       "7WZ1k3z4PI073EPlltA/oD/VFiYAKsGdy9KJw7qe72LsoL8Vo+Slgy5IgWWNon5T09FvQmCoJrJh\n",
       "uwlDNooL2nEYFZ+HGO9Q28SGI6OVbQf99ysTiVzEC9jDrHdg9mVi/iW/2fnv9qYeSMjbR0dyKrRL\n",
       "YYj8z7tqpVwpr+ubmEm8K0ZXX3ASj4z2tDL6zJzOZyfoN6pJEs4CIHUSYEaP9kL5Z/JmFx3aNV/G\n",
       "KjRUkhVZ5IbfE2gmPYkD8lu5xF7yjGySgsbNWbyjYyKfr+t8rMU7KOC6t2Psen9/AJLMpBClHgqt\n",
       "NP/G48l0I2GlpghneKu70EQ+hTtjKaHbQbdzop6Dq7v7LE9lyqiPJSYiAuez5n//P5/yDuSfOmRc\n",
       "BqdJPNPyYybi4el758q0hXulVrgzpKAokQToX3gzIciL+d13zyDOv6916uiokOPT4gBDv5SfJjFt\n",
       "0/qvrZ08JT3t3JGXAEYKctzRZ5s/0FQww2PDR+Mwrd3f4zR3kZbKlDP4f++AdJGdHD+lfIyZdbj2\n",
       "cS+yJMT3RQyIhPRCESOJNU6c9xgQlw++270Asmac67P80HHXvSi8PCXuGl2lagCorcyU9GgG9EAE\n",
       "ZbDNX7FkCfXPXYQPhtAsi248l9lM4wnc09b9ly3xQrjKQf9Xn/Yg9Czh2TPHKUBiVS3bYn20Arjg\n",
       "vipSJWDHH0SNFjRg1yRSeh5roZw24TCR1p3/HghysrUbuqHem3EmJFpOwTLRRsED3WyGgBvV9V49\n",
       "7FsR8NVYQ08Nvl5tnF69FtmcdgyvfbDkHHQNxomKnwswxR4Lu5drLLW9vb8iK7S4oUx8zi7KvAz+\n",
       "tXEoWqPfVUTVaUw9IWT+F3QIhc1LeEKjwfhkfzbcJ4ONRQztr3zbLnivAR8OmlbSB+xk7Rnkpz2m\n",
       "RyYEq3FZv2vhkeRrpLDe99+b3/IMi6QB65kG1LIZUJH2XpNL/P6P+MDFWHWb6XTDglNsb0hWA9f7\n",
       "IA5MPb8eS8+GTx4I5hf6qNKYVRxDPChgeT6k9EtWZE+67hA8CyoF5+yr4mFVP34CD333zOlYMKoG\n",
       "vUHj++MudpFeqJAsv+Cp0bsElvdQmO8FSXB84n7e8xh56Zwr+ZEAAAmVAZ5BeQ//AKj/6OQzjNSA\n",
       "Djhk7mAnfR8FdqNOoZZnLS0yaqXi0FqX1w8iEDJm5t8cDl1GhE3HZMLju10/r3Zm/aUdz19lu/90\n",
       "5cmqiSNarq0AUZNfpf0ffofhwyhRMILZU/dP3XvM4YeGh6jaSqUYVeuwi2D/68JAEMlgPbcuuR7v\n",
       "hfXJ5jl2T8igKgHCLb9FXbdSIsgDjzjnl/m7MDP/oTydtmRpX/3rtUECuvZ2JSATzJZpBvSr4Mfr\n",
       "yAZI9IMQ3urorenB64gGagxcqijO0YfyaPRTD4cVhXBYRYeMQWEhzZN+t52NpRL9LhRPTyHT5AZ2\n",
       "5DMKRQGixPYcl7+IYlfJRlwdDw1dG1U6/mAaDnMn4BsEamLbFspCKtkEyGfsWmeeOfUemaizZ0p/\n",
       "4miHaTujhqmJ6H/VR7wgZFyuBloXpg4VBCTysO4oy3zfbB2fj1yZewXmbnI4BlEVf4Zs1cr8xlLQ\n",
       "TqnuB0WG8IhCG7cQklZ0ob5xVaq3SVRTepZJca8B3x5qqoOizhXOhAIR69iOUVgTRPBceboeVEvM\n",
       "rEyyUs9rlGseBhHP0Xv1CZisKr26swoP0km/PjwTZLajl2rplLtuQ9J1OpVrmGLMLWEDbYy47V5r\n",
       "p3M71aVQufEuva/+YnxLFw4jMijbCH2pQooJ+f//xfP8hfhBa4zD2ZMcaWTIJHKGSTwnhKe9iscz\n",
       "BELizuJT1barSw3aKX6vP9ct/EWtVKt4ZpFuZOGnjD0vE/XZC7qi0S++G3fB4gsOWBadNMsH6tVH\n",
       "xuq9692qBF8R4MGQ2bic2fGpJpPWAblyjoINnDdJa5uNGq14ID8xUIV1stCmUvDREpZmmglmJv0h\n",
       "XbmsSNFo6YVqbFW7KBoWsgaD/L6/+O9AszzkAcGWpA7ixPgiUql7mW8a/89Gjc5pvJzbK+7NFKMr\n",
       "ukI99ys4uINj/wo5BkogqRKs9l1wIfxX7stu/xbPG79ZxhakLV1MXRRRPyiitZk38C4Ef5Ge2dGR\n",
       "pbjSSvKRZT+2fDQLmhZPiqkgsvrSNeVIBJ8BB1M8A0aWl3CEuvr5omrslFd9enGOnOTc/zqQpXAh\n",
       "9gYKr9n8Cqy0AwbJRk7KvZUsY4z2ZEhAt/ZO3LoyvOGbNXa/ut4TMczWADAFDPE/VbMyY3MVhlmk\n",
       "8H66T86Mn1OeMdTVR8YDVcSxVLiBjtjr7TIETWEfDGCeRXFfZ1hZJnqfMqdbpm2O3fM5EUfKuZgR\n",
       "MB6g9N/TuTvFMbYNxvy/pxnaJVGXVemeXIh+xuW5KR+LHs5oObkFGsSqwYAIdRIV+e0jhczKs2Mr\n",
       "xx5kKZEBD2OBE3HX4INEBsW0IhRh9DyAX7j9jQHQrgRTJC8WgaKZh4Vc78E5l4zbq0oHoEEx2lGc\n",
       "zQ0Y9F/pWwu1wZVBzMWwgwEzpi+pwzALUtWy0HYNzpvf0phoQRiXOb8s6sl+MPU/LCuJ7r4TZ31Q\n",
       "BvWB6A3mjYEKW0CzGvYEA6Uz8kYejChky5gJitKq/4rU7n3smSOn7TQexi4G4SK+qqeocolLGVfj\n",
       "4oHbBwkH6oy0QKGBwQ4lG5ULojS26JaXNSFFegkOZUsydET/0foPAejOnUB96Gs/oalDnOImBCjW\n",
       "7J88IbimnwlsaBx9EUFMrJyssTfxIauXdFXQ50sCPJKhGLFoP5MflMHVege5uuKOixn5WyR+574T\n",
       "Uk33zbALDV+oIuX6wRAYW8eE2a62PdilQ0akL7vBWMNH/QqpDuP6qC18/LUzvncOk2NM6ta0C175\n",
       "dAtkXbHxPncu/F2LvlDFIBVwSTvle3vDaHE7piT0Lc5ThPWTxilkGu5OTg6tEqXq7aeilFSOO08C\n",
       "slP74GDSavAxQhjHLQ8GY5WzCgSDMen184NP+4VTVWNYr49RcORZQWqLnX8TZ2m1IyKQd68vzI6n\n",
       "KWk4DYwa3LWaB3HKZMndJhbAgBDk18gADvqlpVdQft3XU4bAUQcK0iw7Y8kDk8eQgI1gJVlhPX+a\n",
       "NAZoYyegzG3lq5amt5bbxWqQomYwMh5H83UO8JkbjQPX/xNiEL8V7AopvyKDMbOe5RlWzhTpRFAr\n",
       "r2LCSnv/+yiM2P+maf0TuZwsg4oifK+ZrxU5EXpRn/cAKLt+gT9EHhbTxi8d+UXHwLjQvPSQGXtY\n",
       "/lDkujtTF74W7KgivrY6A4SOcCrw/HEaZ/2NAiINSc1ES+FoZoReyoDlvsWF2D/VCfO1Fl9NPFvh\n",
       "yPCU7/4FOYr6z1AqslmPpX3f3TnNdWvVFc2j0DH76RQzfnWZaeiVNHe6w6iVh6u4rGxYOb7j3U8r\n",
       "D+gFuBgU/KB1TUjDhg+cQ7NS2NM/ssZeXtsR3+s1hga2cioKhRpWnjxQhF2wRebs8VFZtH9Ek8xk\n",
       "a8V5NxlwdYW6fklGASRYtNMQ+l0eh5UdnUAx3h3DX7icNheQp8CYbOQKnAhMQRLN6Ea1/Dkf79PJ\n",
       "0xAlDqh/wfWR+kTxVbxV2sr+QBtlBKGcczJi4XbDwb/RnloCAaL3Efo47HAY/bTPoXltYkf8orIP\n",
       "1vICGc402tT4I/aE04VzokgHmg1uqQHbQPj2PhymEve0u/A1KlNTHzzjC1wWR0Bj8BQDEr9WajX9\n",
       "CpmavaXNC1RGlMZ5V6qvaNakFGUr7XcViaredY2Vk5Kr8/+yh7ROBWDEbr2SlfFk9ZYyssZeWdNP\n",
       "fE+9rzG9Ka5LbS3QWWQl/O3AVUU7KyKPUrO0f+a0GmT0QjofpRUoHgWA6aREQdgmgP6K9s+ZBUvn\n",
       "0ESgjBe+4jxFh0nBjiaZrzEPrWVQzsFcxhuwlf6Z85YfdeEdG15yllK0+qjnjZX3xf5UG+LRf3NC\n",
       "rFInxjt4Qa+pcpqhzgUHKSR3Ma0ha/oMbmDLQWbmVIABCJsBhA/0U1CiBtCfZqHT+11giDEcxX4H\n",
       "oDGExKYyAsRstbsyjSXDns2EyVTPpELl7GWnL9P2AeL+brkghBBBpX7Xj+0erR9PeGUC+tQPqgqj\n",
       "LsGQJf+YRbuJAYz9Je1rV6xYmjjM4Oukfr12hEZ4mkVT1UoVYvxjy7mt9+iZ9vYWymZaiQRsdy+k\n",
       "OYKjdieIw4qca4UxWJkvccbt242vFTGtDFhAyWETi/757VvrjYNCaAAH3TkaIj4VxLNeGq/Ufstc\n",
       "ntm8wUpcKPo3ySKqkB2GqIoKL01V2yKzugyFmb6PgT0h80jtSj0ypxS9O+WqSCPyrzRaQ9U7GN54\n",
       "v1Nymy/tMkw4IVrPhjRODWw1qNa5d/UiZyivye8kP//rU7lhw7DmONmlfB0AAANSbW9vdgAAAGxt\n",
       "dmhkAAAAAAAAAAAAAAAAAAAD6AAAAlgAAQAAAQAAAAAAAAAAAAAAAAEAAAAAAAAAAAAAAAAAAAAB\n",
       "AAAAAAAAAAAAAAAAAABAAAAAAAAAAAAAAAAAAAAAAAAAAAAAAAAAAAAAAAAAAgAAAnx0cmFrAAAA\n",
       "XHRraGQAAAADAAAAAAAAAAAAAAABAAAAAAAAAlgAAAAAAAAAAAAAAAAAAAAAAAEAAAAAAAAAAAAA\n",
       "AAAAAAABAAAAAAAAAAAAAAAAAABAAAAAAbAAAAEgAAAAAAAkZWR0cwAAABxlbHN0AAAAAAAAAAEA\n",
       "AAJYAAAQAAABAAAAAAH0bWRpYQAAACBtZGhkAAAAAAAAAAAAAAAAAAAoAAAAGABVxAAAAAAALWhk\n",
       "bHIAAAAAAAAAAHZpZGUAAAAAAAAAAAAAAABWaWRlb0hhbmRsZXIAAAABn21pbmYAAAAUdm1oZAAA\n",
       "AAEAAAAAAAAAAAAAACRkaW5mAAAAHGRyZWYAAAAAAAAAAQAAAAx1cmwgAAAAAQAAAV9zdGJsAAAA\n",
       "s3N0c2QAAAAAAAAAAQAAAKNhdmMxAAAAAAAAAAEAAAAAAAAAAAAAAAAAAAAAAbABIABIAAAASAAA\n",
       "AAAAAAABAAAAAAAAAAAAAAAAAAAAAAAAAAAAAAAAAAAAAAAAAAAAGP//AAAAMWF2Y0MBZAAV/+EA\n",
       "GGdkABWs2UGwloQAAAMABAAAAwAoPFi2WAEABmjr48siwAAAABx1dWlka2hA8l8kT8W6OaUbzwMj\n",
       "8wAAAAAAAAAYc3R0cwAAAAAAAAABAAAAAwAACAAAAAAUc3RzcwAAAAAAAAABAAAAAQAAAChjdHRz\n",
       "AAAAAAAAAAMAAAABAAAQAAAAAAEAABgAAAAAAQAACAAAAAAcc3RzYwAAAAAAAAABAAAAAQAAAAMA\n",
       "AAABAAAAIHN0c3oAAAAAAAAAAAAAAAMAABSYAAAHNwAACZkAAAAUc3RjbwAAAAAAAAABAAAALAAA\n",
       "AGJ1ZHRhAAAAWm1ldGEAAAAAAAAAIWhkbHIAAAAAAAAAAG1kaXJhcHBsAAAAAAAAAAAAAAAALWls\n",
       "c3QAAAAlqXRvbwAAAB1kYXRhAAAAAQAAAABMYXZmNTcuODMuMTAw\n",
       "\">\n",
       "  Your browser does not support the video tag.\n",
       "</video>"
      ],
      "text/plain": [
       "<IPython.core.display.HTML object>"
      ]
     },
     "execution_count": 21,
     "metadata": {},
     "output_type": "execute_result"
    }
   ],
   "source": [
    "# Residual\n",
    "anim2"
   ]
  },
  {
   "cell_type": "code",
   "execution_count": 22,
   "metadata": {},
   "outputs": [
    {
     "data": {
      "text/html": [
       "<video width=\"432\" height=\"288\" controls autoplay loop>\n",
       "  <source type=\"video/mp4\" src=\"data:video/mp4;base64,AAAAHGZ0eXBNNFYgAAACAGlzb21pc28yYXZjMQAAAAhmcmVlAAAsJW1kYXQAAAKtBgX//6ncRem9\n",
       "5tlIt5Ys2CDZI+7veDI2NCAtIGNvcmUgMTUyIHIyODU0IGU5YTU5MDMgLSBILjI2NC9NUEVHLTQg\n",
       "QVZDIGNvZGVjIC0gQ29weWxlZnQgMjAwMy0yMDE3IC0gaHR0cDovL3d3dy52aWRlb2xhbi5vcmcv\n",
       "eDI2NC5odG1sIC0gb3B0aW9uczogY2FiYWM9MSByZWY9MyBkZWJsb2NrPTE6MDowIGFuYWx5c2U9\n",
       "MHgzOjB4MTEzIG1lPWhleCBzdWJtZT03IHBzeT0xIHBzeV9yZD0xLjAwOjAuMDAgbWl4ZWRfcmVm\n",
       "PTEgbWVfcmFuZ2U9MTYgY2hyb21hX21lPTEgdHJlbGxpcz0xIDh4OGRjdD0xIGNxbT0wIGRlYWR6\n",
       "b25lPTIxLDExIGZhc3RfcHNraXA9MSBjaHJvbWFfcXBfb2Zmc2V0PS0yIHRocmVhZHM9OSBsb29r\n",
       "YWhlYWRfdGhyZWFkcz0xIHNsaWNlZF90aHJlYWRzPTAgbnI9MCBkZWNpbWF0ZT0xIGludGVybGFj\n",
       "ZWQ9MCBibHVyYXlfY29tcGF0PTAgY29uc3RyYWluZWRfaW50cmE9MCBiZnJhbWVzPTMgYl9weXJh\n",
       "bWlkPTIgYl9hZGFwdD0xIGJfYmlhcz0wIGRpcmVjdD0xIHdlaWdodGI9MSBvcGVuX2dvcD0wIHdl\n",
       "aWdodHA9MiBrZXlpbnQ9MjUwIGtleWludF9taW49NSBzY2VuZWN1dD00MCBpbnRyYV9yZWZyZXNo\n",
       "PTAgcmNfbG9va2FoZWFkPTQwIHJjPWNyZiBtYnRyZWU9MSBjcmY9MjMuMCBxY29tcD0wLjYwIHFw\n",
       "bWluPTAgcXBtYXg9NjkgcXBzdGVwPTQgaXBfcmF0aW89MS40MCBhcT0xOjEuMDAAgAAAFbVliIQA\n",
       "Ef/+94gfMstp+TrXchHnrS6tH1DuRnFepL3+IAAAAwAWnJlD+2HHTlrDQABCpSX+Cyf4gElXljrt\n",
       "pQb0D3XtzwY7d0wyNp+NPDORUJswqNRkBRNrQQ2NE42gLeNxiAVbPoSKN3Te/0ZcQwiQ6YhizUqw\n",
       "wcDBUZnWNLmXRnf8502vmLZ4efRve/9k03x6A6YajoWRt59q4xAKXF/xv23RBHGi7or43N6QlVEO\n",
       "Qfc786rvMKbiKv9Ybs8bzGW65CC+YcZd7SNA3+5BQtDtY7sQ/RkkEvs4WHn21+jwMb5QZxeuRkN4\n",
       "WAN0GaON2xMjS4bhHIzsyMMi08F8X3HQ5Fni0zkyM5gXI1Vak1J3nLzld0V2HYZAI9xezTRY7cWM\n",
       "97VoVWI0W/yDe4f9WA5+OuRuFhawsOLL7SsrX9Zf6v+l2s0N+4bNlbPEGPEVPw+ZNRd60X+veDdC\n",
       "yXNdFxymE4lWMz9Ex6BAIUUv5N/Cz8pZ4QDK+fqeqX/bpnoqAfYKOS3KyRRlYA3VQtqeFkw4iOPj\n",
       "rNoacSHxe0VcQ++gjHHmknFHquq/3+sWdv4xZcaeKwOYfEWf5kFzTDSWcpJ7nrQ1eF5IDu9sjr1o\n",
       "TEy+rQwB7Qymi2GEox8ZmO4XA5VTK2ogrIj1EhEnoPv9TPqPOYvgPZc25VSDYBGMwnI0cXcUsicz\n",
       "l3C/GisW/+ibHOTwD0yb4tI0MSAJCrQD9Pu3e69Miu74b7tiu2XpDPe+Ea6n7Fw9Jp7eAAuRFWpu\n",
       "zMRXpoIgEz4GH/9bwyYdivvS9/VoXDaRYikpO5q889pY9H4xfC5uKUFSBeGLqzk/lv61GDAeH4JQ\n",
       "CD06S/BilQWjRCHfqRPBbIaUnjVcECLnR9GmB+hAP2vPvXsOjB4WYzROh+llvALrnIe4s24vwwXk\n",
       "zdjhL02kmjBY9tL+d2scAU35cO/fOG/sJuf/tzZs9RxmztFNqAmPxW2aHkiwtCngt0JGdpaRL0zu\n",
       "Hjcsa0u2+DbIEPZmtXQcr6Nfqv87uMIcT2wef42138HSXzALAe3pEnspnIWkokTaOArhEPe5Ybfp\n",
       "6mRxpDSYhcFRbU8ih1K3uXTQe+vDZdXZJHyMo5GVMmHPrq0HB32NVpVnLC6tX1bNZSzb6Yj7FgT4\n",
       "vN4y65TYfOE+D0IKWh17NUKDYqJkVKvesMIazk0uL0cqbLXcPLaaXHBWX2/KJy4wT8SJB80jzeaa\n",
       "5qRF1pWXh062Pr1Lesfl+WgWXacVmUpdtbWQ0NdgscftvI6S20AEGgcb0wQyjhaa2j3yfmB47Xpm\n",
       "Zu8Buz6RZEKrlBY7OSbC08aB5ddTgWhzg5bacvB5mmRcbO6oCBQnJ9yyED8mDO0/uYKpqR3Evve3\n",
       "hHQqSlPueQdd42B6YyAJ+Drgy77X0mULDGim8YsfD/n+O1qIBer7GN7FK//Q07wqlDupLENd3Vra\n",
       "gv+LTg2KGwDNYYDU2nM9irJDx3URpOsUx6WhdV4M+JRWwfSPM0zARA4npKrRhk8syBwvUJFVoYXF\n",
       "ue1lxMeOXXlNn5/U+qGz4cd7l+vGuN49WtVJ0PQG43i+gIh4Q3AZ6hUVqzpeRo4btXrqkufymIQE\n",
       "YDerXKJLqhlsLA/mpRRCQLH/3NObloc4zkF/tl2m02wYhbB3izcYy3rg73Wn+umPzD+3aKbeHSSW\n",
       "YTzo/MGetIbgfE94/ybLWtG0xmHoKdTgriEicI42izbIQPy9EVFfg4zLD+U6En7/2ycV/vX0WtSW\n",
       "XZaDLDQ4dfsha2wsnWJBjLpW2igQhPNoLH3LXxg29Xl/pX3uGUl4mcU6F2diBHFfeYsUDHeu2hFq\n",
       "xdUlT5i/VS+dpLHEoFfHq31sX+hbcR6Y5N20XeXGNg5KLyLt+6s9HjqN3bvOnLdTrqEopSCnkDq5\n",
       "9xfPvglpgObeoHHB5OBe+xrgUB0jAi0DCEyUGe2bxNvXYpyirhHcsXvho4FViYnGFRV1FnJgUXKv\n",
       "moJz5/lq4v5eAmuIvdOOpSp4ATTzNRGpnQcACBGdzYMjPRqlB+Y/1Fzv00URhBZHVIBQC+EqlKlx\n",
       "NzD3+gFYVEuId2OsuLcTDR39Cd25PDOwRYEzNZdbiWRWI2QyDEIdm34Z1WCJnxV9oQO5EEb0QSaB\n",
       "MrtrBwUdpBLkzVRFPKpdT1kg7zqFmK3nBresCIi+buae+TCYrR6qOop6nqA7gUhOe0YAOXyhTFFJ\n",
       "+86AkvwW4qEwePP9wdNzJyUWl+lyAr4buxGcDqSeKzLyrj1g1BQSUh4NXwiToch+xS1s8YEdayc/\n",
       "3yUYOv0sheMpTv6OHnuLiZcThzSDxGIAPtFvNvMZd/NAHa9kltb3YsicBV23b1kjqnnu1B2gcZS7\n",
       "fa+/9fI8xuqFYYap/s19iEkiqpE7fCEThDzvF3S7FZAK7xrOeatmyhDt+1ZXrOkwahfjJTJ+Eori\n",
       "BVduUWJtfeUH3KO++lDacWRR5s1puwpNesiWJG53TfN7icHMEiYO//eRibS7H3n2uI04ASuStEa5\n",
       "HPreqmBzCou0si4W/1Anf+lUWSpNySyoeOT0xHUQ8xu+VAZKQpQ8XBrJhJ1F5ievjIwCOKu8SxCo\n",
       "k+aZuDtheCKipCH8x0jo7rnmCunMilw2oP0wqGR7BDPWiwFYT4593/Cps80ethmbgE6mYP7sOuIy\n",
       "74gJg3HFsRVkX2rICJZhYQr/4Em/m15f7VlK3GR9oOj/N+W7p2QUm4fEI7k7AJo2UVPETxScJliy\n",
       "EkYuJ0o9pHrD3iiT/Hg8uCbud6jfSgxywNtT4JRaPVBCEVZwreKPWb8dnX7u3qrbRpsFO+J9ekkd\n",
       "ZZTGkQOuUn14D9RYfYpKw3MoEypEe102iozcPRqTLdgCl7v+7qEHX6uav/pLFW/KZ4oniAh/hAlz\n",
       "2ILDDPUABN13FUB0M5fEzHUaPKybEIyYB9APxhvE6OUX/19arZYAU/1kzMUZFiAFNWARfZTYOSeF\n",
       "7mzT9ngyEbjArafus3s6bWNnXof/yHfazI2b2Q8PohKvEPfpojYPoGTJ8Ghi5BoJT9GOYEP+Qvj5\n",
       "6SDKgK7RMxp+zn1F8LaiGwxmGCJ2FKIozDfObvpwdB6FpDZAZKbys4wJrWR1ft5URjKqp1hdaOVv\n",
       "fpy0viUssWyg5+xsg+Vl7WuvcrvWtJ1iWIzfB/hSieW/cG+/D9ldhT3bYi59h+5fIaYj2xdO0F98\n",
       "WrkfHEpd6qOf39UByHZf1vfOqY+cXKnJNI5RPWe027bQP2aA1ce012tUdit51JZm0SalQp1WPAkW\n",
       "s/trZRzUCZNfUsz0Z740ylMflxCfXBL3jctUYuiTff217WD+hDYM6dWGYxCAw2jiH36Yn+TfSRKr\n",
       "vQHIqdx6EAf3fiKmKFgGWimmOuSIWIBEvs4F5yUqcnOa06KmcO4PPehb/HbgXJaBPW/wyuVYDzOT\n",
       "lb/FgPIW6TG3Co/nXjY4MJ6Ab6IAmoxdkvwHaXJ+Lb1mriVTBCtA0YhxdhlE+GlSzxOa9gNwiarc\n",
       "cK25ZRCarAR06dIzC+HqQo1wskcQDY0yqgOGpNNC8rLZTgvgwUPDZfZsyfsvGbyEPsJLp97JWMZ1\n",
       "2grk2EjIlsLpDoj3nLyEW+AF/zJrKYa1JL5y+P1qq8/FaFnpV37PgiUVk4CH0yVwUpH/Syf6Kgnd\n",
       "9nigTeBRro66FOPLCqoHM4vrbv59wH4pb/2cd+gsRa0TVNwdI9pF1y0kFThrsAIfAfGsFuq1owRQ\n",
       "kfRTYoC3yR1GegkT1vG5E02RGQaix3ycTZF1H3lvUe1K4U8eyDjktGpVsc9PBl74GiwCp9YLPLwy\n",
       "xQ+wOOuZ7AV/a1beL/YGQAyQ5etLzzFA6YhoqlceX7jvvrDQHl6aHQFKQuAlvKJsrU1BrqB5xNGW\n",
       "PfGFjaBntdjaOuMa9YTa4Fzd5bm9yqPgEI38ZVGgTHY3Oq86zMOyI2+qzq5V2jq1+/GvRJkcb4Km\n",
       "rcCzvHGN7W40lE1lxQbI6MjSYKxz5sQFF2uHBF7iC8+s3hdy9cUqFWHgF7xmbVhkFpfEfacH3hkA\n",
       "n93L+gqFi9S6DRep/6YXVzOKXOLwufSnmqjM1kWjbbS0nP+49nYVPYh+E6UfqqPqxHX08Q2V3rTo\n",
       "9P2t8YSHlDGtBiXO2aG7bGh7DQ6VdlJ5MhX1zNzNjakn1GUXExQMgmmZc8pMqvfICe7Ouofoyn85\n",
       "A+PgNmXdEM6/LGlJ/vk54VtDs69Isz59mbqfBUwVTIwxLDWoXVoY6sTIG2jkDXuse3df9LRlm+Wm\n",
       "oun0OZn1p7PVje1BKzeCzUktaO0dzknGDy8Y+G6v7o8HTtmuDKBf3TEPtRZaAVVlRRMkj7Qa3X5x\n",
       "lWhSWROV2UN3krZNfKpm5WiQ9Hwd76ieIT208gkJMhHqnTilOtVW30GnNnXjH+464kdyRVMSzLWQ\n",
       "MT+t9CFsLzj4CEWDKZ3WJoLDeEX8KOU37jrA3r0TV8bB0EEUyDZJ260N45K7w8o7b6MdYJ+cSaTs\n",
       "Fc8nWhK9I0F9K1RhCbw0tYdFPWPyoTDOn9YVJi9rgR0SswAnZYj/0GYdQ6be6X/a0HEbdhK9j8xF\n",
       "3q4BZ7HCOcNgs3MqiJXNLQ/3CNVOyvM61aui3DAQWImBY6b/5JXsj2RGMubPciEX3bN1PY9qqDwx\n",
       "YXwNYNl2ehyNAiPEjuI7zPFO1c7SxaIyTVb2RGJfVRlKCR+Mex1I1RTALH1GNTdZz3jm8/ydCe2g\n",
       "2Xd+kOBuPtdLOxBhE1k00QFSt6qfIi4kiyl9A6/sQdM2gchbENuUTTdph+emqAWZvL+AjA8i4cqO\n",
       "ZiXJvRvt22ekmS5b01ouBqq5o53TVCEW7NzP0AxB13HszfNvz55DSWXmCbMEFvr06N5qTQO8nL5H\n",
       "3O8HOX/QS57xZE8bZ7VP2k5Fada49V81VDJ0ybnxD3dU+iPOz5bhoWDlpDlQjlXcD4fczrgJ8Q5k\n",
       "bSoELx9drugYEgjIZfmryjsRXjCu0xch1jWUy4wyCQQE9M8aBeysu9O7eNbdyzXtEbClJVycMFIL\n",
       "hieDp8dKabKCKcstudjVO2iIKgSxannBWIpQ1besVxkkmxs56Bk6UbeJIp4MyJ/aN5SXxMxjzZOs\n",
       "KSxXLa0EX08QW82BuMhDxtJi/TDPLM8vtolwZt9BXTBSNEvg6vr7nRWaBBB2zX4UBbcXXQvGv8//\n",
       "NEFoXTsID8wDD50dTwL9mGbU/7u21S+FNVkjHzy3FQ3uQJoOIp3inb7KEuPCxBzviQetB1hC7ctT\n",
       "RaGXCBu5Wrc6dwwWNr/5cA+6mLxzzI+6mC4dYb/5tPavUrNwNNBEEczGV0jvr4zxi0KCI92Ql5vY\n",
       "gltghy0NQZ1UHjelOaXgznAnYvyKVwp9nYzr5NOD75TQg3PNSpO08EFbQTcQ0l1IgbMbYCKtlVmJ\n",
       "xEPlfRAOGlLe7tM3T+74tasSd3xALX2RCBCmdMu3DplLCI7m7SfaDSh58f+tcpTSkeXWgJbj7Uds\n",
       "w+7S9rIZTGhBJaTkZnHeH2YtNLBcVKyrpIdsaqjHkLiM0FV/RvlO0WZOnKjjX4oKmGLxBw0itZeR\n",
       "FwJd+R/WLFcH4yLe5bUDS41Blu7T+FdGdU7d+XhrjYhOMlFdk7GXbtFMwR8AtDJogPBTc6hkMsyq\n",
       "+6P+LJy8niZzGMlUTU1WjCsVZ+Vx3nhFj4JfAz65GAweNQREvgw6n/TY+k6yvjttwcB+NcYDX1bc\n",
       "Rmh3HQNZ3QXSnF/PM/VWjWG1s6YDBpR4sCpV4+0nwN6IgOSzuMhPEVCXOj28g4m1NSn62mAK8L3v\n",
       "rA+HP6CEV3YmqqGR1MXeoLVwx2FnWxNJqMftqouGEv+AV18GllhAdWLWxT8FqF2LkmEbP+DkuWVi\n",
       "ITkvFGrcAyo4JLKLAK0c4td4LjrZUj2zoHgGbEfjmChKKHngKt1TbP4ffl71o+3ayszzn3MBgLhl\n",
       "+QjOHgYAHPnjofReR9ckW9PTGHQ+x/fi9qgstnbk5i/z7mlIVVNqJgN+wa6wTkOxbEOg0Xx8dSYn\n",
       "Gsk5U4UgteI8y9pOanEOGQDYRhdLQGHo/CCP0LlHzpjQgqfd1aKxapGST65lEdITQvVbXmQktQIe\n",
       "qIrkEolCT9jK0AKDo7uR6mr3DHg72LxtLFMFeSn6BZGavAScmjXdSP20XHEeMIyEEKQhE70CeHxU\n",
       "XobJRuUmCXZFSGKyANA9gkb3PdZ2byX827L7zrSXGoyhUAH7IGT4mQmsziUPSUnaelem8e8y91QW\n",
       "w9F5BK85pKI5GUF4cXpzMsquP35cN4YRqNYVdeuQBaqAdmBq3zzB3YPsZyN8KjdF6T3UkQc10Z0U\n",
       "DfY+yLh9bZlDRdbvheaiz2wR3r2wv38nL+/FDjz2VXoVRczrPKQg5vevoX/Emr3P1MNQ7wNt+kSj\n",
       "nyTv0i8S9hIMvYDnHb/tqv8Du84/5RRhcOfoozJ0KOrh7CapDBin/GvrY3sf+uVNgaeZd31i4eis\n",
       "2zbpEY+N51IWTuXC6EMTjP6d4zWqZDoGSySilX3a9vm3J+OLwPBlAqRrLG0aL3+5RnsPzEpTBtje\n",
       "MaRLLVxzORYALwjVALi6MbVnc1fwfcgYQ48PSa7Xsj6LldPsihobtSFKAsMOJKhxiZ+b+CXD0vv5\n",
       "tIDOHfoHUwzeC4oNWso2tOp5c1H6LgJKNhTheiSKKvDbted246FaeOPWHkKdraeh/H4hh8Yp5m97\n",
       "lX2XfAWj9/iBnnuYKSrk+swVg85uxjg65E6PGQtePhBFiMbzqZHMBt0CKRXpO3AUnuyrg5qHKSox\n",
       "pWXNBjcGdzkCBe1tG7zmzBajTDSevYilxq4VxclN2HJ9l4ksf2QtRGu1bcX16H/eU4G9MWFvtxLb\n",
       "4MDSv1TGCe5OjNWRUgVhcQ5pZj0mGzznD46nmlnRHorfqx+jFwZM0F5VyAT5l/PTNH4aLLKkZuIo\n",
       "99m1G9AxapVkGYKWqv7m+X6HfVhef4I5bV58rZCZYytm/hSLiPUXUB9oMQtSVJz079XNGenjSS7S\n",
       "TaEHNi/Isk1sjlUuYxxPA+R4P1Z3ufjj2wHVrXaiW9xAhJ8D1tHBARp6kJUW2K2sfgRLCL9hb3vZ\n",
       "cTgGonwE7hL2YUnc5sYEv9VXbP0B/unORC5B9UgNKTIcU5uNEbHOkaPXhma7Fxon52UEh6Hti6GK\n",
       "EuxyDyVjd3zIuUCpWkM+aRhDuIXECXjW3Ge7/s5HGJW0/PqBwY56kqsQiowtrEE+SUMh95ntAfbn\n",
       "CIFXFnN5dgqA28GLnROo0G5JBrycoUNIJbC0/FI+XFTrrH+x3jkVuk6H2u8ZyKsB2YPy77hm5+hu\n",
       "gN1+n780YcjiBv/h4+RWIZPTVwTBikFERWrkY2WOOqXreOE5BX+xFXk769q6qJRq0cAaWrsr5+ho\n",
       "jzPJqgPSuiptNITtAIrSgwFYleGfhF2xAAALXkGaIWxBD/6qVQA5OECD4ASyllpSQP4KfpnCmRM1\n",
       "aJNdVtS+ofCh/YV9oBryXAXMadgXhRqw4aK2MMChmnj3bTMWzBl7w/bgykoQDZn3ZBu1DM6CUSyz\n",
       "+zGMQfxkf5JVKcw++DLH26tgu+IjOX3RL5CmakvM1JCFdf+Te7JSpSmesyERGa4+Z3puDF9f25R9\n",
       "YLoIRLpSC3AzqTFsjGuaK0bZAb1v6wVlNxP29EfxUpynk2O2+XBhwdK3ZmDxSqNB5wSTh2mDDpbQ\n",
       "9/YxGxT+n6bOmBU8q3RhrUP70q7P86epuq+92OEUyxl3eBF3YKchy1Q3WmStwJz7ahJPO8+Ql6C+\n",
       "EUbI22NKN+P5DxPc0hprdoNiqEOnXjp+W5pOgZc98W0PM6q/6tdnTRQaP3u8hXoygANL2TLThy3C\n",
       "HV7wTYcGEKhb+RSu4OrZcUi+ARweW15/Hc+yojkJQjIiFtAq7FdFv1vwavjpnyg9cXTNjcQgi8p7\n",
       "5n/yr0awNO9EmIId1kDgM2GEJeKksfandYLJHy7c/UfCeeEgV2KDnGPfSN6X2EvFa3kzUQhM+Emq\n",
       "r4elpdwWX1ZYMA0f+ihAUrf90BrCYdczLLP81aOEwgogua+h+Fz63g7SBPY6fkYUF7LGRpsiTQXt\n",
       "MTAy7//7+DkPCCRbxzObPqCNqvYX5mALNJJxi+JEwwxDf67ZSqGYWnzDIO6Xi58niqMgfTv+w0Ag\n",
       "L25CHthmS/ScJSbw11chfGxwrlLRpq2qVqWU6NHwCBT75rUa492cMd/nHoorbr1Umd777CJ+fHys\n",
       "QslKoS47Nn+TdPg0oM+5Qoq1c6oR4f9EtRIKikPxBBpZ1pNHyWHLfCwyDvZo2BqBRqSg4B228tAa\n",
       "QiSXVdyfFWnUwNSC3xu3/RRso2NCr405Pmm9hhaeuIGSewwGF6GfSQRifQYT5JJkIlrxsk2vsW5c\n",
       "oVHT/cDYHOVxjWG/4gBQK0Q+8z7NGC4PVcHaWovsqjOSZd/qZOI1zCS/30FtZ8krnMyuDdVQELLx\n",
       "JFSnda6neyfJXDwTwUQ2aLpvW9iJMltzzL8JjHHFx9uJR57pyVLP8+uWId9KgQsRWge+gM7lgs02\n",
       "vtil09D/PVOkF0f52JT4saaNNPaBCh231ZvPas0PqpsUQiGYQtgGbM0U2fa0q3ls5kvV/YMceshB\n",
       "+l+mM72qN5DuSnXn9LXs75pWZHMa5RXbEfSRVE2mwNlJK18qCCc/kZK+u+ok5X6kvUDK7k/MZFHo\n",
       "Eed3vl82AHuRVRRucpSrTRttwaSWJ+YzkH7ZE3SuakHpp5bhj9rn06r6733OIPypKTmkhl25LMm6\n",
       "N9dDlJYARmRixD/cCC3ehUbr5juclmef22+LLkCMTwbJ6/u5qgb27R8mgykI3J4wqzH2bmCpmIX0\n",
       "/APgYsmYyfnV4io0rzQKnXLWcy9hG50E2r4Im8R+vj5ZZiWttlGjxB1xAH0DUSj+h21mNLxDXNpF\n",
       "sDowm978oZZgo84rfVqEp0pTt87donMRzJfmNTkp+eVlvw50o2Cjm2yKx1aLmRr+379SunaCA4uo\n",
       "2GUIAw76vwsMLFp1Rs20NrpUoPQJJbSBOaDLfVTH3qZcXgojHa+eT7Cdhn+1E0mJbZSvtlbzpEdF\n",
       "n0U927se9lLwMuKZ1txSinc5wnxwv2eSSem4U2oqA0qPXegLLCvYqFzj7Wcer88uIVyOkbRGble4\n",
       "XNfrao7OLwT56HKaiPadob6YiEu6AHz+cRh9DyDjNsQT7ia7BczalJ0HDbUkwTyBIpplgQwbrXU5\n",
       "EdvGal3A5Ga1LlrihGpT4Aqj7gtWFjXQqk50lwn82kr1XaH+VIvcaAzLPP7/596aPO5Euwal4dJp\n",
       "KYVr/0O/lMdmniyvfho70yMkWWaQp2aVvLqzKl+03imixERm/Ytk111ehaQffCXJ6bXSXVTSmLVk\n",
       "tC0pVv15dtyztlWjSUDSrLW2wGPF3rVoeL1bnPHjlYVgOLNQM15zx4IOql4hn6RBi7/QPu29bGZq\n",
       "J0KdEYOfi8QMClQn69B992ru7cL0HdiklhpN3/H+su1iIvVh6cZHFfr4jPTaw+o9tQKRdNuwTPBa\n",
       "0y181TwWVH+/wEAQtrtvxDY9nFhhWvgExRyDx5oJhFxrFjM36+oxgPNTexsj0pOmPYor3RrDFCZK\n",
       "rBZFf1MUCu5lhy4p5Q9995IvoWqdFBO24Fp58CpncR71w5uz085LQDlnMGYFShhPq+Dok/n+VhcC\n",
       "L7NYL7pcUX7cm67qQpEL6XvyL3+qN4yipjH15ZnATDXePBktmKnafDOf9z8CT5dYXILm7jtXml0/\n",
       "hQp+y3Jk/FNODJkxrKLo6qwzkxnJ7jUQhCO80tQE24ieg4fKN3yq1DxruSbXA/q3DzKyqITVo61L\n",
       "D7uRpafg+s1/aKJOBzSfZ53JGucQFcGEYWSSIarC/tERPHsqddrBBIipfFACCYNBZ/pjF2zXRN8M\n",
       "tsReAICWIlGl9JhoAekZgcA12SjonmesHDNf/4MPrgzuwXRSSMnuG5JTM7L9W07CUl8EVO0i3ayZ\n",
       "Eut4fCI14tindRtEnQcFYlG4yspOp8/aHYhcwoTsDaq+ALz1AZV62P/KMmnu94LhhV4tESuNr9ZY\n",
       "el54ixDbFau81FdUTwGujLyMKJt2ovRII93dnT2CytdVHxeyRc5EkdSg6wbfB3wThjhhitED69lu\n",
       "fANQklsHeY0QCDEWwEE5jKyX8VuwoX64sUkyN+80ZFE6O44E7PKy+60q3zdC9048V5hyGF/XOpTM\n",
       "AsT1YxAqY/RjwQ2RYL8tZMniFSKyJ+hcMXRBwBSeUcAckt5KnT5/BT+/vkcalPTIlyzMGgRwt790\n",
       "iMpj+Su/qCuZy4xfOT/pPdzjKKihvk2IoSw85cZXHqnOXQL9Nx2vEJMMiqH6EAWm1bKgSElzT0O3\n",
       "xIK8ewNzd/zF2R9olesjNkXAL91ytER0VPDaImFtEkWhiln4EDs7CZnIl14DRzOUtPV7gySvUwFO\n",
       "kPMM+R6BJzStLgLNQhWjgNWiLwWkiIG7iOvZDLQ8qFhUqN115hvugeRck9Ablc7w2ydh2AoNra7v\n",
       "ViRGUqWAT6ehMAiVv0EX6CsCeafdyw8jjZa3YBim+UribBQ3QPnsTAUsYbouqeI0BZ1LOpRBPEuw\n",
       "8nq4q9xD9AJrE8sGBA7VrXONPtkO6me8FuZySyvX0YnJ3flwrDM3RJbljf9gQjp+jmmgK7aD4PeN\n",
       "pK7vp4nCS1gHL+h7l8rbaOdyNeF1OgMvnFl9+G96NbpOFs4CNyrkHRJCyDuemwNJVIbeQr+pgOfm\n",
       "i2B3ziSayaZdpYBgi/IhU1MtX6sioAGQZiYFUGeLVBKLtVtpV4/Phh0z0DwTV08157g8QdSGFHdh\n",
       "eYOCEKmgTnozZ+Cd4ZewYxA+v5XL6BSxmqpXWKX0YMUjICuCLvsfN/x0mj/kTYh70Fu/K6S5TA5a\n",
       "hGamSZbzRwHfEXUBS3jMu5voRcIHTeeBq2EqgtMVJQjYjDa2CW577qRNZKnTFVWkhv6+d/iRFecm\n",
       "UAuK4VuzYb6q+3+L0iWCypLagah9SPmh/t+WZUidE3USNe7ajQUwzMOpkAiwyJq1z6rUlzt/kcqU\n",
       "16iuEDe3pmxpm0bd3483WD/VUcRTT0NAQbqxVWbGx6rM5tgbYuRFQTppkOWuvdNbRytLF5F/rd2W\n",
       "P6q3kBwZnBO3EYDpQjCc/xo5Q3gJ04iEiBaoKAY+WfLbQZjIdaJguqvm63l1ulAzCr0A8U5MAaha\n",
       "fiW9GtX9LwYjez2xgCHyWfnKhrCxZ4U2cBC/iOq7nqsWtprzLJZB2Q+OXCkKO41V8QMKsDjF8BfH\n",
       "+wfl4vO6HkEGtGPVSKV4PkN/4ZFcWJxTFC+1porFgAAACE1BmkI8IZMphD///qmWBx8K2vGJvP+d\n",
       "4oAAEqB1dLlNn36vTEL/kgkScQHfN5wGABX0lQl2qiJFUlXOIvcEnmOFqoGcO9wPrtzaXScV5Mh6\n",
       "VSBQHTHCexPB5VtIyCa6c1YANtlPSqMQgLASWpA7zYJak5g0Y4NX5RzfPMMRF1u5jnPoPS8JkBTy\n",
       "gtO8TUp+qJK3brXpW0hXZ2RtuiI4dQ0TIIF9Eo8MBV/900PtCZ8ZY3G4ndUhlg9yhgOyFpgAY4Cu\n",
       "vR0fPTHUBtjhUzmkx2qdXN9rGMVZpB/69ghNwSUFm5IebAK71HdQ0NKOrzpilvVAYxsSbvtYhPn7\n",
       "p4nJ2doIu01m8avhQfsNaR68EUtKABnvb0CmMRgeiG/revJOoysWZEbKG0KngO5nm5Zy2C5QiG3t\n",
       "kDRA8Nx+1VaC8TjrvIfBCkR60DS9ssVmWzXxv/xVcZaf/CfeVUTwSTz5x40wiLg0hnPBA3IpDzY+\n",
       "OrL7j4DdSkdt1NEAdAnPqKRXHQHZ1kCwYwHlslJmeM5SJjcRk8S3wwSPqoIFGw44ne5hgl12MA47\n",
       "bp8Ad2/E33/Zxtf4GEsMxUo6Px5CZN+LmnRIPOe3HOa/VZLgxujHGtLUzKrQ+D/iV7kGForPRFA3\n",
       "l8M6y7dzDsqGWolRvMjboZHKruSD8ndNPCxpjJ1HxzGxKEjd5kOg7V8AAdjRMuwj3rK14RQ/1VWQ\n",
       "RMFnmSdfCPHtMSF4mG/6sa7+uXP4djF02kkF/WnZuvSHyPdyp95wZr05eEy6Qbp1SPEtEgQsLmh1\n",
       "MAscRLvGmTfjsyGkhKVMFTdbhsmb0J9OpEAuWsnFc4gm8qt9qc1126xZQ/057pq80NnHEcA+2ddX\n",
       "kMq5PfBt0aPjzpkUgZ8pntEljYY7yEDQiY+34M9dnloxmpPhU4FB/uFr5PGLIyECYtOumjzUUiKx\n",
       "h/IXM1G0AhA/RY72UQ/FKCiaTJOOhW5JJvEzCOsb0+O+Vk4LY6bsSYVkzcQ50fvO4AtYl37Nmolc\n",
       "hC+6Uxf/OIWavGzPt4EqXzSS+B/fTV0+ZW5OvuauYEaFQTcxj7rZfWu7PkLmEnBDxEYsT+6UC2d/\n",
       "BytGWop8KB65+kEtJHu/Q6RY5oPKBiBuBu8tgLRfAkl6v/HqUp86MZ1zoWaWdPLp3r36EC5yL8IV\n",
       "j83vcOJr7PHRDeaGR3bv0VyEO/CVwCMp1PRp78ue3xDWETFgrJUEqpsJQXBet+bv9jb01SXvxpFM\n",
       "VnFtNhU7OB4WA7vKt8zBulWP5GAIAd6/UjhjMDIOwlVb5qAgtg3LLYoNDXc4ir4+DPS8XgbJRoDf\n",
       "il7C7D2qE5u7s/7Rw8vIgM64WUxkq94PYXAzEvyizkN5n8ZLpClpZsMlEuXMbiyRxsy6+0DpjO5B\n",
       "lFn4lx93e8uxwLjF4pZXRxItPN0kDo590gtrClmY7U7mgbC0mdpD8BKOCR4HDVORRzE1IvmnqKBv\n",
       "NN8phsllQG8CJlULQJsRDd7y/vomHIxVspaK/nHMx2cYK+os0zEptKiiQhk4bwIJZYy+5wQ8MPE7\n",
       "YpqFdshYk+MZmmAVS2bXoSFCcKf5uWYA6tpkEdHG+zaAv7TseyzCm4iY7Wzpm7VMxU9N05D5hOr6\n",
       "aItF0LgBpJTn7ZbKHPClQMVvWxl+Au/+PKYcy7CPGLFhyqldWqMDWQ5bdBlbwZY9LpnHUzK/krIA\n",
       "VZtEz3f7SbT9ci1+55KVwI6/NW8dEBkpZFGswZymi2rn2OD0rKLFccDTWCuMoqgl1vzwxiWEUhm9\n",
       "G9S7wr4ObKk7I3IkBhzS8S+U0/yzc3AEo4IN2XPgdLnyZzG2sCmUskpR2SjE8XG5ib05VeGiQgLX\n",
       "dRO1RD9NycqQUaBCyXicD0FHMlwlmgXziNmLvVdoYBqgnPmx7CyT4tUlH+tXfTMfpio/8z8B1l+m\n",
       "UR1YoNbz8/NtZ4BwKrqB0jMx768rcalbs/sMa7k5lWGI1NMmt5NTkEqQs8CqGVQ6az5rJ/M6Ei/5\n",
       "N3SBeBJqtOqfKp2ibdXEYKdqffBPpjTgM2dW+PptUpsc69pE13c/DfEKDBtWhyQT9GSDA5e6Scvg\n",
       "q1reyK9lHuJrHKKB7Aa6pyGEmY3TIyvb/bMZiQu9KtSw9zwwnsnFQGQXpimBbEYpX6/GmgeF3vuY\n",
       "doeXeTv/hiUfwjD9qcaUokwtOJ0HPuHlzKG0GMg/hFlFbW9CjbGwp0HHteBYl97ZTaCiOFNjoch2\n",
       "x6e4z9t3xG2053cS75dT/ShSPb3NVivURFv36zz5NJMq/eBuiXt2vFo/lQfVo72vZ/hapFnsf46S\n",
       "zPulnwwRFK+Z40kEvaNgxFyDeQKT3AL2YJGRO1nwiHUUkWq/ZKNUqOW7MB1HQmnENkZ8gvgWi0ga\n",
       "A7h2XqTD7z0KNyYmH9lQW0NfHIEud4NPirllHpQwbdPCvvWgsp61dgEIPACy6UE6dfErTGH+Af9O\n",
       "xSgtjY6ZcRHuMfUQmJjEYlM/DB/Vu8D19tGD4ni/RS/Q/4dwd05+ebYdB1oqtkY0ab5l0+ncx2At\n",
       "dbhT/fs7z+zW/qhH28EZmyZ/b9R3d/mBagiK02K9xgxxIR8bFa+2yYTwX1JjMNLxm1q/i/5/bWTU\n",
       "+2vQ1nrnRW/jzaztX9Rz+ILBEPGgOfhG2ogjB0pEAXVGj+ZTE1Br4hnpb+gGWNOrhIDagCJ4F2Mh\n",
       "R7BYPcwPERBxYoLUbgdRW94YlslsBxuUbIiZuKHqg+3YTKMtFHGIw02kdWNYpl8cuvU9HxPPsyy1\n",
       "3GaijVzKT+qN/4+YtSE0xA0pB8KbApAgeoB9w5mtt2azs2o73z4fkmy9F7U9heqm825rAAADQm1v\n",
       "b3YAAABsbXZoZAAAAAAAAAAAAAAAAAAAA+gAAAJYAAEAAAEAAAAAAAAAAAAAAAABAAAAAAAAAAAA\n",
       "AAAAAAAAAQAAAAAAAAAAAAAAAAAAQAAAAAAAAAAAAAAAAAAAAAAAAAAAAAAAAAAAAAAAAAIAAAJs\n",
       "dHJhawAAAFx0a2hkAAAAAwAAAAAAAAAAAAAAAQAAAAAAAAJYAAAAAAAAAAAAAAAAAAAAAAABAAAA\n",
       "AAAAAAAAAAAAAAAAAQAAAAAAAAAAAAAAAAAAQAAAAAGwAAABIAAAAAAAJGVkdHMAAAAcZWxzdAAA\n",
       "AAAAAAABAAACWAAAEAAAAQAAAAAB5G1kaWEAAAAgbWRoZAAAAAAAAAAAAAAAAAAAKAAAABgAVcQA\n",
       "AAAAAC1oZGxyAAAAAAAAAAB2aWRlAAAAAAAAAAAAAAAAVmlkZW9IYW5kbGVyAAAAAY9taW5mAAAA\n",
       "FHZtaGQAAAABAAAAAAAAAAAAAAAkZGluZgAAABxkcmVmAAAAAAAAAAEAAAAMdXJsIAAAAAEAAAFP\n",
       "c3RibAAAALNzdHNkAAAAAAAAAAEAAACjYXZjMQAAAAAAAAABAAAAAAAAAAAAAAAAAAAAAAGwASAA\n",
       "SAAAAEgAAAAAAAAAAQAAAAAAAAAAAAAAAAAAAAAAAAAAAAAAAAAAAAAAAAAAABj//wAAADFhdmND\n",
       "AWQAFf/hABhnZAAVrNlBsJaEAAADAAQAAAMAKDxYtlgBAAZo6+PLIsAAAAAcdXVpZGtoQPJfJE/F\n",
       "ujmlG88DI/MAAAAAAAAAGHN0dHMAAAAAAAAAAQAAAAMAAAgAAAAAFHN0c3MAAAAAAAAAAQAAAAEA\n",
       "AAAYY3R0cwAAAAAAAAABAAAAAwAAEAAAAAAcc3RzYwAAAAAAAAABAAAAAQAAAAMAAAABAAAAIHN0\n",
       "c3oAAAAAAAAAAAAAAAMAABhqAAALYgAACFEAAAAUc3RjbwAAAAAAAAABAAAALAAAAGJ1ZHRhAAAA\n",
       "Wm1ldGEAAAAAAAAAIWhkbHIAAAAAAAAAAG1kaXJhcHBsAAAAAAAAAAAAAAAALWlsc3QAAAAlqXRv\n",
       "bwAAAB1kYXRhAAAAAQAAAABMYXZmNTcuODMuMTAw\n",
       "\">\n",
       "  Your browser does not support the video tag.\n",
       "</video>"
      ],
      "text/plain": [
       "<IPython.core.display.HTML object>"
      ]
     },
     "execution_count": 22,
     "metadata": {},
     "output_type": "execute_result"
    }
   ],
   "source": [
    "# likelihood grad\n",
    "anim3"
   ]
  },
  {
   "cell_type": "code",
   "execution_count": 17,
   "metadata": {},
   "outputs": [
    {
     "data": {
      "text/plain": [
       "Text(0, 0.5, 'Resiudal')"
      ]
     },
     "execution_count": 17,
     "metadata": {},
     "output_type": "execute_result"
    },
    {
     "data": {
      "image/png": "[encoded data removed]",
      "text/plain": [
       "<Figure size 432x288 with 1 Axes>"
      ]
     },
     "metadata": {
      "needs_background": "light"
     },
     "output_type": "display_data"
    }
   ],
   "source": [
    "res_min = []\n",
    "res_max = []\n",
    "res_mean = []\n",
    "for key in sorted(list(selected_image.keys())):\n",
    "    res_min.append(np.abs((ground_truth[index][0] - selected_image[key][step])).min())\n",
    "    res_max.append(np.abs((ground_truth[index][0] - selected_image[key][step])).max())\n",
    "    res_mean.append(np.abs((ground_truth[index][0] - selected_image[key][step])).mean())\n",
    "\n",
    "\n",
    "plt.plot(res_min, \"k-\", label=\"min\")\n",
    "plt.plot(res_max, \"r-\", label=\"max\")\n",
    "plt.plot(res_mean, \"g-\", label=\"mean\")\n",
    "plt.legend()\n",
    "plt.yscale(\"log\")\n",
    "plt.ylabel(\"Resiudal\")"
   ]
  },
  {
   "cell_type": "code",
   "execution_count": 18,
   "metadata": {},
   "outputs": [
    {
     "data": {
      "image/png": "[encoded data removed]",
      "text/plain": [
       "<Figure size 432x288 with 1 Axes>"
      ]
     },
     "metadata": {
      "needs_background": "light"
     },
     "output_type": "display_data"
    }
   ],
   "source": [
    "fig = plt.figure()\n",
    "mi = []\n",
    "ma = []\n",
    "for key in sorted(list(selected_grad.keys())):\n",
    "    mi.append(selected_grad[key][step].min())\n",
    "    ma.append(selected_grad[key][step].max())\n",
    "plt.axhline(0)\n",
    "plt.plot(mi, \"r-\", label=\"min\")\n",
    "plt.plot(ma, \"k-\", label=\"max\")\n",
    "plt.xlabel(\"epoch\")\n",
    "plt.ylabel(\"Gradient intensity\")\n",
    "plt.legend()\n",
    "plt.show()"
   ]
  },
  {
   "cell_type": "code",
   "execution_count": 19,
   "metadata": {},
   "outputs": [
    {
     "data": {
      "image/png": "[encoded data removed]",
      "text/plain": [
       "<Figure size 432x288 with 1 Axes>"
      ]
     },
     "metadata": {
      "needs_background": "light"
     },
     "output_type": "display_data"
    }
   ],
   "source": [
    "mi = []\n",
    "ma = []\n",
    "for key in sorted(list(selected_image.keys())):\n",
    "    mi.append(selected_image[key][step].min())\n",
    "    ma.append(selected_image[key][step].max())\n",
    "plt.axhline(0)\n",
    "plt.plot(mi, \"r-\", label=\"min\")\n",
    "plt.plot(ma, \"k-\", label=\"max\")\n",
    "plt.xlabel(\"epoch\")\n",
    "plt.ylabel(\"Output pixel intensity\")\n",
    "plt.legend()\n",
    "plt.show()\n",
    "# selected_image[1][2].max()"
   ]
  },
  {
   "cell_type": "code",
   "execution_count": 20,
   "metadata": {},
   "outputs": [
    {
     "data": {
      "image/png": "[encoded data removed]",
      "text/plain": [
       "<Figure size 432x288 with 1 Axes>"
      ]
     },
     "metadata": {
      "needs_background": "light"
     },
     "output_type": "display_data"
    }
   ],
   "source": [
    "\n",
    "fig = plt.figure()\n",
    "mi = []\n",
    "ma = []\n",
    "for key in sorted(list(selected_image.keys())):\n",
    "    mi.append(np.abs(selected_image[key][step] - ground_truth[index][0]).min())\n",
    "    ma.append(np.abs(selected_image[key][step] - ground_truth[index][0]).max())\n",
    "plt.axhline(0)\n",
    "plt.plot(mi, \"r-\", label=\"min\")\n",
    "plt.plot(ma, \"k-\", label=\"max\")\n",
    "plt.legend()\n",
    "plt.xlabel(\"epoch\")\n",
    "plt.ylabel(\"|Y_pred - Y_true|\")\n",
    "plt.show()"
   ]
  },
  {
   "cell_type": "code",
   "execution_count": 21,
   "metadata": {},
   "outputs": [
    {
     "ename": "KeyError",
     "evalue": "'modelv1/DownsampleConv1'",
     "output_type": "error",
     "traceback": [
      "\u001b[0;31m---------------------------------------------------------------------------\u001b[0m",
      "\u001b[0;31mKeyError\u001b[0m                                  Traceback (most recent call last)",
      "\u001b[0;32m<ipython-input-21-00c160d3d4e3>\u001b[0m in \u001b[0;36m<module>\u001b[0;34m\u001b[0m\n\u001b[1;32m     37\u001b[0m     \u001b[0;32mif\u001b[0m \u001b[0;34m\"kernel\"\u001b[0m \u001b[0;32min\u001b[0m \u001b[0mlayer_name\u001b[0m\u001b[0;34m:\u001b[0m\u001b[0;34m\u001b[0m\u001b[0;34m\u001b[0m\u001b[0m\n\u001b[1;32m     38\u001b[0m         \u001b[0mlayer\u001b[0m \u001b[0;34m=\u001b[0m \u001b[0mlayer_name\u001b[0m\u001b[0;34m[\u001b[0m\u001b[0;34m:\u001b[0m\u001b[0;34m-\u001b[0m\u001b[0mlen\u001b[0m\u001b[0;34m(\u001b[0m\u001b[0;34m\"/kernel:0\"\u001b[0m\u001b[0;34m)\u001b[0m\u001b[0;34m]\u001b[0m\u001b[0;34m\u001b[0m\u001b[0;34m\u001b[0m\u001b[0m\n\u001b[0;32m---> 39\u001b[0;31m         \u001b[0mdepth\u001b[0m \u001b[0;34m=\u001b[0m \u001b[0mmap_layer_to_depth\u001b[0m\u001b[0;34m[\u001b[0m\u001b[0mlayer\u001b[0m\u001b[0;34m]\u001b[0m\u001b[0;34m\u001b[0m\u001b[0;34m\u001b[0m\u001b[0m\n\u001b[0m\u001b[1;32m     40\u001b[0m         \u001b[0;32mfor\u001b[0m \u001b[0mepoch\u001b[0m\u001b[0;34m,\u001b[0m \u001b[0md\u001b[0m \u001b[0;32min\u001b[0m \u001b[0mgrad_and_weights\u001b[0m\u001b[0;34m[\u001b[0m\u001b[0mlayer_name\u001b[0m\u001b[0;34m]\u001b[0m\u001b[0;34m.\u001b[0m\u001b[0mitems\u001b[0m\u001b[0;34m(\u001b[0m\u001b[0;34m)\u001b[0m\u001b[0;34m:\u001b[0m\u001b[0;34m\u001b[0m\u001b[0;34m\u001b[0m\u001b[0m\n\u001b[1;32m     41\u001b[0m             \u001b[0mkernel_weight_mean\u001b[0m\u001b[0;34m[\u001b[0m\u001b[0mdepth\u001b[0m\u001b[0;34m]\u001b[0m\u001b[0;34m.\u001b[0m\u001b[0mappend\u001b[0m\u001b[0;34m(\u001b[0m\u001b[0md\u001b[0m\u001b[0;34m[\u001b[0m\u001b[0mbatch\u001b[0m\u001b[0;34m]\u001b[0m\u001b[0;34m[\u001b[0m\u001b[0;34m\"weight_mean\"\u001b[0m\u001b[0;34m]\u001b[0m\u001b[0;34m)\u001b[0m\u001b[0;34m\u001b[0m\u001b[0;34m\u001b[0m\u001b[0m\n",
      "\u001b[0;31mKeyError\u001b[0m: 'modelv1/DownsampleConv1'"
     ]
    }
   ],
   "source": [
    "batch = 0\n",
    "# map_layer_to_depth = {\n",
    "#     \"model/Conv_Downsample\": 0,\n",
    "#     \"model/Conv_1\": 1,\n",
    "#     \"model/conv_gru/conv2d\": 2,\n",
    "#     \"model/conv_gru/conv2d_1\": 3,\n",
    "#     \"model/conv_gru/conv2d_2\": 4,\n",
    "#     \"model/conv_gru_1/conv2d_3\": 5,\n",
    "#     \"model/conv_gru_1/conv2d_4\": 6,\n",
    "#     \"model/conv_gru_1/conv2d_5\": 7,\n",
    "#     \"model/Conv_Fraction_Stride\": 8,\n",
    "#     \"model/TConv_1\": 9\n",
    "# }\n",
    "map_layer_to_depth = {\n",
    "    \"RIM/Conv_Downsample\": 0,\n",
    "    \"RIM/Conv_1\": 1,\n",
    "    \"RIM/Conv_2\": 2,\n",
    "    \"RIM/conv_gru/conv2d\": 3,\n",
    "    \"RIM/conv_gru/conv2d_1\": 4,\n",
    "    \"RIM/conv_gru/conv2d_2\": 5,\n",
    "    \"RIM/conv_gru_1/conv2d_3\": 6,\n",
    "    \"RIM/conv_gru_1/conv2d_4\": 7,\n",
    "    \"RIM/conv_gru_1/conv2d_5\": 8,\n",
    "    \"RIM/Conv_Fraction_Stride\": 9,\n",
    "    \"RIM/TConv_1\": 10,\n",
    "    \"RIM/TConv_2\": 11\n",
    "}\n",
    "inv_map = {v: k for k, v in map_layer_to_depth.items()}\n",
    "\n",
    "kernel_weight_var = [[] for _ in range(max(map_layer_to_depth.values()) + 1)]\n",
    "kernel_weight_mean = [[] for _ in range(max(map_layer_to_depth.values()) + 1)]\n",
    "kernel_grad_mean = [[] for _ in range(max(map_layer_to_depth.values()) + 1)]\n",
    "kernel_grad_var = [[] for _ in range(max(map_layer_to_depth.values()) + 1)]\n",
    "kernel_weight_max = [[] for _ in range(max(map_layer_to_depth.values()) + 1)]\n",
    "kernel_weight_min = [[] for _ in range(max(map_layer_to_depth.values()) + 1)]\n",
    "for layer_name in grad_and_weights.keys():\n",
    "    if \"kernel\" in layer_name:\n",
    "        layer = layer_name[:-len(\"/kernel:0\")]\n",
    "        depth = map_layer_to_depth[layer]\n",
    "        for epoch, d in grad_and_weights[layer_name].items():\n",
    "            kernel_weight_mean[depth].append(d[batch][\"weight_mean\"])\n",
    "            kernel_weight_var[depth].append(d[batch][\"weight_var\"])\n",
    "            kernel_grad_mean[depth].append(d[batch][\"grad_mean\"])\n",
    "            kernel_grad_var[depth].append(d[batch][\"grad_var\"])\n",
    "            kernel_weight_max[depth].append(d[batch][\"weight_max\"])\n",
    "            kernel_weight_min[depth].append(d[batch][\"weight_min\"])\n",
    "cmap = matplotlib.cm.get_cmap(\"tab10\")\n",
    "norm = matplotlib.colors.Normalize(vmin=0, vmax=max(map_layer_to_depth.values()))\n",
    "for depth, data in enumerate(kernel_weight_mean):\n",
    "    plt.plot(list(range(len(data))), data, c=cmap(norm(depth)), label=inv_map[depth][len(\"model/\"):], lw=3)\n",
    "plt.legend(bbox_to_anchor=(1.15, 1.05))\n",
    "plt.xlabel(\"epoch\")\n",
    "plt.ylabel(\"weight mean\")\n",
    "plt.savefig(os.path.join(results_dir, \"weight_mean.png\"))\n",
    "# name: epoch: batch: stats"
   ]
  },
  {
   "cell_type": "code",
   "execution_count": 22,
   "metadata": {},
   "outputs": [
    {
     "ename": "NameError",
     "evalue": "name 'cmap' is not defined",
     "output_type": "error",
     "traceback": [
      "\u001b[0;31m---------------------------------------------------------------------------\u001b[0m",
      "\u001b[0;31mNameError\u001b[0m                                 Traceback (most recent call last)",
      "\u001b[0;32m<ipython-input-22-9d8db1d00657>\u001b[0m in \u001b[0;36m<module>\u001b[0;34m\u001b[0m\n\u001b[1;32m      1\u001b[0m \u001b[0;32mfor\u001b[0m \u001b[0mdepth\u001b[0m\u001b[0;34m,\u001b[0m \u001b[0mdata\u001b[0m \u001b[0;32min\u001b[0m \u001b[0menumerate\u001b[0m\u001b[0;34m(\u001b[0m\u001b[0mkernel_weight_var\u001b[0m\u001b[0;34m)\u001b[0m\u001b[0;34m:\u001b[0m\u001b[0;34m\u001b[0m\u001b[0;34m\u001b[0m\u001b[0m\n\u001b[0;32m----> 2\u001b[0;31m     \u001b[0mplt\u001b[0m\u001b[0;34m.\u001b[0m\u001b[0mplot\u001b[0m\u001b[0;34m(\u001b[0m\u001b[0mlist\u001b[0m\u001b[0;34m(\u001b[0m\u001b[0mrange\u001b[0m\u001b[0;34m(\u001b[0m\u001b[0mlen\u001b[0m\u001b[0;34m(\u001b[0m\u001b[0mdata\u001b[0m\u001b[0;34m)\u001b[0m\u001b[0;34m)\u001b[0m\u001b[0;34m)\u001b[0m\u001b[0;34m,\u001b[0m \u001b[0mdata\u001b[0m\u001b[0;34m,\u001b[0m \u001b[0mc\u001b[0m\u001b[0;34m=\u001b[0m\u001b[0mcmap\u001b[0m\u001b[0;34m(\u001b[0m\u001b[0mnorm\u001b[0m\u001b[0;34m(\u001b[0m\u001b[0mdepth\u001b[0m\u001b[0;34m)\u001b[0m\u001b[0;34m)\u001b[0m\u001b[0;34m,\u001b[0m \u001b[0mlabel\u001b[0m\u001b[0;34m=\u001b[0m\u001b[0minv_map\u001b[0m\u001b[0;34m[\u001b[0m\u001b[0mdepth\u001b[0m\u001b[0;34m]\u001b[0m\u001b[0;34m[\u001b[0m\u001b[0mlen\u001b[0m\u001b[0;34m(\u001b[0m\u001b[0;34m\"model/\"\u001b[0m\u001b[0;34m)\u001b[0m\u001b[0;34m:\u001b[0m\u001b[0;34m]\u001b[0m\u001b[0;34m,\u001b[0m \u001b[0mlw\u001b[0m\u001b[0;34m=\u001b[0m\u001b[0;36m3\u001b[0m\u001b[0;34m)\u001b[0m\u001b[0;34m\u001b[0m\u001b[0;34m\u001b[0m\u001b[0m\n\u001b[0m\u001b[1;32m      3\u001b[0m \u001b[0mplt\u001b[0m\u001b[0;34m.\u001b[0m\u001b[0mlegend\u001b[0m\u001b[0;34m(\u001b[0m\u001b[0mbbox_to_anchor\u001b[0m\u001b[0;34m=\u001b[0m\u001b[0;34m(\u001b[0m\u001b[0;36m1.15\u001b[0m\u001b[0;34m,\u001b[0m \u001b[0;36m1.05\u001b[0m\u001b[0;34m)\u001b[0m\u001b[0;34m)\u001b[0m\u001b[0;34m\u001b[0m\u001b[0;34m\u001b[0m\u001b[0m\n\u001b[1;32m      4\u001b[0m \u001b[0mplt\u001b[0m\u001b[0;34m.\u001b[0m\u001b[0mxlabel\u001b[0m\u001b[0;34m(\u001b[0m\u001b[0;34m\"epoch\"\u001b[0m\u001b[0;34m)\u001b[0m\u001b[0;34m\u001b[0m\u001b[0;34m\u001b[0m\u001b[0m\n\u001b[1;32m      5\u001b[0m \u001b[0mplt\u001b[0m\u001b[0;34m.\u001b[0m\u001b[0mylabel\u001b[0m\u001b[0;34m(\u001b[0m\u001b[0;34m\"weight variance\"\u001b[0m\u001b[0;34m)\u001b[0m\u001b[0;34m\u001b[0m\u001b[0;34m\u001b[0m\u001b[0m\n",
      "\u001b[0;31mNameError\u001b[0m: name 'cmap' is not defined"
     ]
    }
   ],
   "source": [
    "for depth, data in enumerate(kernel_weight_var):\n",
    "    plt.plot(list(range(len(data))), data, c=cmap(norm(depth)), label=inv_map[depth][len(\"model/\"):], lw=3)\n",
    "plt.legend(bbox_to_anchor=(1.15, 1.05))\n",
    "plt.xlabel(\"epoch\")\n",
    "plt.ylabel(\"weight variance\")\n",
    "plt.savefig(os.path.join(results_dir, \"weight_var.png\"))"
   ]
  },
  {
   "cell_type": "code",
   "execution_count": 31,
   "metadata": {},
   "outputs": [
    {
     "data": {
      "image/png": "[encoded data removed]",
      "text/plain": [
       "<Figure size 432x288 with 1 Axes>"
      ]
     },
     "metadata": {
      "needs_background": "light"
     },
     "output_type": "display_data"
    }
   ],
   "source": [
    "# cmap = matplotlib.cm.get_cmap(\"seismic\")\n",
    "# norm = matplotlib.colors.Normalize(vmin=0, vmax=max(map_layer_to_depth.values()))\n",
    "for depth, data in enumerate(kernel_grad_mean):\n",
    "    plt.plot(list(range(len(data))), data, c=cmap(norm(depth)), label=inv_map[depth][len(\"model/\"):], lw=3)\n",
    "plt.legend(bbox_to_anchor=(1.15, 1.05))\n",
    "plt.xlabel(\"epoch\")\n",
    "plt.ylabel(\"gradient mean\")\n",
    "# plt.yscale(\"log\")\n",
    "plt.savefig(os.path.join(results_dir, \"backpropgrad_mean.png\"))"
   ]
  },
  {
   "cell_type": "code",
   "execution_count": 32,
   "metadata": {},
   "outputs": [
    {
     "data": {
      "image/png": "[encoded data removed]",
      "text/plain": [
       "<Figure size 432x288 with 1 Axes>"
      ]
     },
     "metadata": {
      "needs_background": "light"
     },
     "output_type": "display_data"
    }
   ],
   "source": [
    "for depth, data in enumerate(kernel_grad_var):\n",
    "    plt.plot(list(range(len(data))), data, c=cmap(norm(depth)), label=inv_map[depth][len(\"model/\"):], lw=3)\n",
    "plt.legend(bbox_to_anchor=(1.15, 1.05))\n",
    "plt.xlabel(\"epoch\")\n",
    "plt.ylabel(\"gradient variance\")\n",
    "plt.yscale(\"log\")\n",
    "plt.savefig(os.path.join(results_dir, \"backpropgrad_var.png\"))"
   ]
  },
  {
   "cell_type": "code",
   "execution_count": 98,
   "metadata": {},
   "outputs": [
    {
     "name": "stdout",
     "output_type": "stream",
     "text": [
      "1225 distinct baselines found. Mask has 0 redundant baselines\n",
      "There are 1176 independant closure phases\n"
     ]
    },
    {
     "ename": "ValueError",
     "evalue": "cannot reshape array of size 1 into shape (32,32,1)",
     "output_type": "error",
     "traceback": [
      "\u001b[0;31m---------------------------------------------------------------------------\u001b[0m",
      "\u001b[0;31mValueError\u001b[0m                                Traceback (most recent call last)",
      "\u001b[0;32m<ipython-input-98-b2d0357d4876>\u001b[0m in \u001b[0;36m<module>\u001b[0;34m\u001b[0m\n\u001b[1;32m     31\u001b[0m \u001b[0mphys\u001b[0m \u001b[0;34m=\u001b[0m \u001b[0mexo\u001b[0m\u001b[0;34m.\u001b[0m\u001b[0mphysical_model\u001b[0m\u001b[0;34m.\u001b[0m\u001b[0mPhysicalModel\u001b[0m\u001b[0;34m(\u001b[0m\u001b[0mpix\u001b[0m\u001b[0;34m,\u001b[0m \u001b[0mcircle_mask\u001b[0m\u001b[0;34m,\u001b[0m \u001b[0mwavel\u001b[0m\u001b[0;34m,\u001b[0m \u001b[0mplate_scale\u001b[0m\u001b[0;34m,\u001b[0m \u001b[0mSNR\u001b[0m\u001b[0;34m)\u001b[0m\u001b[0;34m\u001b[0m\u001b[0;34m\u001b[0m\u001b[0m\n\u001b[1;32m     32\u001b[0m \u001b[0mpad2\u001b[0m \u001b[0;34m=\u001b[0m \u001b[0;34m-\u001b[0m\u001b[0mpad\u001b[0m \u001b[0;32mif\u001b[0m \u001b[0mpad\u001b[0m \u001b[0;34m!=\u001b[0m \u001b[0;36m0\u001b[0m \u001b[0;32melse\u001b[0m \u001b[0;32mNone\u001b[0m\u001b[0;34m\u001b[0m\u001b[0;34m\u001b[0m\u001b[0m\n\u001b[0;32m---> 33\u001b[0;31m \u001b[0mforward\u001b[0m \u001b[0;34m=\u001b[0m \u001b[0mphys\u001b[0m\u001b[0;34m.\u001b[0m\u001b[0mforward\u001b[0m\u001b[0;34m(\u001b[0m\u001b[0mnp\u001b[0m\u001b[0;34m.\u001b[0m\u001b[0mreshape\u001b[0m\u001b[0;34m(\u001b[0m\u001b[0mim\u001b[0m\u001b[0;34m,\u001b[0m \u001b[0;34m[\u001b[0m\u001b[0;34m-\u001b[0m\u001b[0;36m1\u001b[0m\u001b[0;34m,\u001b[0m \u001b[0mpix\u001b[0m\u001b[0;34m,\u001b[0m \u001b[0mpix\u001b[0m\u001b[0;34m,\u001b[0m \u001b[0;36m1\u001b[0m\u001b[0;34m]\u001b[0m\u001b[0;34m)\u001b[0m\u001b[0;34m)\u001b[0m\u001b[0;34m\u001b[0m\u001b[0;34m\u001b[0m\u001b[0m\n\u001b[0m\u001b[1;32m     34\u001b[0m \u001b[0mreconstructed_image\u001b[0m \u001b[0;34m=\u001b[0m \u001b[0mnp\u001b[0m\u001b[0;34m.\u001b[0m\u001b[0mdot\u001b[0m\u001b[0;34m(\u001b[0m\u001b[0mphys\u001b[0m\u001b[0;34m.\u001b[0m\u001b[0mA_adjoint\u001b[0m\u001b[0;34m,\u001b[0m \u001b[0mforward\u001b[0m\u001b[0;34m[\u001b[0m\u001b[0;36m0\u001b[0m\u001b[0;34m,\u001b[0m \u001b[0;34m:\u001b[0m\u001b[0mphys\u001b[0m\u001b[0;34m.\u001b[0m\u001b[0mp\u001b[0m\u001b[0;34m]\u001b[0m\u001b[0;34m.\u001b[0m\u001b[0mnumpy\u001b[0m\u001b[0;34m(\u001b[0m\u001b[0;34m)\u001b[0m\u001b[0;34m)\u001b[0m\u001b[0;34m\u001b[0m\u001b[0;34m\u001b[0m\u001b[0m\n\u001b[1;32m     35\u001b[0m \u001b[0mplt\u001b[0m\u001b[0;34m.\u001b[0m\u001b[0mimshow\u001b[0m\u001b[0;34m(\u001b[0m\u001b[0mnp\u001b[0m\u001b[0;34m.\u001b[0m\u001b[0mreshape\u001b[0m\u001b[0;34m(\u001b[0m\u001b[0mnp\u001b[0m\u001b[0;34m.\u001b[0m\u001b[0mabs\u001b[0m\u001b[0;34m(\u001b[0m\u001b[0mreconstructed_image\u001b[0m\u001b[0;34m)\u001b[0m\u001b[0;34m,\u001b[0m \u001b[0;34m[\u001b[0m\u001b[0mpix\u001b[0m\u001b[0;34m,\u001b[0m \u001b[0mpix\u001b[0m\u001b[0;34m]\u001b[0m\u001b[0;34m)\u001b[0m\u001b[0;34m[\u001b[0m\u001b[0mpad\u001b[0m\u001b[0;34m:\u001b[0m\u001b[0mpad2\u001b[0m\u001b[0;34m,\u001b[0m \u001b[0mpad\u001b[0m\u001b[0;34m:\u001b[0m\u001b[0mpad2\u001b[0m\u001b[0;34m]\u001b[0m\u001b[0;34m,\u001b[0m \u001b[0mcmap\u001b[0m\u001b[0;34m=\u001b[0m\u001b[0;34m\"gray\"\u001b[0m\u001b[0;34m)\u001b[0m\u001b[0;34m\u001b[0m\u001b[0;34m\u001b[0m\u001b[0m\n",
      "\u001b[0;32m<__array_function__ internals>\u001b[0m in \u001b[0;36mreshape\u001b[0;34m(*args, **kwargs)\u001b[0m\n",
      "\u001b[0;32m~/anaconda3/envs/exorim/lib/python3.6/site-packages/numpy/core/fromnumeric.py\u001b[0m in \u001b[0;36mreshape\u001b[0;34m(a, newshape, order)\u001b[0m\n\u001b[1;32m    299\u001b[0m            [5, 6]])\n\u001b[1;32m    300\u001b[0m     \"\"\"\n\u001b[0;32m--> 301\u001b[0;31m     \u001b[0;32mreturn\u001b[0m \u001b[0m_wrapfunc\u001b[0m\u001b[0;34m(\u001b[0m\u001b[0ma\u001b[0m\u001b[0;34m,\u001b[0m \u001b[0;34m'reshape'\u001b[0m\u001b[0;34m,\u001b[0m \u001b[0mnewshape\u001b[0m\u001b[0;34m,\u001b[0m \u001b[0morder\u001b[0m\u001b[0;34m=\u001b[0m\u001b[0morder\u001b[0m\u001b[0;34m)\u001b[0m\u001b[0;34m\u001b[0m\u001b[0;34m\u001b[0m\u001b[0m\n\u001b[0m\u001b[1;32m    302\u001b[0m \u001b[0;34m\u001b[0m\u001b[0m\n\u001b[1;32m    303\u001b[0m \u001b[0;34m\u001b[0m\u001b[0m\n",
      "\u001b[0;32m~/anaconda3/envs/exorim/lib/python3.6/site-packages/numpy/core/fromnumeric.py\u001b[0m in \u001b[0;36m_wrapfunc\u001b[0;34m(obj, method, *args, **kwds)\u001b[0m\n\u001b[1;32m     56\u001b[0m     \u001b[0mbound\u001b[0m \u001b[0;34m=\u001b[0m \u001b[0mgetattr\u001b[0m\u001b[0;34m(\u001b[0m\u001b[0mobj\u001b[0m\u001b[0;34m,\u001b[0m \u001b[0mmethod\u001b[0m\u001b[0;34m,\u001b[0m \u001b[0;32mNone\u001b[0m\u001b[0;34m)\u001b[0m\u001b[0;34m\u001b[0m\u001b[0;34m\u001b[0m\u001b[0m\n\u001b[1;32m     57\u001b[0m     \u001b[0;32mif\u001b[0m \u001b[0mbound\u001b[0m \u001b[0;32mis\u001b[0m \u001b[0;32mNone\u001b[0m\u001b[0;34m:\u001b[0m\u001b[0;34m\u001b[0m\u001b[0;34m\u001b[0m\u001b[0m\n\u001b[0;32m---> 58\u001b[0;31m         \u001b[0;32mreturn\u001b[0m \u001b[0m_wrapit\u001b[0m\u001b[0;34m(\u001b[0m\u001b[0mobj\u001b[0m\u001b[0;34m,\u001b[0m \u001b[0mmethod\u001b[0m\u001b[0;34m,\u001b[0m \u001b[0;34m*\u001b[0m\u001b[0margs\u001b[0m\u001b[0;34m,\u001b[0m \u001b[0;34m**\u001b[0m\u001b[0mkwds\u001b[0m\u001b[0;34m)\u001b[0m\u001b[0;34m\u001b[0m\u001b[0;34m\u001b[0m\u001b[0m\n\u001b[0m\u001b[1;32m     59\u001b[0m \u001b[0;34m\u001b[0m\u001b[0m\n\u001b[1;32m     60\u001b[0m     \u001b[0;32mtry\u001b[0m\u001b[0;34m:\u001b[0m\u001b[0;34m\u001b[0m\u001b[0;34m\u001b[0m\u001b[0m\n",
      "\u001b[0;32m~/anaconda3/envs/exorim/lib/python3.6/site-packages/numpy/core/fromnumeric.py\u001b[0m in \u001b[0;36m_wrapit\u001b[0;34m(obj, method, *args, **kwds)\u001b[0m\n\u001b[1;32m     45\u001b[0m     \u001b[0;32mexcept\u001b[0m \u001b[0mAttributeError\u001b[0m\u001b[0;34m:\u001b[0m\u001b[0;34m\u001b[0m\u001b[0;34m\u001b[0m\u001b[0m\n\u001b[1;32m     46\u001b[0m         \u001b[0mwrap\u001b[0m \u001b[0;34m=\u001b[0m \u001b[0;32mNone\u001b[0m\u001b[0;34m\u001b[0m\u001b[0;34m\u001b[0m\u001b[0m\n\u001b[0;32m---> 47\u001b[0;31m     \u001b[0mresult\u001b[0m \u001b[0;34m=\u001b[0m \u001b[0mgetattr\u001b[0m\u001b[0;34m(\u001b[0m\u001b[0masarray\u001b[0m\u001b[0;34m(\u001b[0m\u001b[0mobj\u001b[0m\u001b[0;34m)\u001b[0m\u001b[0;34m,\u001b[0m \u001b[0mmethod\u001b[0m\u001b[0;34m)\u001b[0m\u001b[0;34m(\u001b[0m\u001b[0;34m*\u001b[0m\u001b[0margs\u001b[0m\u001b[0;34m,\u001b[0m \u001b[0;34m**\u001b[0m\u001b[0mkwds\u001b[0m\u001b[0;34m)\u001b[0m\u001b[0;34m\u001b[0m\u001b[0;34m\u001b[0m\u001b[0m\n\u001b[0m\u001b[1;32m     48\u001b[0m     \u001b[0;32mif\u001b[0m \u001b[0mwrap\u001b[0m\u001b[0;34m:\u001b[0m\u001b[0;34m\u001b[0m\u001b[0;34m\u001b[0m\u001b[0m\n\u001b[1;32m     49\u001b[0m         \u001b[0;32mif\u001b[0m \u001b[0;32mnot\u001b[0m \u001b[0misinstance\u001b[0m\u001b[0;34m(\u001b[0m\u001b[0mresult\u001b[0m\u001b[0;34m,\u001b[0m \u001b[0mmu\u001b[0m\u001b[0;34m.\u001b[0m\u001b[0mndarray\u001b[0m\u001b[0;34m)\u001b[0m\u001b[0;34m:\u001b[0m\u001b[0;34m\u001b[0m\u001b[0;34m\u001b[0m\u001b[0m\n",
      "\u001b[0;31mValueError\u001b[0m: cannot reshape array of size 1 into shape (32,32,1)"
     ]
    }
   ],
   "source": [
    "np.random.seed(42)\n",
    "N = 50\n",
    "wavel = 0.5e-6\n",
    "pad = 0\n",
    "pix = 32 + 0*pad\n",
    "L = 6\n",
    "plate_scale = 3.2\n",
    "m = 1\n",
    "SNR = 100\n",
    "circle_mask = np.zeros((N, 2))\n",
    "for i in range(N):\n",
    "    circle_mask[i, 0] = (L + np.random.normal(0, m)) * np.cos(2 * np.pi * i / N)\n",
    "    circle_mask[i, 1] = (L + np.random.normal(0, m)) * np.sin(2 * np.pi * i / N)\n",
    "random_mask = np.random.normal(size=(N, 2))\n",
    "image_coords = np.arange(pix) - pix / 2.\n",
    "xx, yy = np.meshgrid(image_coords, image_coords)\n",
    "image = np.zeros_like(xx)\n",
    "rho_squared = (xx - 5) ** 2 + (yy) ** 2\n",
    "image += rho_squared == 0\n",
    "rho_squared = (xx + 5) ** 2 + (yy) ** 2\n",
    "image += np.exp(rho_squared / 5**2)\n",
    "im = ground_truth[index] #np.pad(image, ((pad, pad), (pad, pad)), constant_values=(0, 0))\n",
    "# im = np.pad(image, ((pad, pad), (pad, pad)), constant_values=(0, 0))\n",
    "# plt.imshow(image, cmap=\"gray\")\n",
    "# baselines = exo.operators.Baselines(mask_coordinates=circle_mask)\n",
    "# cpo = exo.operators.phase_closure_operator(baselines)\n",
    "# dftm = exo.operators.NDFTM(baselines.UVC, wavel, pix, plate_scale)\n",
    "# dftm_i = exo.operators.NDFTM(baselines.UVC, wavel, pix, plate_scale, inv=True)\n",
    "# m2pix = exo.definitions.mas2rad(plate_scale) * pix / wavel\n",
    "# phys = PhysicalModel(circle_mask, hyperparameters[\"pixels\"], visibility_noise=1e-3, cp_noise=1e-5, m2pix=m2pix)\n",
    "phys = exo.physical_model.PhysicalModel(pix, circle_mask, wavel, plate_scale, SNR)\n",
    "pad2 = -pad if pad != 0 else None \n",
    "forward = phys.forward(np.reshape(im, [-1, pix, pix, 1]))\n",
    "reconstructed_image = np.dot(phys.A_adjoint, forward[0, :phys.p].numpy())\n",
    "plt.imshow(np.reshape(np.abs(reconstructed_image), [pix, pix])[pad:pad2, pad:pad2], cmap=\"gray\")\n",
    "print(np.abs(reconstructed_image).max())\n",
    "print(tf.math.reduce_logsumexp(np.abs(reconstructed_image)))\n",
    "print(np.abs(reconstructed_image).min())\n",
    "plt.savefig(os.path.join(results_dir, \"dirty_image.png\"))"
   ]
  },
  {
   "cell_type": "code",
   "execution_count": 131,
   "metadata": {},
   "outputs": [
    {
     "data": {
      "text/plain": [
       "<matplotlib.image.AxesImage at 0x7f62d4ef8080>"
      ]
     },
     "execution_count": 131,
     "metadata": {},
     "output_type": "execute_result"
    },
    {
     "data": {
      "image/png": "[encoded data removed]",
      "text/plain": [
       "<Figure size 432x288 with 1 Axes>"
      ]
     },
     "metadata": {
      "needs_background": "light"
     },
     "output_type": "display_data"
    }
   ],
   "source": [
    "plt.imshow(im, cmap=\"gray\")"
   ]
  },
  {
   "cell_type": "code",
   "execution_count": 132,
   "metadata": {},
   "outputs": [
    {
     "ename": "NameError",
     "evalue": "name 'baselines' is not defined",
     "output_type": "error",
     "traceback": [
      "\u001b[0;31m---------------------------------------------------------------------------\u001b[0m",
      "\u001b[0;31mNameError\u001b[0m                                 Traceback (most recent call last)",
      "\u001b[0;32m<ipython-input-132-c82a138a0d46>\u001b[0m in \u001b[0;36m<module>\u001b[0;34m\u001b[0m\n\u001b[0;32m----> 1\u001b[0;31m \u001b[0mb\u001b[0m \u001b[0;34m=\u001b[0m \u001b[0mnp\u001b[0m\u001b[0;34m.\u001b[0m\u001b[0msqrt\u001b[0m\u001b[0;34m(\u001b[0m\u001b[0mbaselines\u001b[0m\u001b[0;34m.\u001b[0m\u001b[0mUVC\u001b[0m\u001b[0;34m[\u001b[0m\u001b[0;34m:\u001b[0m\u001b[0;34m,\u001b[0m \u001b[0;36m0\u001b[0m\u001b[0;34m]\u001b[0m\u001b[0;34m**\u001b[0m\u001b[0;36m2\u001b[0m \u001b[0;34m+\u001b[0m \u001b[0mbaselines\u001b[0m\u001b[0;34m.\u001b[0m\u001b[0mUVC\u001b[0m\u001b[0;34m[\u001b[0m\u001b[0;34m:\u001b[0m\u001b[0;34m,\u001b[0m \u001b[0;36m1\u001b[0m\u001b[0;34m]\u001b[0m\u001b[0;34m**\u001b[0m\u001b[0;36m2\u001b[0m\u001b[0;34m)\u001b[0m\u001b[0;34m\u001b[0m\u001b[0;34m\u001b[0m\u001b[0m\n\u001b[0m\u001b[1;32m      2\u001b[0m \u001b[0mbx\u001b[0m \u001b[0;34m=\u001b[0m \u001b[0mbaselines\u001b[0m\u001b[0;34m.\u001b[0m\u001b[0mUVC\u001b[0m\u001b[0;34m[\u001b[0m\u001b[0;34m:\u001b[0m\u001b[0;34m,\u001b[0m \u001b[0;36m0\u001b[0m\u001b[0;34m]\u001b[0m\u001b[0;34m\u001b[0m\u001b[0;34m\u001b[0m\u001b[0m\n\u001b[1;32m      3\u001b[0m \u001b[0mby\u001b[0m \u001b[0;34m=\u001b[0m \u001b[0mbaselines\u001b[0m\u001b[0;34m.\u001b[0m\u001b[0mUVC\u001b[0m\u001b[0;34m[\u001b[0m\u001b[0;34m:\u001b[0m\u001b[0;34m,\u001b[0m \u001b[0;36m1\u001b[0m\u001b[0;34m]\u001b[0m\u001b[0;34m\u001b[0m\u001b[0;34m\u001b[0m\u001b[0m\n\u001b[1;32m      4\u001b[0m \u001b[0mxara\u001b[0m\u001b[0;34m.\u001b[0m\u001b[0mcore\u001b[0m\u001b[0;34m.\u001b[0m\u001b[0mrad2mas\u001b[0m\u001b[0;34m(\u001b[0m\u001b[0mwavel\u001b[0m\u001b[0;34m/\u001b[0m\u001b[0;36m2\u001b[0m\u001b[0;34m/\u001b[0m\u001b[0mb\u001b[0m\u001b[0;34m.\u001b[0m\u001b[0mmax\u001b[0m\u001b[0;34m(\u001b[0m\u001b[0;34m)\u001b[0m\u001b[0;34m)\u001b[0m\u001b[0;34m\u001b[0m\u001b[0;34m\u001b[0m\u001b[0m\n\u001b[1;32m      5\u001b[0m \u001b[0mplt\u001b[0m\u001b[0;34m.\u001b[0m\u001b[0mplot\u001b[0m\u001b[0;34m(\u001b[0m\u001b[0mb\u001b[0m\u001b[0;34m,\u001b[0m \u001b[0mnp\u001b[0m\u001b[0;34m.\u001b[0m\u001b[0mabs\u001b[0m\u001b[0;34m(\u001b[0m\u001b[0mforward\u001b[0m\u001b[0;34m[\u001b[0m\u001b[0;36m0\u001b[0m\u001b[0;34m,\u001b[0m \u001b[0;34m:\u001b[0m\u001b[0mphys\u001b[0m\u001b[0;34m.\u001b[0m\u001b[0mp\u001b[0m\u001b[0;34m]\u001b[0m\u001b[0;34m)\u001b[0m\u001b[0;34m/\u001b[0m\u001b[0mnp\u001b[0m\u001b[0;34m.\u001b[0m\u001b[0mpi\u001b[0m\u001b[0;34m,\u001b[0m \u001b[0;34m\"k.\"\u001b[0m\u001b[0;34m)\u001b[0m\u001b[0;34m\u001b[0m\u001b[0;34m\u001b[0m\u001b[0m\n",
      "\u001b[0;31mNameError\u001b[0m: name 'baselines' is not defined"
     ]
    }
   ],
   "source": [
    "b = np.sqrt(baselines.UVC[:, 0]**2 + baselines.UVC[:, 1]**2)\n",
    "bx = baselines.UVC[:, 0]\n",
    "by = baselines.UVC[:, 1]\n",
    "xara.core.rad2mas(wavel/2/b.max())\n",
    "plt.plot(b, np.abs(forward[0, :phys.p])/np.pi, \"k.\")\n",
    "plt.ylabel(\"Visibility amplitude\")\n",
    "plt.xlabel(\"Baseline\")"
   ]
  },
  {
   "cell_type": "code",
   "execution_count": null,
   "metadata": {},
   "outputs": [],
   "source": [
    "m2pix = exo.definitions.mas2rad(plate_scale) * 32 / wavel\n",
    "1.22 * 12/m2pix/2/np.pi"
   ]
  },
  {
   "cell_type": "code",
   "execution_count": null,
   "metadata": {},
   "outputs": [],
   "source": [
    "basel = np.sqrt(phys.baselines.UVC[:, 0]**2 + phys.baselines.UVC[:, 1]**2)\n",
    "basel.max()"
   ]
  },
  {
   "cell_type": "code",
   "execution_count": null,
   "metadata": {},
   "outputs": [],
   "source": []
  }
 ],
 "metadata": {
  "kernelspec": {
   "display_name": "Python 3",
   "language": "python",
   "name": "python3"
  },
  "language_info": {
   "codemirror_mode": {
    "name": "ipython",
    "version": 3
   },
   "file_extension": ".py",
   "mimetype": "text/x-python",
   "name": "python",
   "nbconvert_exporter": "python",
   "pygments_lexer": "ipython3",
   "version": "3.8.0"
  },
  "toc-autonumbering": true
 },
 "nbformat": 4,
 "nbformat_minor": 4
}
