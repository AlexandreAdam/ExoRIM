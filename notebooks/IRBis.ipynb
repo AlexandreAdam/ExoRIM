{
 "cells": [
  {
   "cell_type": "code",
   "execution_count": 5,
   "metadata": {},
   "outputs": [],
   "source": [
    "import numpy as np\n",
    "from astropy.io import fits\n",
    "import matplotlib.pyplot as plt\n",
    "from pprint import pprint\n",
    "from scipy.optimize import minimize\n",
    "from pynfft.nfft import NFFT\n",
    "from ExoRIM.definitions import mas2rad, rad2mas\n",
    "from ExoRIM.operators import NDFTM, Baselines\n",
    "from scipy.ndimage import gaussian_filter\n",
    "%matplotlib inline"
   ]
  },
  {
   "cell_type": "code",
   "execution_count": 6,
   "metadata": {},
   "outputs": [
    {
     "data": {
      "text/plain": [
       "<matplotlib.image.AxesImage at 0x7f782c285c40>"
      ]
     },
     "execution_count": 6,
     "metadata": {},
     "output_type": "execute_result"
    },
    {
     "data": {
      "image/png": "[encoded data removed]",
      "text/plain": [
       "<Figure size 432x288 with 1 Axes>"
      ]
     },
     "metadata": {
      "needs_background": "light"
     },
     "output_type": "display_data"
    }
   ],
   "source": [
    "uv_data = fits.open(\"2004-data1.oifits\")\n",
    "# uv_data = fits.open(\"blackhole-01-05.oifits\")\n",
    "true_image = fits.open(\"2004true.fits\")[0].data\n",
    "# true_image = fits.open(\"blackhole-01-05.fits\")[0].data\n",
    "pixels = true_image.shape[0]\n",
    "plt.imshow(true_image, cmap=\"hot\", origin=\"lower\")"
   ]
  },
  {
   "cell_type": "code",
   "execution_count": 7,
   "metadata": {},
   "outputs": [
    {
     "data": {
      "text/plain": [
       "XTENSION= 'BINTABLE'           /Written by IDL:  Sat Apr 10 23:44:42 2004       \n",
       "BITPIX  =                    8 /                                                \n",
       "NAXIS   =                    2 /Binary table                                    \n",
       "NAXIS1  =                  134 /Number of bytes per row                         \n",
       "NAXIS2  =                    1 /Number of rows                                  \n",
       "PCOUNT  =                    0 /Random parameter count                          \n",
       "GCOUNT  =                    1 /Group count                                     \n",
       "TFIELDS =                   17 /Number of columns                               \n",
       "EXTNAME = 'OI_TARGET'          /name of this binary table extension             \n",
       "TFORM1  = '1I      '           /Integer*2 (short integer)                       \n",
       "TTYPE1  = 'TARGET_ID'          /Label for column 1                              \n",
       "TFORM2  = '16A     '           /Character string                                \n",
       "TTYPE2  = 'TARGET  '           /Label for column 2                              \n",
       "TFORM3  = '1D      '           /Real*8 (double precision)                       \n",
       "TTYPE3  = 'RAEP0   '           /Label for column 3                              \n",
       "TUNIT3  = 'deg     '           /Units of column 3                               \n",
       "TFORM4  = '1D      '           /Real*8 (double precision)                       \n",
       "TTYPE4  = 'DECEP0  '           /Label for column 4                              \n",
       "TUNIT4  = 'deg     '           /Units of column 4                               \n",
       "TFORM5  = '1E      '           /Real*4 (floating point)                         \n",
       "TTYPE5  = 'EQUINOX '           /Label for column 5                              \n",
       "TUNIT5  = 'yr      '           /Units of column 5                               \n",
       "TFORM6  = '1D      '           /Real*8 (double precision)                       \n",
       "TTYPE6  = 'RA_ERR  '           /Label for column 6                              \n",
       "TUNIT6  = 'deg     '           /Units of column 6                               \n",
       "TFORM7  = '1D      '           /Real*8 (double precision)                       \n",
       "TTYPE7  = 'DEC_ERR '           /Label for column 7                              \n",
       "TUNIT7  = 'deg     '           /Units of column 7                               \n",
       "TFORM8  = '1D      '           /Real*8 (double precision)                       \n",
       "TTYPE8  = 'SYSVEL  '           /Label for column 8                              \n",
       "TUNIT8  = 'm/s     '           /Units of column 8                               \n",
       "TFORM9  = '8A      '           /Character string                                \n",
       "TTYPE9  = 'VELTYP  '           /Label for column 9                              \n",
       "TFORM10 = '8A      '           /Character string                                \n",
       "TTYPE10 = 'VELDEF  '           /Label for column 10                             \n",
       "TFORM11 = '1D      '           /Real*8 (double precision)                       \n",
       "TTYPE11 = 'PMRA    '           /Label for column 11                             \n",
       "TUNIT11 = 'deg/yr  '           /Units of column 11                              \n",
       "TFORM12 = '1D      '           /Real*8 (double precision)                       \n",
       "TTYPE12 = 'PMDEC   '           /Label for column 12                             \n",
       "TUNIT12 = 'deg/yr  '           /Units of column 12                              \n",
       "TFORM13 = '1D      '           /Real*8 (double precision)                       \n",
       "TTYPE13 = 'PMRA_ERR'           /Label for column 13                             \n",
       "TUNIT13 = 'deg/yr  '           /Units of column 13                              \n",
       "TFORM14 = '1D      '           /Real*8 (double precision)                       \n",
       "TTYPE14 = 'PMDEC_ERR'          /Label for column 14                             \n",
       "TUNIT14 = 'deg/yr  '           /Units of column 14                              \n",
       "TFORM15 = '1E      '           /Real*4 (floating point)                         \n",
       "TTYPE15 = 'PARALLAX'           /Label for column 15                             \n",
       "TUNIT15 = 'deg     '           /Units of column 15                              \n",
       "TFORM16 = '1E      '           /Real*4 (floating point)                         \n",
       "TTYPE16 = 'PARA_ERR'           /Label for column 16                             \n",
       "TUNIT16 = 'deg     '           /Units of column 16                              \n",
       "TFORM17 = '16A     '           /Character string                                \n",
       "TTYPE17 = 'SPECTYP '           /Label for column 17                             \n",
       "OI_REVN =                    1 /Revision number of the table definition         "
      ]
     },
     "execution_count": 7,
     "metadata": {},
     "output_type": "execute_result"
    }
   ],
   "source": [
    "uv_data[2].header"
   ]
  },
  {
   "cell_type": "code",
   "execution_count": 8,
   "metadata": {},
   "outputs": [
    {
     "data": {
      "text/plain": [
       "array([0, 1, 2], dtype=int16)"
      ]
     },
     "execution_count": 8,
     "metadata": {},
     "output_type": "execute_result"
    }
   ],
   "source": [
    "uv_data[\"OI_T3\"].data[\"STA_INDEX\"].min(axis=0)"
   ]
  },
  {
   "cell_type": "markdown",
   "metadata": {},
   "source": [
    "Convention for bispectrum:\n",
    "$$\n",
    "    B(f_1, f_2) = V(f_1)V(f_2)\\tilde{V}(f_1 + f_2) \n",
    "$$"
   ]
  },
  {
   "cell_type": "code",
   "execution_count": 9,
   "metadata": {},
   "outputs": [
    {
     "name": "stdout",
     "output_type": "stream",
     "text": [
      "195\n",
      "130\n"
     ]
    }
   ],
   "source": [
    "try:\n",
    "    amp_ref = uv_data[\"OI_VIS\"].data[\"VISAMP\"]\n",
    "    amp_ref_error = uv_data[\"OI_VIS\"].data[\"VISAMPERR\"]\n",
    "except KeyError:\n",
    "    amp_ref = np.sqrt(np.abs(uv_data[\"OI_VIS2\"].data[\"VIS2DATA\"])) # 2004 data\n",
    "    amp_ref_error = np.sqrt(np.sqrt(0.5)/amp_ref * uv_data[\"OI_VIS2\"].data[\"VIS2ERR\"]**2)\n",
    "    \n",
    "uv = np.column_stack([uv_data[\"OI_VIS2\"].data[\"UCOORD\"], uv_data[4].data[\"VCOORD\"]])\n",
    "uv1 = np.column_stack([uv_data[\"OI_T3\"].data[\"U1COORD\"], uv_data[\"OI_T3\"].data[\"V1COORD\"]])\n",
    "uv2 = np.column_stack([uv_data[\"OI_T3\"].data[\"U2COORD\"], uv_data[\"OI_T3\"].data[\"V2COORD\"]])\n",
    "cp_ref = uv_data[\"OI_T3\"].data[\"T3PHI\"]\n",
    "cp_ref_error = uv_data[\"OI_T3\"].data[\"T3PHIERR\"]\n",
    "rho = np.hypot(uv[:, 0], uv[:, 1])\n",
    "wavel = uv_data[\"OI_WAVELENGTH\"].data[\"EFF_WAVE\"][0] # meter\n",
    "baselines = len(uv_data[\"OI_VIS2\"].data)\n",
    "apertures = len(uv_data[\"OI_ARRAY\"].data)\n",
    "triangles = len(uv_data[\"OI_T3\"].data)\n",
    "parallax = uv_data[\"OI_TARGET\"].data[\"PARALLAX\"]/3600 # arcsec\n",
    "\n",
    "print(baselines)\n",
    "print(triangles)"
   ]
  },
  {
   "cell_type": "code",
   "execution_count": 10,
   "metadata": {},
   "outputs": [
    {
     "data": {
      "text/plain": [
       "Text(0.5, 1.0, 'uv coverage')"
      ]
     },
     "execution_count": 10,
     "metadata": {},
     "output_type": "execute_result"
    },
    {
     "data": {
      "image/png": "[encoded data removed]",
      "text/plain": [
       "<Figure size 432x288 with 1 Axes>"
      ]
     },
     "metadata": {
      "needs_background": "light"
     },
     "output_type": "display_data"
    }
   ],
   "source": [
    "plt.plot(uv[:, 0], uv[:, 1], \"k.\")\n",
    "plt.axis(\"equal\")\n",
    "plt.title(\"uv coverage\")"
   ]
  },
  {
   "cell_type": "code",
   "execution_count": 11,
   "metadata": {},
   "outputs": [],
   "source": [
    "def uniform_prior(image):\n",
    "    return np.ones_like(image) * image.sum() / image.size"
   ]
  },
  {
   "cell_type": "code",
   "execution_count": 12,
   "metadata": {},
   "outputs": [],
   "source": [
    "def chi2_amp(amp, amp_ref, amp_ref_error):\n",
    "    return np.mean((amp - amp_ref)**2/amp_ref_error**2)"
   ]
  },
  {
   "cell_type": "code",
   "execution_count": 13,
   "metadata": {},
   "outputs": [],
   "source": [
    "def chi2_cp(cp, cp_ref, cp_ref_error):\n",
    "    return np.mean((cp - cp_ref)**2/cp_ref_error**2)"
   ]
  },
  {
   "cell_type": "code",
   "execution_count": 14,
   "metadata": {},
   "outputs": [],
   "source": [
    "def tikhonov_reg(image, prior=None):\n",
    "    if prior is None: # uniform prior\n",
    "        prior = image.sum() / image.size\n",
    "    return np.sum(image**2 / prior)"
   ]
  },
  {
   "cell_type": "code",
   "execution_count": 15,
   "metadata": {},
   "outputs": [],
   "source": [
    "def safe_log(x):\n",
    "    out = np.zeros_like(x)\n",
    "    out[x <= 0] = -1000\n",
    "    out[x > 0] = np.log(x[x > 0] + 1e-16)\n",
    "    return out\n",
    "\n",
    "def safe_exp(x):\n",
    "    out = np.zeros_like(x)\n",
    "    out[x > -20] = np.exp(x)\n",
    "    return out\n",
    "\n",
    "def maximum_entropy_reg(image, prior=None):\n",
    "    if prior is None:\n",
    "        prior = image.sum() / image.size\n",
    "    return np.sum(image * safe_log(image / prior) - image + prior)\n",
    "    "
   ]
  },
  {
   "cell_type": "code",
   "execution_count": 16,
   "metadata": {},
   "outputs": [],
   "source": [
    "# def gaussian_prior(uv_data):\n",
    "#     def log_likelihood(params, )"
   ]
  },
  {
   "cell_type": "code",
   "execution_count": 17,
   "metadata": {},
   "outputs": [],
   "source": [
    "def baseline_projector(uv_data):\n",
    "    baselines = len(uv_data[\"OI_VIS2\"].data)\n",
    "    apertures = len(uv_data[\"OI_ARRAY\"].data)\n",
    "    bp = np.zeros((baselines, apertures))\n",
    "    indexes = uv_data[\"OI_VIS2\"].data[\"STA_INDEX\"]\n",
    "    if indexes.min() >= 1:\n",
    "        indexes -= indexes.min()\n",
    "    for i in range(baselines):\n",
    "        bp[i, indexes[i]] = 1\n",
    "    return bp\n",
    "\n",
    "def bispectra_projectors(uv_data):\n",
    "    bp = baseline_projector(uv_data)\n",
    "    triangles = len(uv_data[\"OI_T3\"].data)\n",
    "    time_uv = uv_data[\"OI_VIS2\"].data[\"TIME\"]\n",
    "    time_bispectra = uv_data[\"OI_T3\"].data[\"TIME\"]\n",
    "    sta_indexes = uv_data[\"OI_T3\"].data[\"STA_INDEX\"]\n",
    "    if sta_indexes.min() >= 1:\n",
    "        sta_indexes -= sta_indexes.min()\n",
    "    \n",
    "    bisp1 = np.zeros((triangles, bp.shape[0])) # projector to a triangle leg\n",
    "    bisp2 = np.zeros_like(bisp1)\n",
    "    bisp3 = np.zeros_like(bisp1)\n",
    "    bisps = [bisp1, bisp2, bisp3]\n",
    "    \n",
    "    legs = [(0, 1), (1, 2), (0, 2)]\n",
    "    \n",
    "    # find a mapping between bispectra and each legs of each triangle\n",
    "    for i, t in enumerate(time_bispectra):\n",
    "        for j, leg in enumerate(legs):\n",
    "            baseline = np.where((bp[:, sta_indexes[i, leg]] != 0).all(axis=1) & (time_uv == time_bispectra[i]))[0]\n",
    "#             print(uv[baseline])\n",
    "#             print(uv1[i])\n",
    "#             print(uv2[i])\n",
    "#             print(uv1[i] + uv2[i])\n",
    "            assert (np.abs(uv[baseline][0] - [uv1[i], uv2[i], uv1[i] + uv2[i]][j]) < 1e-8).any()\n",
    "            if len(baseline) == 1:\n",
    "                bisps[j][i, baseline] = 1\n",
    "            elif len(baseline) == 0: # this will happen when conjugate baselines are removed\n",
    "                print(f\"No match for V {i}, leg {leg} at time {t}\")\n",
    "            else:\n",
    "                print(baseline)\n",
    "    return bisps\n"
   ]
  },
  {
   "cell_type": "code",
   "execution_count": 640,
   "metadata": {},
   "outputs": [],
   "source": [
    "class ForwardModel:\n",
    "\n",
    "    def __init__(self, pixels, uv, plate_scale, wavel):\n",
    "        self.pad = pixels//2\n",
    "        self.plan = NFFT([2 * pixels, 2 * pixels], uv.shape[0], n=[2 * pixels, 2 * pixels])\n",
    "        self.phase = np.exp(-1j * np.pi / wavel * mas2rad(plate_scale) * (uv[:, 0] + uv[:, 1]))\n",
    "        self.bisps = bispectra_projectors(uv_data)\n",
    "        self.plan.x = uv / wavel * mas2rad(plate_scale)\n",
    "        self.plan.precompute()\n",
    "\n",
    "    def visibility(self, image):\n",
    "        # complex visibility\n",
    "        image = image.reshape([pixels, pixels])\n",
    "        _image = np.pad(image.copy(), [[pixels//2, pixels//2], [pixels//2, pixels//2]], mode=\"constant\", constant_values=[(0, 0), (0, 0)])\n",
    "        self.plan.f_hat = _image.ravel()\n",
    "        self.plan.trafo()\n",
    "        vis = self.plan.f.copy() * self.phase\n",
    "        return vis\n",
    "\n",
    "    def bispectra(self, V): # lexicographic convention\n",
    "        V1 = self.bisps[0] @ V\n",
    "        V2 = self.bisps[1] @ V\n",
    "        V3 = self.bisps[2] @ V\n",
    "        return V1 * V2 * V3.conj()\n",
    "\n",
    "    def forward(self, image):\n",
    "        V = self.visibility(image)\n",
    "        amp = np.abs(V)\n",
    "        cp = np.angle(self.bispectra(V))\n",
    "        return amp, cp\n",
    "    "
   ]
  },
  {
   "cell_type": "code",
   "execution_count": 648,
   "metadata": {},
   "outputs": [
    {
     "data": {
      "text/plain": [
       "<ErrorbarContainer object of 3 artists>"
      ]
     },
     "execution_count": 648,
     "metadata": {},
     "output_type": "execute_result"
    },
    {
     "data": {
      "image/png": "[encoded data removed]",
      "text/plain": [
       "<Figure size 432x288 with 1 Axes>"
      ]
     },
     "metadata": {
      "needs_background": "light"
     },
     "output_type": "display_data"
    }
   ],
   "source": [
    "# Check that forward model works as intended\n",
    "\n",
    "\n",
    "# f_hat = DFTM(uv)\n",
    "rho = np.hypot(uv[:, 0], uv[:, 1])\n",
    "plate_scale = rad2mas(wavel/4/np.max(rho))\n",
    "\n",
    "forward = ForwardModel(pixels, uv, plate_scale, wavel)\n",
    "\n",
    "amp, cp = forward.forward(true_image)\n",
    "# compare = np.column_stack([np.rad2deg(cp), cp_ref])\n",
    "# compare2 = np.column_stack([amp, vis_amp_ref])\n",
    "# compare\n",
    "# plt.plot(np.rad2deg(cp))\n",
    "# plt.errorbar(np.arange(cp_ref.shape[0]), cp_ref, yerr=cp_ref_error)\n",
    "plt.plot(6 * amp)\n",
    "plt.errorbar(np.arange(amp_ref.shape[0]), amp_ref, yerr=amp_ref_error)"
   ]
  },
  {
   "cell_type": "code",
   "execution_count": 737,
   "metadata": {},
   "outputs": [],
   "source": [
    "def likelihood(image, amp_ref, amp_ref_error, cp_ref, cp_ref_error, alpha, prior, forward):\n",
    "    im = np.exp(image)\n",
    "    im /= im.sum() # softmax link function\n",
    "    amp, cp = forward.forward(im)\n",
    "    chi1 = chi2_amp(amp, amp_ref, amp_ref_error)\n",
    "    chi2 = chi2_cp(cp, cp_ref, cp_ref_error)\n",
    "    reg1 = tikhonov_reg(im)\n",
    "    reg2 = maximum_entropy_reg(im, prior)\n",
    "#     print(chi1, chi2, alpha * reg2)\n",
    "    return (chi1 + chi2 + alpha * (reg1 + reg1)) / (len(amp_ref) + len(cp_ref))\n",
    "\n",
    "def grad_likelihood(image, amp_ref, amp_ref_error, cp_ref, cp_ref_error, alpha, prior, forward):\n",
    "    im = np.exp(image)\n",
    "    im /= im.sum()\n",
    "    grad1 = grad_chi1_nfft(im, amp_ref, amp_ref_error, forward)\n",
    "    grad2 = grad_chi2_nfft(im, cp_ref, cp_ref_error, forward)\n",
    "    gradr1 = grad_reg1(im, prior)\n",
    "    gradr2 = grad_reg2(im, prior)\n",
    "    out = im * (grad1.ravel() + grad2.ravel() + alpha * (gradr1 + gradr2)) / (len(amp_ref) + len(cp_ref))\n",
    "#     print((out**2).var())\n",
    "    return out\n",
    "\n",
    "def grad_chi1_nfft(image, amp_ref, amp_ref_error, forward):\n",
    "    samples = np.abs(forward.visibility(image))**2\n",
    "    sigma = amp_ref_error\n",
    "    amp = amp_ref\n",
    "    wdiff = -2./amp_ref.shape[0] * (samples - amp) * samples / sigma**2 / samples * forward.phase.conj()\n",
    "    \n",
    "    # inverse fourier transform\n",
    "    forward.plan.f = wdiff\n",
    "    out = np.real(forward.plan.adjoint())\n",
    "    # remove the padding\n",
    "    out = out.reshape([2*pixels, 2*pixels]).T\n",
    "    out = out[pixels//2:-pixels//2, pixels//2:-pixels//2]\n",
    "    return out\n",
    "\n",
    "\n",
    "def grad_chi2_nfft(image, cp_ref, cp_ref_error, forward):\n",
    "    V = forward.visibility(image)\n",
    "    V1 = forward.bisps[0] @ V\n",
    "    V2 = forward.bisps[1] @ V\n",
    "    V3 = forward.bisps[2] @ V\n",
    "    cp_samples = np.angle(V1 * V2 * V3.conj())\n",
    "    \n",
    "    # gradient for adjoint FFT\n",
    "    wdiff = 2./len(cp_samples) * np.sin(cp_ref - cp_samples)/cp_ref_error**2\n",
    "    p1 = wdiff / V1.conj()\n",
    "    p2 = wdiff / V2\n",
    "    p3 = wdiff / V3.conj()\n",
    "    \n",
    "    plan = NFFT([2*pixels, 2*pixels], V1.shape[0], n=[2*pixels, 2*pixels])\n",
    "    x = forward.plan.x.copy()\n",
    "    \n",
    "    plan.x = np.einsum(\"ij, j... -> i...\", forward.bisps[0], x)\n",
    "    plan.precompute()\n",
    "    plan.f = p1\n",
    "    p1_hat = plan.adjoint() \n",
    "    out1 = np.imag(p1_hat)\n",
    "    \n",
    "    plan.x = np.einsum(\"ij, j... -> i...\", forward.bisps[1], x)\n",
    "    plan.precompute()\n",
    "    plan.f = p2.conj()\n",
    "    p2_hat = plan.adjoint()\n",
    "    out2 = np.imag(p2_hat)\n",
    "    \n",
    "    plan.x = np.einsum(\"ij, j... -> i...\", forward.bisps[2], x)\n",
    "    plan.precompute()\n",
    "    plan.f = p3\n",
    "    p3_hat = plan.adjoint()\n",
    "    out3 = np.imag(p3_hat)\n",
    "    out = out1 + out2 + out3\n",
    "    out = out.reshape([2*pixels, 2*pixels])\n",
    "    out = out[pixels//2:-pixels//2, pixels//2:-pixels//2]\n",
    "    return out\n",
    "\n",
    "def grad_reg2(image, prior=None):\n",
    "    if prior is None:\n",
    "        prior = image.sum() / image.size\n",
    "    out = safe_log(image / prior) +  prior - 1\n",
    "    return out\n",
    "\n",
    "def grad_reg1(image, prior=None):\n",
    "    if prior is None:\n",
    "        prior = image.sum() / image.size\n",
    "    return 2 * image / prior\n"
   ]
  },
  {
   "cell_type": "code",
   "execution_count": 759,
   "metadata": {},
   "outputs": [],
   "source": [
    "alpha = 0.5\n",
    "x = np.arange(pixels) - pixels//2 + 0.5\n",
    "xx, yy = np.meshgrid(x, x)\n",
    "rho = np.hypot(xx, yy)\n",
    "sigma = 40\n",
    "prior = 1/2/np.pi/sigma * np.exp(-0.5 * rho**2 / sigma**2)\n",
    "\n",
    "# prior = uniform_prior(true_image)\n",
    "plate_scale = rad2mas(wavel/10/np.max(rho))\n",
    "forward = ForwardModel(pixels, uv, plate_scale, wavel)\n",
    "\n",
    "_amp_ref, _cp_ref = forward.forward(true_image)\n",
    "\n",
    "\n",
    "x0 = safe_log(0.1 * prior + true_image +  np.random.uniform(0, 0.001, true_image.shape))\n",
    "x0 = gaussian_filter(x0, sigma=3)\n",
    "\n",
    "\n",
    "prior = safe_log(prior)\n",
    "history = minimize(likelihood, x0, args=(_amp_ref, amp_ref_error, _cp_ref, cp_ref_error, alpha, prior.ravel(), forward), \n",
    "                   method=\"L-BFGS-B\", jac=grad_likelihood, options={\"maxiter\": 200, \"maxls\": 100, \"gtol\": 1e-8, \"ftol\": 1e-8, \"maxcor\": 100})\n"
   ]
  },
  {
   "cell_type": "code",
   "execution_count": 760,
   "metadata": {},
   "outputs": [
    {
     "name": "stdout",
     "output_type": "stream",
     "text": [
      "69.21148209402006\n"
     ]
    },
    {
     "data": {
      "text/plain": [
       "      fun: 69.38896448618286\n",
       " hess_inv: <65536x65536 LbfgsInvHessProduct with dtype=float64>\n",
       "      jac: array([-4.52578267e-08, -4.86092966e-08, -5.64704600e-08, ...,\n",
       "       -6.36685815e-08, -6.29457638e-08, -6.24785497e-08])\n",
       "  message: 'CONVERGENCE: REL_REDUCTION_OF_F_<=_FACTR*EPSMCH'\n",
       "     nfev: 28\n",
       "      nit: 2\n",
       "     njev: 28\n",
       "   status: 0\n",
       "  success: True\n",
       "        x: array([-4.27549063, -4.20395502, -4.05395643, ..., -3.93425473,\n",
       "       -3.94575724, -3.95329173])"
      ]
     },
     "execution_count": 760,
     "metadata": {},
     "output_type": "execute_result"
    }
   ],
   "source": [
    "print(likelihood(history.x, _amp_ref, amp_ref_error, _cp_ref, cp_ref_error, 0, prior.ravel(), forward))\n",
    "history"
   ]
  },
  {
   "cell_type": "code",
   "execution_count": 761,
   "metadata": {},
   "outputs": [
    {
     "data": {
      "text/plain": [
       "<matplotlib.colorbar.Colorbar at 0x7fc27d14cd90>"
      ]
     },
     "execution_count": 761,
     "metadata": {},
     "output_type": "execute_result"
    },
    {
     "data": {
      "image/png": "[encoded data removed]",
      "text/plain": [
       "<Figure size 432x288 with 2 Axes>"
      ]
     },
     "metadata": {
      "needs_background": "light"
     },
     "output_type": "display_data"
    }
   ],
   "source": [
    "im = np.exp(history.x).reshape([pixels, pixels])\n",
    "im /= im.sum()\n",
    "# im = gaussian_filter(im, sigma=3)\n",
    "# plt.imshow((im - true_image)**2, cmap=\"hot\", origin=\"lower\")\n",
    "plt.imshow(im, cmap=\"hot\", origin=\"lower\")\n",
    "plt.colorbar()"
   ]
  },
  {
   "cell_type": "code",
   "execution_count": 762,
   "metadata": {},
   "outputs": [
    {
     "data": {
      "text/plain": [
       "<matplotlib.image.AxesImage at 0x7fc27d8f6190>"
      ]
     },
     "execution_count": 762,
     "metadata": {},
     "output_type": "execute_result"
    },
    {
     "data": {
      "image/png": "[encoded data removed]",
      "text/plain": [
       "<Figure size 432x288 with 1 Axes>"
      ]
     },
     "metadata": {
      "needs_background": "light"
     },
     "output_type": "display_data"
    }
   ],
   "source": [
    "plt.imshow(np.exp(x0),cmap=\"hot\", origin=\"lower\")"
   ]
  },
  {
   "cell_type": "code",
   "execution_count": null,
   "metadata": {},
   "outputs": [],
   "source": []
  }
 ],
 "metadata": {
  "kernelspec": {
   "display_name": "Python 3",
   "language": "python",
   "name": "python3"
  },
  "language_info": {
   "codemirror_mode": {
    "name": "ipython",
    "version": 3
   },
   "file_extension": ".py",
   "mimetype": "text/x-python",
   "name": "python",
   "nbconvert_exporter": "python",
   "pygments_lexer": "ipython3",
   "version": "3.8.5"
  }
 },
 "nbformat": 4,
 "nbformat_minor": 4
}
