{
 "cells": [
  {
   "cell_type": "code",
   "execution_count": 3,
   "metadata": {},
   "outputs": [],
   "source": [
    "import numpy as np\n",
    "from astropy.io import fits\n",
    "import matplotlib.pyplot as plt\n",
    "from pprint import pprint\n",
    "from scipy.optimize import minimize\n",
    "from pynfft.nfft import NFFT\n",
    "from ExoRIM.definitions import mas2rad, rad2mas\n",
    "from ExoRIM.operators import NDFTM, Baselines\n",
    "from scipy.ndimage import gaussian_filter\n",
    "%matplotlib inline"
   ]
  },
  {
   "cell_type": "code",
   "execution_count": 4,
   "metadata": {},
   "outputs": [
    {
     "data": {
      "text/plain": [
       "<matplotlib.image.AxesImage at 0x7f7c4002ba90>"
      ]
     },
     "execution_count": 4,
     "metadata": {},
     "output_type": "execute_result"
    },
    {
     "data": {
      "image/png": "[encoded data removed]",
      "text/plain": [
       "<Figure size 432x288 with 1 Axes>"
      ]
     },
     "metadata": {
      "needs_background": "light"
     },
     "output_type": "display_data"
    }
   ],
   "source": [
    "uv_data = fits.open(\"2004-data1.oifits\")\n",
    "# uv_data = fits.open(\"blackhole-01-05.oifits\")\n",
    "true_image = fits.open(\"2004true.fits\")[0].data\n",
    "# true_image = fits.open(\"blackhole-01-05.fits\")[0].data\n",
    "pixels = true_image.shape[0]\n",
    "plt.imshow(true_image, cmap=\"hot\", origin=\"lower\")"
   ]
  },
  {
   "cell_type": "markdown",
   "metadata": {},
   "source": [
    "Convention for bispectrum:\n",
    "$$\n",
    "    B(f_1, f_2) = V(f_1)V(f_2)\\tilde{V}(f_1 + f_2) \n",
    "$$"
   ]
  },
  {
   "cell_type": "code",
   "execution_count": 5,
   "metadata": {},
   "outputs": [
    {
     "name": "stdout",
     "output_type": "stream",
     "text": [
      "195\n",
      "130\n"
     ]
    }
   ],
   "source": [
    "try:\n",
    "    amp_ref = uv_data[\"OI_VIS\"].data[\"VISAMP\"]\n",
    "    amp_ref_error = uv_data[\"OI_VIS\"].data[\"VISAMPERR\"]\n",
    "except KeyError:\n",
    "    amp_ref = np.sqrt(np.abs(uv_data[\"OI_VIS2\"].data[\"VIS2DATA\"])) # 2004 data\n",
    "    amp_ref_error = np.sqrt(np.sqrt(0.5)/amp_ref * uv_data[\"OI_VIS2\"].data[\"VIS2ERR\"]**2)\n",
    "    \n",
    "uv = np.column_stack([uv_data[\"OI_VIS2\"].data[\"UCOORD\"], uv_data[4].data[\"VCOORD\"]])\n",
    "uv1 = np.column_stack([uv_data[\"OI_T3\"].data[\"U1COORD\"], uv_data[\"OI_T3\"].data[\"V1COORD\"]])\n",
    "uv2 = np.column_stack([uv_data[\"OI_T3\"].data[\"U2COORD\"], uv_data[\"OI_T3\"].data[\"V2COORD\"]])\n",
    "uv3 = uv1 + uv2\n",
    "cp_ref = uv_data[\"OI_T3\"].data[\"T3PHI\"]\n",
    "cp_ref_error = uv_data[\"OI_T3\"].data[\"T3PHIERR\"]\n",
    "rho = np.hypot(uv[:, 0], uv[:, 1])\n",
    "wavel = uv_data[\"OI_WAVELENGTH\"].data[\"EFF_WAVE\"][0] # meter\n",
    "baselines = len(uv_data[\"OI_VIS2\"].data)\n",
    "apertures = len(uv_data[\"OI_ARRAY\"].data)\n",
    "triangles = len(uv_data[\"OI_T3\"].data)\n",
    "parallax = uv_data[\"OI_TARGET\"].data[\"PARALLAX\"]/3600 # arcsec\n",
    "\n",
    "print(baselines)\n",
    "print(triangles)"
   ]
  },
  {
   "cell_type": "code",
   "execution_count": 6,
   "metadata": {},
   "outputs": [
    {
     "data": {
      "text/plain": [
       "Text(0.5, 1.0, 'uv coverage')"
      ]
     },
     "execution_count": 6,
     "metadata": {},
     "output_type": "execute_result"
    },
    {
     "data": {
      "image/png": "[encoded data removed]",
      "text/plain": [
       "<Figure size 432x288 with 1 Axes>"
      ]
     },
     "metadata": {
      "needs_background": "light"
     },
     "output_type": "display_data"
    }
   ],
   "source": [
    "plt.plot(uv[:, 0], uv[:, 1], \"k.\")\n",
    "plt.axis(\"equal\")\n",
    "plt.title(\"uv coverage\")"
   ]
  },
  {
   "cell_type": "code",
   "execution_count": 7,
   "metadata": {},
   "outputs": [],
   "source": [
    "def uniform_prior(image):\n",
    "    return np.ones_like(image) * image.sum() / image.size"
   ]
  },
  {
   "cell_type": "code",
   "execution_count": 8,
   "metadata": {},
   "outputs": [],
   "source": [
    "def chi2_amp(amp, amp_ref, amp_ref_error):\n",
    "    return np.mean((amp - amp_ref)**2/amp_ref_error**2)"
   ]
  },
  {
   "cell_type": "code",
   "execution_count": 9,
   "metadata": {},
   "outputs": [],
   "source": [
    "def chi2_cp(cp, cp_ref, cp_ref_error):\n",
    "    return np.mean((cp - cp_ref)**2/cp_ref_error**2)"
   ]
  },
  {
   "cell_type": "code",
   "execution_count": 10,
   "metadata": {},
   "outputs": [],
   "source": [
    "def tikhonov_reg(image, prior=None):\n",
    "    if prior is None: # uniform prior\n",
    "        prior = image.sum() / image.size\n",
    "    return np.sum(image**2 / prior)"
   ]
  },
  {
   "cell_type": "code",
   "execution_count": 11,
   "metadata": {},
   "outputs": [],
   "source": [
    "def safe_log(x):\n",
    "    out = np.zeros_like(x)\n",
    "    out[x <= 0] = -1000\n",
    "    out[x > 0] = np.log(x[x > 0] + 1e-16)\n",
    "    return out\n",
    "\n",
    "def safe_exp(x):\n",
    "    out = np.zeros_like(x)\n",
    "    out[x > -20] = np.exp(x)\n",
    "    return out\n",
    "\n",
    "def maximum_entropy_reg(image, prior=None):\n",
    "    if prior is None:\n",
    "        prior = image.sum() / image.size\n",
    "    return np.sum(image * safe_log(image / prior) - image + prior)\n",
    "    "
   ]
  },
  {
   "cell_type": "code",
   "execution_count": 12,
   "metadata": {},
   "outputs": [],
   "source": [
    "# def gaussian_prior(uv_data):\n",
    "#     def log_likelihood(params, )"
   ]
  },
  {
   "cell_type": "code",
   "execution_count": 13,
   "metadata": {},
   "outputs": [],
   "source": [
    "def baseline_projector(uv_data):\n",
    "    baselines = len(uv_data[\"OI_VIS2\"].data)\n",
    "    apertures = len(uv_data[\"OI_ARRAY\"].data)\n",
    "    bp = np.zeros((baselines, apertures))\n",
    "    indexes = uv_data[\"OI_VIS2\"].data[\"STA_INDEX\"]\n",
    "    if indexes.min() >= 1:\n",
    "        indexes -= indexes.min()\n",
    "    for i in range(baselines):\n",
    "        bp[i, indexes[i]] = 1\n",
    "    return bp\n",
    "\n",
    "def bispectra_projectors(uv_data):\n",
    "    bp = baseline_projector(uv_data)\n",
    "    triangles = len(uv_data[\"OI_T3\"].data)\n",
    "    time_uv = uv_data[\"OI_VIS2\"].data[\"TIME\"]\n",
    "    time_bispectra = uv_data[\"OI_T3\"].data[\"TIME\"]\n",
    "    sta_indexes = uv_data[\"OI_T3\"].data[\"STA_INDEX\"]\n",
    "    if sta_indexes.min() >= 1:\n",
    "        sta_indexes -= sta_indexes.min()\n",
    "    \n",
    "    bisp1 = np.zeros((triangles, bp.shape[0])) # projector to a triangle leg\n",
    "    bisp2 = np.zeros_like(bisp1)\n",
    "    bisp3 = np.zeros_like(bisp1)\n",
    "    bisps = [bisp1, bisp2, bisp3]\n",
    "    \n",
    "    legs = [(0, 1), (1, 2), (0, 2)]\n",
    "    \n",
    "    # find a mapping between bispectra and each legs of each triangle, works with 2004true fits\n",
    "    for i, t in enumerate(time_bispectra):\n",
    "        for j, leg in enumerate(legs):\n",
    "            baseline = np.where((bp[:, sta_indexes[i, leg]] != 0).all(axis=1) & (time_uv == time_bispectra[i]))[0]\n",
    "            if len(baseline) == 1:\n",
    "                bisps[j][i, baseline] = 1\n",
    "#             elif len(baseline) == 0: # this will happen when conjugate baselines are removed\n",
    "#                 print(time_bispectra[i])\n",
    "#                 print(np.argmin(np.abs(time_uv - time_bispectra[i])))\n",
    "#                 print(np.where((bp[:, sta_indexes[i, leg]] != 0).all(axis=1)))\n",
    "#                 print(np.where((time_uv == time_bispectra[i])))\n",
    "#                 print( np.where((bp[:, sta_indexes[i, leg]] != 0).all(axis=1) & (time_uv == time_bispectra[i]))[0])\n",
    "#                 print(f\"No match for V {i}, leg {leg} at time {t}\")\n",
    "#             else:\n",
    "#                 print(baseline)\n",
    "    return bisps"
   ]
  },
  {
   "cell_type": "code",
   "execution_count": 14,
   "metadata": {},
   "outputs": [],
   "source": [
    "class ForwardModel:\n",
    "\n",
    "    def __init__(self, pixels, uv, plate_scale, wavel):\n",
    "        self.pad = pixels//2\n",
    "        self.plan = NFFT([2 * pixels, 2 * pixels], uv.shape[0], n=[2 * pixels, 2 * pixels])\n",
    "        self.phase = np.exp(-1j * np.pi / wavel * mas2rad(plate_scale) * (uv[:, 0] + uv[:, 1]))\n",
    "        self.bisps = bispectra_projectors(uv_data)\n",
    "        self.plan.x = uv / wavel * mas2rad(plate_scale)\n",
    "        self.plan.precompute()\n",
    "\n",
    "    def visibility(self, image):\n",
    "        # complex visibility\n",
    "        image = image.reshape([pixels, pixels])\n",
    "        _image = np.pad(image.copy(), [[pixels//2, pixels//2], [pixels//2, pixels//2]], mode=\"constant\", constant_values=[(0, 0), (0, 0)])\n",
    "        self.plan.f_hat = _image.ravel()\n",
    "        self.plan.trafo()\n",
    "        vis = self.plan.f.copy() * self.phase\n",
    "        return vis\n",
    "\n",
    "    def bispectra(self, V): # lexicographic convention\n",
    "        V1 = self.bisps[0] @ V\n",
    "        V2 = self.bisps[1] @ V\n",
    "        V3 = self.bisps[2] @ V\n",
    "        return V1 * V2 * V3.conj()\n",
    "\n",
    "    def forward(self, image):\n",
    "        V = self.visibility(image)\n",
    "        amp = np.abs(V)\n",
    "        cp = np.angle(self.bispectra(V))\n",
    "        return amp, cp\n",
    "    "
   ]
  },
  {
   "cell_type": "code",
   "execution_count": 15,
   "metadata": {},
   "outputs": [],
   "source": [
    "class VLTIForward:\n",
    "    def __init__(self, pixels, uv, uv1, uv2, uv3, plate_scale, wavel):\n",
    "        self.pad = pixels//2\n",
    "        self.plan = NFFT([2 * pixels, 2 * pixels], uv.shape[0], n=[2 * pixels, 2 * pixels])\n",
    "        self.plan1 = NFFT([2 * pixels, 2 * pixels], uv1.shape[0], n=[2 * pixels, 2 * pixels])\n",
    "        self.plan2 = NFFT([2 * pixels, 2 * pixels], uv2.shape[0], n=[2 * pixels, 2 * pixels])\n",
    "        self.plan3 = NFFT([2 * pixels, 2 * pixels], uv3.shape[0], n=[2 * pixels, 2 * pixels])\n",
    "\n",
    "        self.phase = np.exp(-1j * np.pi / wavel * mas2rad(plate_scale) * (uv[:, 0] + uv[:, 1]))\n",
    "        self.bisps = bispectra_projectors(uv_data)\n",
    "        self.plan.x = uv / wavel * mas2rad(plate_scale)\n",
    "        self.plan.precompute()\n",
    "        \n",
    "        self.plan1.x = uv1 / wavel * mas2rad(plate_scale)\n",
    "        self.plan1.precompute()\n",
    "        self.plan2.x = uv2 / wavel * mas2rad(plate_scale)\n",
    "        self.plan2.precompute()\n",
    "        self.plan3.x = uv3 / wavel * mas2rad(plate_scale)\n",
    "        self.plan3.precompute()\n",
    "\n",
    "    def visibility(self, image):\n",
    "        # complex visibility\n",
    "        image = image.reshape([pixels, pixels])\n",
    "        _image = np.pad(image.copy(), [[pixels//2, pixels//2], [pixels//2, pixels//2]], mode=\"constant\", constant_values=[(0, 0), (0, 0)])\n",
    "        self.plan.f_hat = _image.ravel()\n",
    "        self.plan.trafo()\n",
    "        vis = self.plan.f.copy() * self.phase\n",
    "        return vis\n",
    "\n",
    "    def bispectra(self, image): # lexicographic convention\n",
    "        image = image.reshape([pixels, pixels])\n",
    "        _image = np.pad(image.copy(), [[pixels//2, pixels//2], [pixels//2, pixels//2]], mode=\"constant\", constant_values=[(0, 0), (0, 0)])\n",
    "        self.plan1.f_hat = _image.ravel()\n",
    "        V1 = self.plan1.trafo()\n",
    "#         V1 += np.random.normal(0, 0.01, V1.shape) + 1j * np.random.normal(0, 0.01, V1.shape)\n",
    "        \n",
    "        self.plan2.f_hat = _image.ravel()\n",
    "        V2 = self.plan2.trafo()\n",
    "#         V2 += np.random.normal(0, 0.01, V1.shape) + 1j * np.random.normal(0, 0.01, V1.shape)\n",
    "        \n",
    "        self.plan3.f_hat = _image.ravel()\n",
    "        V3 = self.plan3.trafo()\n",
    "#         V3 += np.random.normal(0, 0.01, V1.shape) + 1j * np.random.normal(0, 0.01, V1.shape)\n",
    "        return V1 * V2 * V3.conj()\n",
    "    \n",
    "    def forward(self, image):\n",
    "        V = self.visibility(image)\n",
    "        amp = np.abs(V)\n",
    "        print(\"hello\")\n",
    "        cp = np.angle(self.bispectra(image))\n",
    "        return amp, cp\n",
    "    "
   ]
  },
  {
   "cell_type": "code",
   "execution_count": 17,
   "metadata": {},
   "outputs": [
    {
     "data": {
      "text/plain": [
       "<matplotlib.legend.Legend at 0x7f7bd05b6748>"
      ]
     },
     "execution_count": 17,
     "metadata": {},
     "output_type": "execute_result"
    },
    {
     "data": {
      "image/png": "[encoded data removed]",
      "text/plain": [
       "<Figure size 432x288 with 1 Axes>"
      ]
     },
     "metadata": {
      "needs_background": "light"
     },
     "output_type": "display_data"
    }
   ],
   "source": [
    "# Check that forward model works as intended\n",
    "# uv = np.concatenate([uv, -uv], axis=0)\n",
    "\n",
    "# f_hat = DFTM(uv)\n",
    "rho = np.hypot(uv[:, 0], uv[:, 1])\n",
    "plate_scale = rad2mas(wavel/15/np.max(rho)) # have to fit this properly for a set of observation\n",
    "\n",
    "ndft = NDFTM(uv, wavel, pixels, plate_scale)\n",
    "# amp2 = np.abs(ndft @ true_image.ravel())\n",
    "\n",
    "forward = ForwardModel(pixels, uv, plate_scale, wavel)\n",
    "# forward = VLTIForward(pixels, uv, uv1, uv2, uv3, plate_scale, wavel)\n",
    "\n",
    "# noisy_image = true_image + np.random.uniform(0, 0.0001, true_image.shape)\n",
    "# noisy_image /= noisy_image.sum() * 2\n",
    "# amp, cp = forward.forward(noisy_image)\n",
    "amp, cp = forward.forward(true_image)\n",
    "\n",
    "plt.plot(np.sort(np.rad2deg(cp)), \"k-\", label=\"nufft\")\n",
    "# plt.errorbar(np.arange(cp_ref.shape[0]), cp_ref, yerr=cp_ref_error, label=\"true\", fmt=\".\", color=\"b\")\n",
    "plt.plot(np.sort(cp_ref), \"b-\", label=\"true\")\n",
    "\n",
    "# plt.errorbar(rho, amp_ref, yerr=amp_ref_error, label=\"true\", fmt=\".\", color=\"b\")\n",
    "# plt.plot(rho, amp, \"k.\", label=\"nufft\")\n",
    "plt.legend()"
   ]
  },
  {
   "cell_type": "code",
   "execution_count": 19,
   "metadata": {},
   "outputs": [],
   "source": [
    "def likelihood(image, amp_ref, amp_ref_error, cp_ref, cp_ref_error, alpha, prior, forward):\n",
    "    im = np.exp(image)\n",
    "    im /= im.sum() # softmax link function\n",
    "    amp, cp = forward.forward(im)\n",
    "    chi1 = chi2_amp(amp, amp_ref, amp_ref_error)\n",
    "    chi2 = chi2_cp(cp, cp_ref, cp_ref_error)\n",
    "    reg1 = tikhonov_reg(im)\n",
    "    reg2 = maximum_entropy_reg(im, prior)\n",
    "    print(chi1, chi2, alpha * (reg2 + reg1))\n",
    "    return (chi1 + chi2 + alpha * (reg1 + reg1)) / (len(amp_ref) + len(cp_ref))\n",
    "\n",
    "def grad_likelihood(image, amp_ref, amp_ref_error, cp_ref, cp_ref_error, alpha, prior, forward):\n",
    "    im = np.exp(image)\n",
    "    im /= im.sum()\n",
    "    grad1 = grad_chi1_nfft(im, amp_ref, amp_ref_error, forward)\n",
    "    grad2 = grad_chi2_nfft(im, cp_ref, cp_ref_error, forward)\n",
    "    gradr1 = grad_reg1(im, prior)\n",
    "    gradr2 = grad_reg2(im, prior)\n",
    "    out = im * (grad1.ravel() + grad2.ravel() + alpha * (gradr1 + gradr2)) / (len(amp_ref) + len(cp_ref))\n",
    "#     print((out**2).var())\n",
    "    return out\n",
    "\n",
    "def grad_chi1_nfft(image, amp_ref, amp_ref_error, forward):\n",
    "    samples = np.abs(forward.visibility(image))**2\n",
    "    sigma = amp_ref_error\n",
    "    amp = amp_ref\n",
    "    wdiff = -2./amp_ref.shape[0] * (samples - amp) * samples / sigma**2 / samples * forward.phase.conj()\n",
    "    \n",
    "    # inverse fourier transform\n",
    "    forward.plan.f = wdiff\n",
    "    out = np.real(forward.plan.adjoint())\n",
    "    # remove the padding\n",
    "    out = out.reshape([2*pixels, 2*pixels]).T\n",
    "    out = out[pixels//2:-pixels//2, pixels//2:-pixels//2]\n",
    "    return out\n",
    "\n",
    "\n",
    "def grad_chi2_nfft(image, cp_ref, cp_ref_error, forward):\n",
    "    V = forward.visibility(image)\n",
    "    V1 = forward.bisps[0] @ V\n",
    "    V2 = forward.bisps[1] @ V\n",
    "    V3 = forward.bisps[2] @ V\n",
    "    cp_samples = np.angle(V1 * V2 * V3.conj())\n",
    "    \n",
    "    # gradient for adjoint FFT\n",
    "    wdiff = 2./len(cp_samples) * np.sin(cp_ref - cp_samples)/cp_ref_error**2\n",
    "    p1 = wdiff / V1.conj()\n",
    "    p2 = wdiff / V2\n",
    "    p3 = wdiff / V3.conj()\n",
    "    \n",
    "    plan = NFFT([2*pixels, 2*pixels], V1.shape[0], n=[2*pixels, 2*pixels])\n",
    "    x = forward.plan.x.copy()\n",
    "    \n",
    "    plan.x = np.einsum(\"ij, j... -> i...\", forward.bisps[0], x)\n",
    "    plan.precompute()\n",
    "    plan.f = p1\n",
    "    p1_hat = plan.adjoint() \n",
    "    out1 = np.imag(p1_hat)\n",
    "    \n",
    "    plan.x = np.einsum(\"ij, j... -> i...\", forward.bisps[1], x)\n",
    "    plan.precompute()\n",
    "    plan.f = p2.conj()\n",
    "    p2_hat = plan.adjoint()\n",
    "    out2 = np.imag(p2_hat)\n",
    "    \n",
    "    plan.x = np.einsum(\"ij, j... -> i...\", forward.bisps[2], x)\n",
    "    plan.precompute()\n",
    "    plan.f = p3\n",
    "    p3_hat = plan.adjoint()\n",
    "    out3 = np.imag(p3_hat)\n",
    "    out = out1 + out2 + out3\n",
    "    out = out.reshape([2*pixels, 2*pixels])\n",
    "    out = out[pixels//2:-pixels//2, pixels//2:-pixels//2]\n",
    "    return out\n",
    "\n",
    "def grad_reg2(image, prior=None):\n",
    "    if prior is None:\n",
    "        prior = image.sum() / image.size\n",
    "    out = safe_log(image / prior) +  prior - 1\n",
    "    return out\n",
    "\n",
    "def grad_reg1(image, prior=None):\n",
    "    if prior is None:\n",
    "        prior = image.sum() / image.size\n",
    "    return 2 * image / prior\n"
   ]
  },
  {
   "cell_type": "code",
   "execution_count": 20,
   "metadata": {},
   "outputs": [
    {
     "name": "stdout",
     "output_type": "stream",
     "text": [
      "66595.44477599756 1.5226414005807214 -58689.418750711346\n",
      "66551.29817863458 1.5240572471293181 -58689.41860127033\n",
      "66371.11993711775 1.5273264168015952 -58689.41798970887\n",
      "65572.6335612735 1.1972801317547366 -58689.4153122713\n",
      "61551.01767804587 0.6744520116438273 -58689.400155975105\n",
      "36310.430453941175 0.21131574775059547 -58689.20030819213\n",
      "15486.255404936961 0.15280961217253428 -58684.644345995555\n",
      "207142.461374918 0.0535108939191654 -58611.67073264177\n",
      "15905.739031533269 0.1514458713348546 -58684.56698897417\n",
      "15486.255404936961 0.15280961217253428 -58684.644345995555\n",
      "15493.090873062283 0.15274631279114056 -58684.64258721366\n",
      "15486.25925622715 0.15280957648741764 -58684.64434500472\n",
      "15486.255407107923 0.15280961215241878 -58684.644345994995\n",
      "15486.25540493819 0.15280961217252295 -58684.644345995555\n",
      "15486.255404936961 0.15280961217253428 -58684.644345995555\n",
      "15486.255404936961 0.15280961217253428 -58684.644345995555\n",
      "15486.255404937572 0.1528096121725286 -58684.644345995555\n",
      "15486.255404936961 0.15280961217253428 -58684.644345995555\n",
      "15486.255404936961 0.15280961217253428 -58684.644345995555\n",
      "15486.255404937263 0.15280961217253142 -58684.644345995555\n",
      "15486.255404936961 0.15280961217253428 -58684.644345995555\n",
      "15486.255404936961 0.15280961217253428 -58684.644345995555\n",
      "15486.255404937114 0.15280961217253283 -58684.644345995555\n",
      "15486.255404936961 0.15280961217253428 -58684.644345995555\n",
      "15486.255404936961 0.15280961217253428 -58684.644345995555\n",
      "15486.255404937041 0.15280961217253353 -58684.644345995555\n",
      "15486.255404936961 0.15280961217253428 -58684.644345995555\n",
      "15486.255404936961 0.15280961217253428 -58684.644345995555\n",
      "15486.255404937 0.1528096121725339 -58684.644345995555\n",
      "15486.255404936961 0.15280961217253428 -58684.644345995555\n",
      "15486.255404936961 0.15280961217253428 -58684.644345995555\n",
      "15486.255404936976 0.15280961217253408 -58684.644345995555\n",
      "15486.255404936961 0.15280961217253428 -58684.644345995555\n",
      "15486.255404936961 0.15280961217253428 -58684.644345995555\n",
      "15486.255404936972 0.15280961217253414 -58684.644345995555\n",
      "15486.255404936961 0.15280961217253428 -58684.644345995555\n",
      "15486.255404936961 0.15280961217253428 -58684.644345995555\n",
      "15486.255404936966 0.1528096121725341 -58684.644345995555\n",
      "15486.255404936961 0.15280961217253428 -58684.644345995555\n",
      "15486.255404936961 0.15280961217253428 -58684.644345995555\n",
      "15486.25540493696 0.15280961217253416 -58684.644345995555\n",
      "15486.25540493696 0.15280961217253416 -58684.644345995555\n",
      "15486.25540493696 0.15280961217253416 -58684.644345995555\n",
      "15486.255404936961 0.1528096121725341 -58684.644345995555\n",
      "15486.25540493696 0.15280961217253416 -58684.644345995555\n",
      "15486.25540493696 0.15280961217253416 -58684.644345995555\n",
      "15486.255404936961 0.1528096121725341 -58684.644345995555\n",
      "15486.25540493696 0.15280961217253416 -58684.644345995555\n",
      "15486.25540493696 0.15280961217253416 -58684.644345995555\n",
      "15486.25540493696 0.15280961217253416 -58684.644345995555\n",
      "15486.25540493696 0.15280961217253416 -58684.644345995555\n"
     ]
    }
   ],
   "source": [
    "alpha = 0.1\n",
    "x = np.arange(pixels) - pixels//2 + 0.5\n",
    "xx, yy = np.meshgrid(x, x)\n",
    "rho = np.hypot(xx, yy)\n",
    "sigma = 40\n",
    "prior = 1/2/np.pi/sigma * np.exp(-0.5 * rho**2 / sigma**2)\n",
    "\n",
    "# prior = uniform_prior(true_image)\n",
    "plate_scale = rad2mas(wavel/10/np.max(rho))\n",
    "forward = ForwardModel(pixels, uv, plate_scale, wavel)\n",
    "\n",
    "_amp_ref, _cp_ref = forward.forward(true_image)\n",
    "\n",
    "\n",
    "x0 = safe_log(0.1 * prior + true_image +  np.random.uniform(0, 0.001, true_image.shape))\n",
    "x0 = gaussian_filter(x0, sigma=3)\n",
    "\n",
    "prior = safe_log(prior)\n",
    "history = minimize(likelihood, x0, args=(_amp_ref, amp_ref_error, _cp_ref, cp_ref_error, alpha, prior.ravel(), forward), \n",
    "                   method=\"L-BFGS-B\", jac=grad_likelihood, options={\"maxiter\": 200, \"maxls\": 100, \"gtol\": 1e-8, \"ftol\": 1e-8, \"maxcor\": 100})"
   ]
  },
  {
   "cell_type": "code",
   "execution_count": 37,
   "metadata": {},
   "outputs": [
    {
     "name": "stdout",
     "output_type": "stream",
     "text": [
      "21615.328560768372 0.14020219428611785 -0.0\n",
      "66.50913465526972\n"
     ]
    },
    {
     "data": {
      "text/plain": [
       "      fun: 66.54215765562252\n",
       " hess_inv: <65536x65536 LbfgsInvHessProduct with dtype=float64>\n",
       "      jac: array([-7.08908526e-09, -7.82128149e-09, -9.43575967e-09, ...,\n",
       "       -7.84580961e-08, -7.66922485e-08, -7.46649611e-08])\n",
       "  message: b'CONVERGENCE: REL_REDUCTION_OF_F_<=_FACTR*EPSMCH'\n",
       "     nfev: 48\n",
       "      nit: 2\n",
       "   status: 0\n",
       "  success: True\n",
       "        x: array([-5.08038589, -4.98230621, -4.79488495, ..., -2.67765686,\n",
       "       -2.70028792, -2.72694684])"
      ]
     },
     "execution_count": 37,
     "metadata": {},
     "output_type": "execute_result"
    }
   ],
   "source": [
    "print(likelihood(history.x, _amp_ref, amp_ref_error, _cp_ref, cp_ref_error, 0, prior.ravel(), forward))\n",
    "history"
   ]
  },
  {
   "cell_type": "code",
   "execution_count": 38,
   "metadata": {},
   "outputs": [
    {
     "data": {
      "text/plain": [
       "<matplotlib.colorbar.Colorbar at 0x7fa90425a390>"
      ]
     },
     "execution_count": 38,
     "metadata": {},
     "output_type": "execute_result"
    },
    {
     "data": {
      "image/png": "[encoded data removed]",
      "text/plain": [
       "<Figure size 432x288 with 2 Axes>"
      ]
     },
     "metadata": {
      "needs_background": "light"
     },
     "output_type": "display_data"
    }
   ],
   "source": [
    "im = np.exp(history.x).reshape([pixels, pixels])\n",
    "im /= im.sum()\n",
    "# im = gaussian_filter(im, sigma=5)\n",
    "# plt.imshow((im - true_image)**2, cmap=\"hot\", origin=\"lower\")\n",
    "plt.imshow(im, cmap=\"hot\", origin=\"lower\")\n",
    "plt.colorbar()"
   ]
  },
  {
   "cell_type": "code",
   "execution_count": 39,
   "metadata": {},
   "outputs": [
    {
     "data": {
      "text/plain": [
       "<matplotlib.image.AxesImage at 0x7fa928730160>"
      ]
     },
     "execution_count": 39,
     "metadata": {},
     "output_type": "execute_result"
    },
    {
     "data": {
      "image/png": "[encoded data removed]",
      "text/plain": [
       "<Figure size 432x288 with 1 Axes>"
      ]
     },
     "metadata": {
      "needs_background": "light"
     },
     "output_type": "display_data"
    }
   ],
   "source": [
    "plt.imshow(np.exp(x0),cmap=\"hot\", origin=\"lower\")"
   ]
  },
  {
   "cell_type": "code",
   "execution_count": null,
   "metadata": {},
   "outputs": [],
   "source": []
  },
  {
   "cell_type": "code",
   "execution_count": null,
   "metadata": {},
   "outputs": [],
   "source": []
  }
 ],
 "metadata": {
  "kernelspec": {
   "display_name": "Python 3",
   "language": "python",
   "name": "python3"
  },
  "language_info": {
   "codemirror_mode": {
    "name": "ipython",
    "version": 3
   },
   "file_extension": ".py",
   "mimetype": "text/x-python",
   "name": "python",
   "nbconvert_exporter": "python",
   "pygments_lexer": "ipython3",
   "version": "3.6.10"
  }
 },
 "nbformat": 4,
 "nbformat_minor": 4
}
