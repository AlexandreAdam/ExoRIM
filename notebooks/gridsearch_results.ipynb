{
 "cells": [
  {
   "cell_type": "code",
   "execution_count": 1,
   "id": "76d39fe1",
   "metadata": {},
   "outputs": [],
   "source": [
    "import pandas as pd\n",
    "pd.set_option('display.max_rows', 500)\n",
    "pd.set_option('display.max_columns', 500)\n",
    "pd.set_option('display.width', 2000)\n",
    "pd.set_option('max_colwidth', 400)"
   ]
  },
  {
   "cell_type": "code",
   "execution_count": 9,
   "id": "c74d07db",
   "metadata": {},
   "outputs": [
    {
     "data": {
      "text/html": [
       "<div>\n",
       "<style scoped>\n",
       "    .dataframe tbody tr th:only-of-type {\n",
       "        vertical-align: middle;\n",
       "    }\n",
       "\n",
       "    .dataframe tbody tr th {\n",
       "        vertical-align: top;\n",
       "    }\n",
       "\n",
       "    .dataframe thead th {\n",
       "        text-align: right;\n",
       "    }\n",
       "</style>\n",
       "<table border=\"1\" class=\"dataframe\">\n",
       "  <thead>\n",
       "    <tr style=\"text-align: right;\">\n",
       "      <th></th>\n",
       "      <th>oversampling_factor</th>\n",
       "      <th>activation</th>\n",
       "      <th>redundant</th>\n",
       "      <th>batch_size</th>\n",
       "      <th>initial_learning_rate</th>\n",
       "      <th>block_conv_layers</th>\n",
       "      <th>layers</th>\n",
       "      <th>steps</th>\n",
       "      <th>filters</th>\n",
       "      <th>filter_scaling</th>\n",
       "      <th>input_kernel_size</th>\n",
       "      <th>residual_weights</th>\n",
       "      <th>train_cost</th>\n",
       "      <th>train_chi_squared</th>\n",
       "      <th>experiment_id</th>\n",
       "    </tr>\n",
       "  </thead>\n",
       "  <tbody>\n",
       "  </tbody>\n",
       "</table>\n",
       "</div>"
      ],
      "text/plain": [
       "Empty DataFrame\n",
       "Columns: [oversampling_factor, activation, redundant, batch_size, initial_learning_rate, block_conv_layers, layers, steps, filters, filter_scaling, input_kernel_size, residual_weights, train_cost, train_chi_squared, experiment_id]\n",
       "Index: []"
      ]
     },
     "execution_count": 9,
     "metadata": {},
     "output_type": "execute_result"
    }
   ],
   "source": [
    "df = pd.read_csv(\"../results/RIMB_wide_search3.csv\")\n",
    "# df = pd.read_csv(\"../results/RIMB_wide_search1.csv\")\n",
    "# df = pd.read_csv(\"../results/RIMB_targeted_search.csv\")\n",
    "\n",
    "\n",
    "# df = pd.concat([\n",
    "#     pd.read_csv(\"../results/RIMB_wide_search2.csv\"), \n",
    "#     pd.read_csv(\"../results/RIMB_wide_search1.csv\"), \n",
    "#     pd.read_csv(\"../results/RIMB_targeted_search.csv\"),\n",
    "#     pd.read_csv(\"../results/RIMB_wide_search3.csv\")\n",
    "# ])\n",
    "columns = [\n",
    "    \"oversampling_factor\", \n",
    "    \"activation\",\n",
    "    \"redundant\",\n",
    "    \"batch_size\", \n",
    "    \"initial_learning_rate\", \n",
    "    \"block_conv_layers\",\n",
    "    \"layers\", \n",
    "    \"steps\", \n",
    "    \"filters\", \n",
    "    \"filter_scaling\",\n",
    "    \"input_kernel_size\",\n",
    "    \"residual_weights\", \n",
    "    \"train_cost\", \n",
    "    \"train_chi_squared\", \n",
    "    \"experiment_id\",\n",
    "\n",
    "]\n",
    "df[df[\"total_items\"] >= 10000][columns].sort_values(by=\"train_chi_squared\")"
   ]
  },
  {
   "cell_type": "code",
   "execution_count": 1,
   "id": "04439e3c",
   "metadata": {},
   "outputs": [],
   "source": [
    "from exorim import RIM, PhysicalModel\n",
    "from exorim.simulated_data import CenteredBinariesDataset\n",
    "from exorim.definitions import DTYPE, rad2mas\n",
    "from exorim.models import Model\n",
    "import tensorflow as tf\n",
    "import os, json\n",
    "from argparse import Namespace\n",
    "import numpy as np\n",
    "import matplotlib.pyplot as plt\n",
    "from matplotlib.colors import LogNorm\n",
    "from ipywidgets import interact, interactive, fixed, interact_manual\n",
    "import ipywidgets as widgets\n",
    "from mpl_toolkits.axes_grid1 import make_axes_locatable\n",
    "from ipywidgets import interactive"
   ]
  },
  {
   "cell_type": "code",
   "execution_count": 2,
   "id": "788b269a",
   "metadata": {},
   "outputs": [
    {
     "data": {
      "text/plain": [
       "<tensorflow.python.training.tracking.util.CheckpointLoadStatus at 0x7f6ca93df9d0>"
      ]
     },
     "execution_count": 2,
     "metadata": {},
     "output_type": "execute_result"
    }
   ],
   "source": [
    "# model = \"RIMB_wide_search2_005_TS8_F256_FS1.0_IK3_L2_NLtanh_B1_RWuniform_220131130235\"\n",
    "# model = \"RIMB_wide_search2_004_TS6_F256_FS2.0_IK5_L2_NLtanh_B10_RWuniform_220131130235\"\n",
    "# model = \"RIMB_wide_search2_008_TS10_F128_FS2.0_IK7_L2_NLtanh_B10_RWuniform_220131130237\"\n",
    "model = \"RIMB_wide_search3_040_TS6_F128_FS2.0_IK7_L2_BCL1_NLleaky_relu_B1_RWuniform_OF3.0_220331213952\"\n",
    "# model = \"RIMB_targeted_search_010_TS12_FS1.0_IK7_OF1.0_220324122728\"\n",
    "# model = \"RIMB_targeted_search_013_TS12_FS2.0_IK5_OF2.0_220324123430\"\n",
    "model_dir = os.path.join(os.getenv(\"EXORIM_PATH\"), \"models\", model)\n",
    "with open(os.path.join(model_dir, \"model_hparams.json\"), \"r\") as f:\n",
    "    model_hparams = json.load(f)\n",
    "\n",
    "args = Namespace()\n",
    "with open(os.path.join(model_dir, \"script_params.json\"), \"r\") as f:\n",
    "    vars(args).update(json.load(f))\n",
    "\n",
    "model = Model(**model_hparams)\n",
    "\n",
    "pixels = args.pixels\n",
    "phys = PhysicalModel(\n",
    "    pixels=pixels,\n",
    "    wavelength=args.wavelength,\n",
    "    logim=True,\n",
    "    oversampling_factor=args.oversampling_factor,\n",
    "    chi_squared=args.chi_squared\n",
    ")\n",
    "rim = RIM(\n",
    "    model=model,\n",
    "    physical_model=phys,\n",
    "    steps=args.steps,\n",
    "    log_floor=args.log_floor,\n",
    "    adam=True,\n",
    ")\n",
    "\n",
    "ckpt = tf.train.Checkpoint(step=tf.Variable(1),  net=model)\n",
    "checkpoint_manager = tf.train.CheckpointManager(ckpt, model_dir, max_to_keep=1)\n",
    "checkpoint_manager.checkpoint.restore(checkpoint_manager.latest_checkpoint).expect_partial()"
   ]
  },
  {
   "cell_type": "code",
   "execution_count": 9,
   "id": "ed5e468d",
   "metadata": {},
   "outputs": [],
   "source": [
    "def super_gaussian(I, x0, y0, width):\n",
    "    x = np.arange(pixels) - pixels//2 + 0.5 * (pixels%2)\n",
    "    x, y = np.meshgrid(x, x)\n",
    "\n",
    "    rho = np.hypot(x - x0, y - y0)\n",
    "    im = np.exp(-0.5 * (rho/width)**2)\n",
    "    im /= im.sum()\n",
    "    im *= I\n",
    "    return im\n",
    "\n",
    "def simuluate_binary(phys, angle=0., contrast=10., separation=2., width=2, sigma=1e-2):\n",
    "    images = np.zeros(shape=[1, pixels, pixels, 1])\n",
    "    for j in range(2):\n",
    "        x0 = separation * np.cos(angle + j * np.pi)/2\n",
    "        y0 = separation * np.sin(angle + j * np.pi)/2\n",
    "        images[0, ..., 0] += super_gaussian(1. if j == 0 else 1/contrast, x0, y0, width)\n",
    "\n",
    "    images = images / images.sum(axis=(1, 2), keepdims=True)  # renormalize in the range [0, 1]\n",
    "    images = tf.constant(images, dtype=DTYPE)\n",
    "    X, sigma = phys.noisy_forward(images, np.tile(np.array(sigma)[None, None], [1, phys.nbuv]))\n",
    "    return X, images, sigma"
   ]
  },
  {
   "cell_type": "code",
   "execution_count": 35,
   "id": "bb605861",
   "metadata": {},
   "outputs": [
    {
     "data": {
      "application/vnd.jupyter.widget-view+json": {
       "model_id": "00257551895249a3b97504d6f7035123",
       "version_major": 2,
       "version_minor": 0
      },
      "text/plain": [
       "interactive(children=(FloatSlider(value=0.0, description='angle', max=3.141592653589793), Dropdown(description…"
      ]
     },
     "metadata": {},
     "output_type": "display_data"
    }
   ],
   "source": [
    "floor = rim.log_floor\n",
    "def f(angle=0., contrast=10, separation=10, width=2, sigma=1e-2):\n",
    "    _sigma = sigma\n",
    "    fig, axs = plt.subplots(1, 4, figsize=(32, 8))\n",
    "    X, images, sigma = simuluate_binary(phys, angle, contrast, separation, width, sigma)\n",
    "    predictions, chi_squared = rim.call(X, sigma)\n",
    "    print(chi_squared)\n",
    "    print(X)\n",
    "    \n",
    "    ax = axs[0]\n",
    "    im = ax.imshow(predictions[-1, 0, ..., 0], cmap=\"hot\", vmin=np.log10(floor), vmax=0)\n",
    "    ax.axis(\"off\")\n",
    "    ax.set_title(\"Prediction\")\n",
    "    \n",
    "    ax = axs[1]\n",
    "    im = ax.imshow(np.maximum(images[0, ..., 0], floor), cmap=\"hot\", norm=LogNorm(vmin=floor, vmax=1, clip=True))\n",
    "    ax.axis(\"off\")\n",
    "    ax.set_title(\"Ground Truth\")\n",
    "    divider = make_axes_locatable(ax)\n",
    "    cax = divider.append_axes(\"right\", size=\"5%\", pad=0.05)\n",
    "    plt.colorbar(im, cax=cax)\n",
    "    \n",
    "    fft = np.abs(np.fft.fftshift(np.fft.fft2(images[..., 0])))[0]\n",
    "\n",
    "    uv = phys.operators.UVC\n",
    "    wavel = args.wavelength\n",
    "    rho = np.hypot(uv[:, 0], uv[:, 1])\n",
    "    fftfreq = np.fft.fftshift(np.fft.fftfreq(phys.pixels, phys.plate_scale))\n",
    "\n",
    "    ax = axs[2]\n",
    "    im = ax.imshow(np.abs(fft) + np.random.normal(size=np.abs(fft).shape, scale=_sigma), cmap=\"hot\", extent=[fftfreq.min(), fftfreq.max()] * 2)\n",
    "    ufreq = 1 / rad2mas(1 / uv[:, 0] * wavel)\n",
    "    vfreq = 1 / rad2mas(1 / uv[:, 1] * wavel)\n",
    "    ax.plot(ufreq, vfreq, \"bo\")\n",
    "    ax.set_title(\"UV coverage\")\n",
    "    ax.axis(\"off\")\n",
    "    \n",
    "    cp_gt = phys.forward(images)[0, phys.nbuv:]\n",
    "    cp_pred = phys.forward(predictions[-1])[0, phys.nbuv:]\n",
    "    axs[3].plot(cp_gt * 180 / np.pi, color=\"k\", label=\"Ground Truth\")\n",
    "    axs[3].plot(cp_pred * 180 / np.pi, ls=\"--\", lw=3, color=\"b\", label=\"RIM\")\n",
    "    axs[3].set_title(\"7-holes JWST mask\")\n",
    "    axs[3].set_xlabel(\"Closure triangle\")\n",
    "    axs[3].set_ylabel(\"Closure phases (degrees)\")\n",
    "    axs[3].legend()\n",
    "    \n",
    "#     cp_gt = X[0, :phys.nbuv]#phys.forward(images)[0, :phys.nbuv]\n",
    "#     cp_pred = phys.forward(phys.image_link(predictions[-1]) / phys.image_link(predictions[-1]).numpy().sum())[0, :phys.nbuv]\n",
    "#     axs[3].plot(cp_gt, color=\"k\", label=\"Ground Truth\")\n",
    "#     axs[3].plot(cp_pred, ls=\"--\", lw=3, color=\"b\", label=\"RIM\")\n",
    "#     axs[3].set_title(\"7-holes JWST mask\")\n",
    "#     axs[3].set_xlabel(\"Baselines\")\n",
    "#     axs[3].set_ylabel(\"Visibility\")\n",
    "#     axs[3].legend()\n",
    "    \n",
    "interactive(f, separation=(2, 20), angle=(0, np.pi), contrast=[1, 2, 3, 4, 5, 6, 7, 8, 9, 10, 20, 100, 1000, 10000], width=[1, 2, 3, 4], sigma=[1e-1, 1e-2, 1e-3, 1e-4, 1e-8])"
   ]
  },
  {
   "cell_type": "code",
   "execution_count": 41,
   "id": "5c12f9ed-e071-4716-b812-def121916d44",
   "metadata": {},
   "outputs": [
    {
     "data": {
      "text/plain": [
       "0.9561462"
      ]
     },
     "execution_count": 41,
     "metadata": {},
     "output_type": "execute_result"
    }
   ],
   "source": [
    "phys.image_link(predictxions[-1]).numpy().sum()"
   ]
  },
  {
   "cell_type": "code",
   "execution_count": null,
   "id": "5b007fae-1670-46c5-964c-0d8c654b80a8",
   "metadata": {},
   "outputs": [],
   "source": []
  }
 ],
 "metadata": {
  "kernelspec": {
   "display_name": "exorim",
   "language": "python",
   "name": "exorim"
  },
  "language_info": {
   "codemirror_mode": {
    "name": "ipython",
    "version": 3
   },
   "file_extension": ".py",
   "mimetype": "text/x-python",
   "name": "python",
   "nbconvert_exporter": "python",
   "pygments_lexer": "ipython3",
   "version": "3.8.0"
  }
 },
 "nbformat": 4,
 "nbformat_minor": 5
}
