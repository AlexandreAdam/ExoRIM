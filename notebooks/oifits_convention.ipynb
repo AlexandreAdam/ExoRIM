{
 "cells": [
  {
   "cell_type": "code",
   "execution_count": 1,
   "id": "edff278b-9716-4d1d-bb3e-caf6534e7129",
   "metadata": {},
   "outputs": [
    {
     "name": "stderr",
     "output_type": "stream",
     "text": [
      "2022-03-30 16:08:43.831239: W tensorflow/stream_executor/platform/default/dso_loader.cc:64] Could not load dynamic library 'libcudart.so.11.0'; dlerror: libcudart.so.11.0: cannot open shared object file: No such file or directory\n",
      "2022-03-30 16:08:43.831263: I tensorflow/stream_executor/cuda/cudart_stub.cc:29] Ignore above cudart dlerror if you do not have a GPU set up on your machine.\n",
      "2022-03-30 16:08:44.959878: W tensorflow/stream_executor/platform/default/dso_loader.cc:64] Could not load dynamic library 'libcuda.so.1'; dlerror: libcuda.so.1: cannot open shared object file: No such file or directory\n",
      "2022-03-30 16:08:44.959899: W tensorflow/stream_executor/cuda/cuda_driver.cc:269] failed call to cuInit: UNKNOWN ERROR (303)\n",
      "2022-03-30 16:08:44.959912: I tensorflow/stream_executor/cuda/cuda_diagnostics.cc:156] kernel driver does not appear to be running on this host (TARS): /proc/driver/nvidia/version does not exist\n",
      "2022-03-30 16:08:44.960135: I tensorflow/core/platform/cpu_feature_guard.cc:151] This TensorFlow binary is optimized with oneAPI Deep Neural Network Library (oneDNN) to use the following CPU instructions in performance-critical operations:  AVX2 FMA\n",
      "To enable them in other operations, rebuild TensorFlow with the appropriate compiler flags.\n"
     ]
    }
   ],
   "source": [
    "import os\n",
    "from exorim import PhysicalModel\n",
    "from astropy.io import fits\n",
    "import numpy as np\n",
    "import matplotlib.pyplot as plt\n",
    "np.set_printoptions(threshold=100)"
   ]
  },
  {
   "cell_type": "code",
   "execution_count": 2,
   "id": "8d040c86-3ae3-4872-9855-94b7dd5fe6a0",
   "metadata": {},
   "outputs": [],
   "source": [
    "data = fits.open(os.path.join(os.getenv(\"EXORIM_PATH\"), \"data\", \"pa0_con0.01_bkgd_.oifits\"))"
   ]
  },
  {
   "cell_type": "markdown",
   "id": "c7026ac6-28f7-4a76-b264-c3cd8c096baf",
   "metadata": {},
   "source": [
    "# Convention from oifits\n",
    "\n",
    "# Triangles have coordinates\n",
    "\n",
    "# $ [u_1, u_2, -(u_1 + u_2)], [v_1, v_2, -(v_1 + v_2)]$"
   ]
  },
  {
   "cell_type": "code",
   "execution_count": 3,
   "id": "f6da994e-8932-4f27-b7d7-d320d5f09a73",
   "metadata": {},
   "outputs": [
    {
     "name": "stdout",
     "output_type": "stream",
     "text": [
      "Filename: /home/alexandre/Desktop/Projects/ExoRIM/data/pa0_con0.01_bkgd_.oifits\n",
      "No.    Name      Ver    Type      Cards   Dimensions   Format\n",
      "  0  PRIMARY       1 PrimaryHDU      18   ()      \n",
      "  1  OI_WAVELENGTH    1 BinTableHDU     17   1R x 2C   [1E, 1E]   \n",
      "  2  OI_TARGET     1 BinTableHDU     56   1R x 17C   [1I, 16A, 1D, 1D, 1E, 1D, 1D, 1D, 8A, 8A, 1D, 1D, 1D, 1D, 1E, 1E, 16A]   \n",
      "  3  OI_ARRAY      1 BinTableHDU     32   7R x 7C   [16A, 16A, 1I, 1E, 3D, 1D, 6A]   \n",
      "  4  OI_VIS2       1 BinTableHDU     38   21R x 10C   [1I, 1D, 1D, 1D, 1D, 1D, 1D, 1D, 2I, 1L]   \n",
      "  5  OI_T3         1 BinTableHDU     50   35R x 14C   [1I, 1D, 1D, 1D, 1D, 1D, 1D, 1D, 1D, 1D, 1D, 1D, 3I, 1L]   \n"
     ]
    }
   ],
   "source": [
    "data.info()"
   ]
  },
  {
   "cell_type": "code",
   "execution_count": 6,
   "id": "57a6c02f-6953-4c97-a26e-1d6d828919ba",
   "metadata": {},
   "outputs": [
    {
     "data": {
      "text/plain": [
       "SIMPLE  =                    T / conforms to FITS standard                      \n",
       "BITPIX  =                    8 / array data type                                \n",
       "NAXIS   =                    0 / number of array dimensions                     \n",
       "EXTEND  =                    T                                                  \n",
       "DATE    = '2022-02-02'                                                          \n",
       "ORIGIN  = 'Sydney University'                                                   \n",
       "CONTENT = 'OIFITS2 '                                                            \n",
       "DATE-OBS= '2022-04-01'                                                          \n",
       "TELESCOP= ''                                                                    \n",
       "INSTRUME= ''                                                                    \n",
       "OBSERVER= ''                                                                    \n",
       "OBJECT  = 'fakebinary'                                                          \n",
       "INSMODE = 'NRM     '                                                            \n",
       "FILT    = 'F380M   '                                                            \n",
       "MJD     =    58886.03762731481                                                  \n",
       "MASK    = 'g7      '                                                            \n",
       "SEEING  =                  0.0                                                  \n",
       "CALIB   = 'fakepsf '                                                            "
      ]
     },
     "execution_count": 6,
     "metadata": {},
     "output_type": "execute_result"
    }
   ],
   "source": [
    "data[\"PRIMARY\"].header"
   ]
  },
  {
   "cell_type": "code",
   "execution_count": 13,
   "id": "89ea3f9f-6390-4b25-bea5-48b087108dd2",
   "metadata": {},
   "outputs": [
    {
     "data": {
      "text/plain": [
       "FITS_rec([(1, 'fakebinary', 0., 0., 2000., 0., 0., 0., 'UNKNOWN', 'OPTICAL', 0., 0., 0., 0., 0., 0., 'fake')],\n",
       "         dtype=(numpy.record, [('TARGET_ID', '>i2'), ('TARGET', 'S16'), ('RAEP0', '>f8'), ('DECEP0', '>f8'), ('EQUINOX', '>f4'), ('RA_ERR', '>f8'), ('DEC_ERR', '>f8'), ('SYSVEL', '>f8'), ('VELTYP', 'S8'), ('VELDEF', 'S8'), ('PMRA', '>f8'), ('PMDEC', '>f8'), ('PMRA_ERR', '>f8'), ('PMDEC_ERR', '>f8'), ('PARALLAX', '>f4'), ('PARA_ERR', '>f4'), ('SPECTYP', 'S16')]))"
      ]
     },
     "execution_count": 13,
     "metadata": {},
     "output_type": "execute_result"
    }
   ],
   "source": [
    "data[\"OI_TARGET\"].data"
   ]
  },
  {
   "cell_type": "code",
   "execution_count": 21,
   "id": "a9240a7d-15a1-4eca-b116-391d611219b0",
   "metadata": {},
   "outputs": [
    {
     "data": {
      "text/plain": [
       "array([[ 0.     , -2.64   ,  0.     ],\n",
       "       [-2.28631,  0.     ,  0.     ],\n",
       "       [ 2.28631, -1.32   ,  0.     ],\n",
       "       [-2.28631,  1.32   ,  0.     ],\n",
       "       [-1.14315,  1.98   ,  0.     ],\n",
       "       [ 2.28631,  1.32   ,  0.     ],\n",
       "       [ 1.14315,  1.98   ,  0.     ]])"
      ]
     },
     "execution_count": 21,
     "metadata": {},
     "output_type": "execute_result"
    }
   ],
   "source": [
    "data[\"OI_ARRAY\"].data[\"STAXYZ\"]"
   ]
  },
  {
   "cell_type": "code",
   "execution_count": 43,
   "id": "dcb2ea66-b369-43d4-aefe-c64b62c772e2",
   "metadata": {},
   "outputs": [
    {
     "data": {
      "text/plain": [
       "FITS_rec([(1, 0., 58886.03762731, 0.8, 0., 0., -1.47896458e+00, 3.89504535e-08, -2.28631, -2.64,  4.57262,  1.32, [1, 2, 3],  0),\n",
       "          (1, 0., 58886.03762731, 0.8, 0., 0.,  7.34028118e-02, 2.02762240e-09, -2.28631, -2.64, -0.     , -1.32, [1, 2, 4],  0),\n",
       "          (1, 0., 58886.03762731, 0.8, 0., 0., -9.11979001e-01, 2.39866335e-08, -2.28631, -2.64,  1.14316, -1.98, [1, 2, 5],  0),\n",
       "          (1, 0., 58886.03762731, 0.8, 0., 0.,  7.36367499e-02, 1.69703514e-09, -2.28631, -2.64,  4.57262, -1.32, [1, 2, 6],  0),\n",
       "          (1, 0., 58886.03762731, 0.8, 0., 0., -9.11872879e-01, 2.50189141e-08, -2.28631, -2.64,  3.42946, -1.98, [1, 2, 7],  0),\n",
       "          (1, 0., 58886.03762731, 0.8, 0., 0.,  7.54198674e-02, 2.42875431e-09,  2.28631, -1.32, -4.57262, -2.64, [1, 3, 4],  0),\n",
       "          (1, 0., 58886.03762731, 0.8, 0., 0., -4.63045850e-01, 1.30518613e-08,  2.28631, -1.32, -3.42946, -3.3 , [1, 3, 5],  0),\n",
       "          (1, 0., 58886.03762731, 0.8, 0., 0.,  7.66574579e-02, 1.57661621e-09,  2.28631, -1.32, -0.     , -2.64, [1, 3, 6],  0),\n",
       "          (1, 0., 58886.03762731, 0.8, 0., 0., -4.63008498e-01, 1.23254278e-08,  2.28631, -1.32, -1.14316, -3.3 , [1, 3, 7],  0),\n",
       "          (1, 0., 58886.03762731, 0.8, 0., 0., -2.10483344e-02, 8.49808094e-10, -2.28631, -3.96,  1.14316, -0.66, [1, 4, 5],  0),\n",
       "          (1, 0., 58886.03762731, 0.8, 0., 0.,  4.03284745e-05, 6.56154194e-10, -2.28631, -3.96,  4.57262,  0.  , [1, 4, 6],  0),\n",
       "          (1, 0., 58886.03762731, 0.8, 0., 0., -2.11294624e-02, 8.73307762e-10, -2.28631, -3.96,  3.42946, -0.66, [1, 4, 7],  0),\n",
       "          (1, 0., 58886.03762731, 0.8, 0., 0.,  2.11774439e-02, 4.15604516e-10, -1.14315, -4.62,  3.42946,  0.66, [1, 5, 6],  0),\n",
       "          (1, 0., 58886.03762731, 0.8, 0., 0.,  3.48823901e-05, 2.30777405e-10, -1.14315, -4.62,  2.2863 ,  0.  , [1, 5, 7],  0),\n",
       "          (1, 0., 58886.03762731, 0.8, 0., 0., -2.11410716e-02, 4.04845936e-10,  2.28631, -3.96, -1.14316, -0.66, [1, 6, 7],  0),\n",
       "          (1, 0., 58886.03762731, 0.8, 0., 0., -1.47694757e+00, 4.27038824e-08,  4.57262,  1.32, -4.57262, -2.64, [2, 3, 4],  0),\n",
       "          (1, 0., 58886.03762731, 0.8, 0., 0., -1.03003144e+00, 2.90719191e-08,  4.57262,  1.32, -3.42946, -3.3 , [2, 3, 5],  0),\n",
       "          (1, 0., 58886.03762731, 0.8, 0., 0., -1.47594390e+00, 4.17414903e-08,  4.57262,  1.32, -0.     , -2.64, [2, 3, 6],  0),\n",
       "          (1, 0., 58886.03762731, 0.8, 0., 0., -1.03010022e+00, 2.86478350e-08,  4.57262,  1.32, -1.14316, -3.3 , [2, 3, 7],  0),\n",
       "          (1, 0., 58886.03762731, 0.8, 0., 0.,  9.64333446e-01, 2.19138817e-08, -0.     , -1.32,  1.14316, -0.66, [2, 4, 5],  0),\n",
       "          (1, 0., 58886.03762731, 0.8, 0., 0., -1.93607811e-04, 1.60007915e-10, -0.     , -1.32,  4.57262,  0.  , [2, 4, 6],  0),\n",
       "          (1, 0., 58886.03762731, 0.8, 0., 0.,  9.64146211e-01, 2.45005448e-08, -0.     , -1.32,  3.42946, -0.66, [2, 4, 7],  0),\n",
       "          (1, 0., 58886.03762731, 0.8, 0., 0., -9.64438311e-01, 2.58057836e-08,  1.14316, -1.98,  3.42946,  0.66, [2, 5, 6],  0),\n",
       "          (1, 0., 58886.03762731, 0.8, 0., 0., -7.12498397e-05, 2.09802689e-10,  1.14316, -1.98,  2.2863 ,  0.  , [2, 5, 7],  0),\n",
       "          (1, 0., 58886.03762731, 0.8, 0., 0.,  9.64368555e-01, 2.62021659e-08,  4.57262, -1.32, -1.14316, -0.66, [2, 6, 7],  0),\n",
       "          (1, 0., 58886.03762731, 0.8, 0., 0.,  5.17417389e-01, 1.51904980e-08, -4.57262, -2.64,  1.14316, -0.66, [3, 4, 5],  0),\n",
       "          (1, 0., 58886.03762731, 0.8, 0., 0., -1.19726450e-03, 3.45002445e-10, -4.57262, -2.64,  4.57262,  0.  , [3, 4, 6],  0),\n",
       "          (1, 0., 58886.03762731, 0.8, 0., 0.,  5.17298911e-01, 1.47290778e-08, -4.57262, -2.64,  3.42946, -0.66, [3, 4, 7],  0),\n",
       "          (1, 0., 58886.03762731, 0.8, 0., 0., -5.18525860e-01, 1.38497576e-08, -3.42946, -3.3 ,  3.42946,  0.66, [3, 5, 6],  0),\n",
       "          (1, 0., 58886.03762731, 0.8, 0., 0., -2.46295759e-06, 2.25626786e-10, -3.42946, -3.3 ,  2.2863 ,  0.  , [3, 5, 7],  0),\n",
       "          (1, 0., 58886.03762731, 0.8, 0., 0.,  5.18524873e-01, 1.24482928e-08, -0.     , -2.64, -1.14316, -0.66, [3, 6, 7],  0),\n",
       "          (1, 0., 58886.03762731, 0.8, 0., 0.,  8.87809749e-05, 1.39426544e-10,  1.14316, -0.66,  3.42946,  0.66, [4, 5, 6],  0),\n",
       "          (1, 0., 58886.03762731, 0.8, 0., 0.,  1.16010231e-04, 2.00296288e-10,  1.14316, -0.66,  2.2863 ,  0.  , [4, 5, 7],  0),\n",
       "          (1, 0., 58886.03762731, 0.8, 0., 0.,  2.87190922e-05, 1.42155408e-10,  4.57262,  0.  , -1.14316, -0.66, [4, 6, 7],  0),\n",
       "          (1, 0., 58886.03762731, 0.8, 0., 0.,  1.48983402e-06, 1.97740217e-10,  3.42946,  0.66, -1.14316, -0.66, [5, 6, 7],  0)],\n",
       "         dtype=(numpy.record, [('TARGET_ID', '>i2'), ('TIME', '>f8'), ('MJD', '>f8'), ('INT_TIME', '>f8'), ('T3AMP', '>f8'), ('T3AMPERR', '>f8'), ('T3PHI', '>f8'), ('T3PHIERR', '>f8'), ('U1COORD', '>f8'), ('V1COORD', '>f8'), ('U2COORD', '>f8'), ('V2COORD', '>f8'), ('STA_INDEX', '>i2', (3,)), ('FLAG', 'i1')]))"
      ]
     },
     "execution_count": 43,
     "metadata": {},
     "output_type": "execute_result"
    }
   ],
   "source": [
    "data[\"OI_T3\"].data"
   ]
  },
  {
   "cell_type": "code",
   "execution_count": 5,
   "id": "c8814cd8-6012-42dd-b7fa-64ce758b5c37",
   "metadata": {},
   "outputs": [
    {
     "data": {
      "text/plain": [
       "array([3.89504535e-08, 2.02762240e-09, 2.39866335e-08, 1.69703514e-09,\n",
       "       2.50189141e-08, 2.42875431e-09, 1.30518613e-08, 1.57661621e-09,\n",
       "       1.23254278e-08, 8.49808094e-10, 6.56154194e-10, 8.73307762e-10,\n",
       "       4.15604516e-10, 2.30777405e-10, 4.04845936e-10, 4.27038824e-08,\n",
       "       2.90719191e-08, 4.17414903e-08, 2.86478350e-08, 2.19138817e-08,\n",
       "       1.60007915e-10, 2.45005448e-08, 2.58057836e-08, 2.09802689e-10,\n",
       "       2.62021659e-08, 1.51904980e-08, 3.45002445e-10, 1.47290778e-08,\n",
       "       1.38497576e-08, 2.25626786e-10, 1.24482928e-08, 1.39426544e-10,\n",
       "       2.00296288e-10, 1.42155408e-10, 1.97740217e-10])"
      ]
     },
     "execution_count": 5,
     "metadata": {},
     "output_type": "execute_result"
    }
   ],
   "source": [
    "data[\"OI_T3\"].data[\"T3PHIERR\"]"
   ]
  },
  {
   "cell_type": "code",
   "execution_count": 36,
   "id": "f62953c6-2aeb-499e-abb6-d43b3332cee7",
   "metadata": {},
   "outputs": [
    {
     "data": {
      "text/plain": [
       "[<matplotlib.lines.Line2D at 0x7fcdfc11d2e0>]"
      ]
     },
     "execution_count": 36,
     "metadata": {},
     "output_type": "execute_result"
    },
    {
     "data": {
      "image/png": "[encoded data removed]",
      "text/plain": [
       "<Figure size 432x288 with 1 Axes>"
      ]
     },
     "metadata": {
      "needs_background": "light"
     },
     "output_type": "display_data"
    }
   ],
   "source": [
    "# Note to self, the telescope are organised in lexicographic order. Is that how we order things in the Operator class? If so, we can pass this data directly into the RIM.\n",
    "plt.plot(data[\"OI_T3\"].data[\"T3PHI\"]*180/np.pi)"
   ]
  },
  {
   "cell_type": "code",
   "execution_count": 7,
   "id": "246a7289-4b5f-4bf4-a206-4b00426cdede",
   "metadata": {},
   "outputs": [
    {
     "data": {
      "text/plain": [
       "[<matplotlib.lines.Line2D at 0x7fbb96f36ca0>]"
      ]
     },
     "execution_count": 7,
     "metadata": {},
     "output_type": "execute_result"
    },
    {
     "data": {
      "image/png": "[encoded data removed]",
      "text/plain": [
       "<Figure size 432x288 with 1 Axes>"
      ]
     },
     "metadata": {
      "needs_background": "light"
     },
     "output_type": "display_data"
    }
   ],
   "source": [
    "plt.plot(data[\"OI_VIS2\"].data[\"VIS2DATA\"])"
   ]
  },
  {
   "cell_type": "code",
   "execution_count": 39,
   "id": "8541faa8-bbf3-4aa5-8fa3-6fab117ff878",
   "metadata": {},
   "outputs": [
    {
     "data": {
      "text/plain": [
       "FITS_rec([(1, 0., 58886.03762731, 0.8, 0.96983253, 1.93271771e-16, -2.28631, -2.64, [1, 2],  0),\n",
       "          (1, 0., 58886.03762731, 0.8, 0.97117913, 1.38629237e-16,  2.28631, -1.32, [1, 3],  0),\n",
       "          (1, 0., 58886.03762731, 0.8, 0.99971878, 8.39266246e-17, -2.28631, -3.96, [1, 4],  0),\n",
       "          (1, 0., 58886.03762731, 0.8, 0.99163161, 2.36588480e-16, -1.14315, -4.62, [1, 5],  0),\n",
       "          (1, 0., 58886.03762731, 0.8, 0.99972409, 1.78551750e-16,  2.28631, -3.96, [1, 6],  0),\n",
       "          (1, 0., 58886.03762731, 0.8, 0.99162996, 2.71762781e-16,  1.14315, -4.62, [1, 7],  0),\n",
       "          (1, 0., 58886.03762731, 0.8, 0.97124932, 2.00577922e-16,  4.57262,  1.32, [2, 3],  0),\n",
       "          (1, 0., 58886.03762731, 0.8, 0.97123788, 1.91833279e-16, -0.     , -1.32, [2, 4],  0),\n",
       "          (1, 0., 58886.03762731, 0.8, 0.96108798, 1.31623114e-16,  1.14316, -1.98, [2, 5],  0),\n",
       "          (1, 0., 58886.03762731, 0.8, 0.97125612, 2.42396059e-16,  4.57262, -1.32, [2, 6],  0),\n",
       "          (1, 0., 58886.03762731, 0.8, 0.96108892, 2.66451408e-16,  3.42946, -1.98, [2, 7],  0),\n",
       "          (1, 0., 58886.03762731, 0.8, 0.96973339, 2.14117259e-16, -4.57262, -2.64, [3, 4],  0),\n",
       "          (1, 0., 58886.03762731, 0.8, 0.98892706, 2.12425474e-16, -3.42946, -3.3 , [3, 5],  0),\n",
       "          (1, 0., 58886.03762731, 0.8, 0.9697525 , 1.75250879e-16, -0.     , -2.64, [3, 6],  0),\n",
       "          (1, 0., 58886.03762731, 0.8, 0.9889323 , 2.46890408e-16, -1.14316, -3.3 , [3, 7],  0),\n",
       "          (1, 0., 58886.03762731, 0.8, 0.99032261, 2.16329619e-16,  1.14316, -0.66, [4, 5],  0),\n",
       "          (1, 0., 58886.03762731, 0.8, 0.99984298, 1.97562654e-16,  4.57262,  0.  , [4, 6],  0),\n",
       "          (1, 0., 58886.03762731, 0.8, 0.99032454, 1.61025668e-16,  3.42946, -0.66, [4, 7],  0),\n",
       "          (1, 0., 58886.03762731, 0.8, 0.99032073, 1.52136900e-16,  3.42946,  0.66, [5, 6],  0),\n",
       "          (1, 0., 58886.03762731, 0.8, 0.99983628, 1.71574728e-16,  2.2863 ,  0.  , [5, 7],  0),\n",
       "          (1, 0., 58886.03762731, 0.8, 0.99031877, 1.07885878e-16, -1.14316, -0.66, [6, 7],  0)],\n",
       "         dtype=(numpy.record, [('TARGET_ID', '>i2'), ('TIME', '>f8'), ('MJD', '>f8'), ('INT_TIME', '>f8'), ('VIS2DATA', '>f8'), ('VIS2ERR', '>f8'), ('UCOORD', '>f8'), ('VCOORD', '>f8'), ('STA_INDEX', '>i2', (2,)), ('FLAG', 'i1')]))"
      ]
     },
     "execution_count": 39,
     "metadata": {},
     "output_type": "execute_result"
    }
   ],
   "source": [
    "data[\"OI_VIS2\"].data"
   ]
  },
  {
   "cell_type": "code",
   "execution_count": 6,
   "id": "912e4a5f-a096-490c-acc5-ebf9e61a2e63",
   "metadata": {},
   "outputs": [
    {
     "data": {
      "text/plain": [
       "array([1.93271771e-16, 1.38629237e-16, 8.39266246e-17, 2.36588480e-16,\n",
       "       1.78551750e-16, 2.71762781e-16, 2.00577922e-16, 1.91833279e-16,\n",
       "       1.31623114e-16, 2.42396059e-16, 2.66451408e-16, 2.14117259e-16,\n",
       "       2.12425474e-16, 1.75250879e-16, 2.46890408e-16, 2.16329619e-16,\n",
       "       1.97562654e-16, 1.61025668e-16, 1.52136900e-16, 1.71574728e-16,\n",
       "       1.07885878e-16])"
      ]
     },
     "execution_count": 6,
     "metadata": {},
     "output_type": "execute_result"
    }
   ],
   "source": [
    "data[\"OI_VIS2\"].data[\"VIS2ERR\"]"
   ]
  },
  {
   "cell_type": "code",
   "execution_count": 49,
   "id": "84af4849-e1b2-4afa-ae69-2614119e3571",
   "metadata": {},
   "outputs": [
    {
     "data": {
      "text/plain": [
       "array([[ 0.     , -2.64   ],\n",
       "       [-2.28631,  0.     ],\n",
       "       [ 2.28631, -1.32   ],\n",
       "       [-2.28631,  1.32   ],\n",
       "       [-1.14315,  1.98   ],\n",
       "       [ 2.28631,  1.32   ],\n",
       "       [ 1.14315,  1.98   ]])"
      ]
     },
     "execution_count": 49,
     "metadata": {},
     "output_type": "execute_result"
    }
   ],
   "source": [
    "mask_coordinates = data[\"OI_ARRAY\"].data[\"STAXYZ\"][..., :2]\n",
    "phys = PhysicalModel(pixels=32, mask_coordinates=mask_coordinates, redundant=True)  # full redundant array is given in oifits\n",
    "mask_coordinates"
   ]
  },
  {
   "cell_type": "code",
   "execution_count": 50,
   "id": "dcdcfeee-3282-4fec-a74f-1e438d5b838c",
   "metadata": {},
   "outputs": [
    {
     "data": {
      "text/plain": [
       "TensorShape([35, 21])"
      ]
     },
     "execution_count": 50,
     "metadata": {},
     "output_type": "execute_result"
    }
   ],
   "source": [
    "phys.CPO.shape"
   ]
  }
 ],
 "metadata": {
  "kernelspec": {
   "display_name": "Python 3 (ipykernel)",
   "language": "python",
   "name": "python3"
  },
  "language_info": {
   "codemirror_mode": {
    "name": "ipython",
    "version": 3
   },
   "file_extension": ".py",
   "mimetype": "text/x-python",
   "name": "python",
   "nbconvert_exporter": "python",
   "pygments_lexer": "ipython3",
   "version": "3.8.12"
  }
 },
 "nbformat": 4,
 "nbformat_minor": 5
}
