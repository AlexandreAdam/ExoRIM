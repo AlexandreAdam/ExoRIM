{
 "cells": [
  {
   "cell_type": "code",
   "execution_count": 1,
   "metadata": {},
   "outputs": [],
   "source": [
    "from ExoRIM.model import RIM, CostFunction\n",
    "from ExoRIM.simulated_data import CenteredImagesv1\n",
    "from ExoRIM.utilities import load_dataset\n",
    "from preprocessing.simulate_data import create_and_save_data\n",
    "import json\n",
    "import numpy as np\n",
    "import os, glob\n",
    "import collections\n",
    "import pickle\n",
    "import time\n",
    "from datetime import datetime\n",
    "import tensorflow as tf\n",
    "from PIL import Image\n",
    "import matplotlib.pyplot as plt"
   ]
  },
  {
   "cell_type": "code",
   "execution_count": 2,
   "metadata": {},
   "outputs": [
    {
     "data": {
      "text/plain": [
       "'/lustre04/scratch/aadam/ExoRIM'"
      ]
     },
     "execution_count": 2,
     "metadata": {},
     "output_type": "execute_result"
    }
   ],
   "source": [
    "root = os.path.split(os.getcwd())[0]\n",
    "root"
   ]
  },
  {
   "cell_type": "code",
   "execution_count": 3,
   "metadata": {},
   "outputs": [
    {
     "data": {
      "text/plain": [
       "'20-06-22_18-19-03'"
      ]
     },
     "execution_count": 3,
     "metadata": {},
     "output_type": "execute_result"
    }
   ],
   "source": [
    "#id = datetime.now().strftime(\"%y-%m-%d_%H-%M-%S\")\n",
    "#id = \"20-06-21_10-24-04\"\n",
    "#id = '20-06-22_13-38-14'\n",
    "id = '20-06-22_18-19-03'\n",
    "id"
   ]
  },
  {
   "cell_type": "code",
   "execution_count": 4,
   "metadata": {},
   "outputs": [],
   "source": [
    "data_dir = os.path.join(root, \"data\", id)\n",
    "if not os.path.isdir(data_dir): os.mkdir(data_dir)\n",
    "test_dir = os.path.join(root, \"data\", id + \"_test\")\n",
    "if not os.path.isdir(test_dir): os.mkdir(test_dir)\n",
    "projector_dir = os.path.join(root, \"data\", \"projector_arrays\")\n",
    "checkpoint_dir = os.path.join(root, \"models\", id)\n",
    "if not os.path.isdir(checkpoint_dir): os.mkdir(checkpoint_dir)\n",
    "output_dir = os.path.join(root, \"results\", id)\n",
    "if not os.path.isdir(output_dir): os.mkdir(output_dir)"
   ]
  },
  {
   "cell_type": "code",
   "execution_count": 43,
   "metadata": {},
   "outputs": [
    {
     "data": {
      "text/plain": [
       "{'steps': 12,\n",
       " 'pixels': 32,\n",
       " 'channels': 1,\n",
       " 'state_size': 16,\n",
       " 'state_depth': 32,\n",
       " 'Regularizer Amplitude': {'kernel': 0.01, 'bias': 0.01},\n",
       " 'Physical Model': {'Visibility Noise': 0.0001, 'Closure Phase Noise': 1e-05},\n",
       " 'Downsampling Block': [{'Conv_Downsample': {'kernel_size': [5, 5],\n",
       "    'filters': 1,\n",
       "    'strides': [2, 2]}}],\n",
       " 'Convolution Block': [{'Conv_1': {'kernel_size': [3, 3],\n",
       "    'filters': 8,\n",
       "    'strides': [1, 1]}},\n",
       "  {'Conv_2': {'kernel_size': [3, 3], 'filters': 16, 'strides': [1, 1]}}],\n",
       " 'Recurrent Block': {'GRU_1': {'kernel_size': [3, 3], 'filters': 16},\n",
       "  'Hidden_Conv_1': {'kernel_size': [3, 3], 'filters': 16},\n",
       "  'GRU_2': {'kernel_size': [3, 3], 'filters': 16}},\n",
       " 'Upsampling Block': [{'Conv_Fraction_Stride': {'kernel_size': [3, 3],\n",
       "    'filters': 16,\n",
       "    'strides': [2, 2]}}],\n",
       " 'Transposed Convolution Block': [{'TConv_1': {'kernel_size': [3, 3],\n",
       "    'filters': 8,\n",
       "    'strides': [1, 1]}},\n",
       "  {'TConv_2': {'kernel_size': [3, 3], 'filters': 1, 'strides': [1, 1]}}],\n",
       " 'epoch': 58}"
      ]
     },
     "execution_count": 43,
     "metadata": {},
     "output_type": "execute_result"
    }
   ],
   "source": [
    "#with open(os.path.join(root, \"hyperparameters.json\"), \"r\") as f:\n",
    "#    hparams = json.load(f)\n",
    "with open(os.path.join(checkpoint_dir, \"hyperparameters.json\"), \"r\") as f:\n",
    "     hparams = json.load(f)\n",
    "hparams"
   ]
  },
  {
   "cell_type": "code",
   "execution_count": 6,
   "metadata": {},
   "outputs": [],
   "source": [
    "AUTOTUNE = tf.data.experimental.AUTOTUNE\n",
    "def create_dataset(meta_data, rim, dirname, batch_size=None):\n",
    "    images = tf.convert_to_tensor(create_and_save_data(dirname, meta_data), dtype=tf.float32)\n",
    "    k_images = rim.physical_model.simulate_noisy_image(images)\n",
    "    X = tf.data.Dataset.from_tensor_slices(k_images)  # split along batch dimension\n",
    "    Y = tf.data.Dataset.from_tensor_slices(images)\n",
    "    dataset = tf.data.Dataset.zip((X, Y))\n",
    "    if batch_size is not None: # for train set\n",
    "        dataset = dataset.batch(batch_size, drop_remainder=True)\n",
    "        dataset = dataset.enumerate(start=0)\n",
    "        dataset = dataset.cache()  # accelerate the second and subsequent iterations over the dataset\n",
    "        dataset = dataset.prefetch(AUTOTUNE)  # Batch is prefetched by CPU while training on the previous batch occurs\n",
    "    else:\n",
    "        # batch together all examples, for test set\n",
    "        dataset = dataset.batch(images.shape[0], drop_remainder=True)\n",
    "        dataset = dataset.cache()\n",
    "    return dataset"
   ]
  },
  {
   "cell_type": "code",
   "execution_count": 7,
   "metadata": {},
   "outputs": [],
   "source": [
    "holes = 20\n",
    "# metrics only support grey scale images\n",
    "metrics = {\n",
    "    \"ssim\": lambda Y_pred, Y_true: tf.image.ssim(Y_pred, Y_true, max_val=1.0),\n",
    "    # Bug is tf 2.0.0, make sure filter size is small enough such that H/2**4 and W/2**4 >= filter size\n",
    "    # alternatively (since H/2**4 is = 1 in our case), it is possible to lower the power factors such that\n",
    "    # H/(2**(len(power factor)-1)) > filter size\n",
    "    # Hence, using 3 power factors with filter size=2 works, and so does 2 power factors with filter_size <= 8\n",
    "    # paper power factors are [0.0448, 0.2856, 0.3001, 0.2363, 0.1333]\n",
    "    # After test, it seems filter_size=11 also works with 2 power factors and 32 pixel image\n",
    "    \"ssim_multiscale_01\": lambda Y_pred, Y_true: tf.image.ssim_multiscale(\n",
    "        Y_pred, Y_true, max_val=1.0,\n",
    "        filter_size=11,\n",
    "        power_factors=[0.0448, 0.2856]),\n",
    "    \"ssim_multiscale_23\": lambda Y_pred, Y_true: tf.image.ssim_multiscale(\n",
    "        Y_pred, Y_true, max_val=1.0,\n",
    "        filter_size=11,\n",
    "        power_factors=[0.3001, 0.2363]),\n",
    "    \"ssim_multiscale_34\": lambda Y_pred, Y_true: tf.image.ssim_multiscale(\n",
    "        Y_pred, Y_true, max_val=1.0,\n",
    "        filter_size=11,\n",
    "        power_factors=[0.2363, 0.1333])\n",
    "}\n",
    "cost_function = CostFunction()\n",
    "mask_coordinates = np.loadtxt(os.path.join(projector_dir, f\"mask_{holes}_holes.txt\"))\n",
    "with open(os.path.join(projector_dir, f\"projectors_{holes}_holes.pickle\"), \"rb\") as fb:\n",
    "    arrays = pickle.load(fb)"
   ]
  },
  {
   "cell_type": "code",
   "execution_count": 52,
   "metadata": {},
   "outputs": [],
   "source": [
    "#weight_file = os.path.join(checkpoint_dir, \"rim_005_115.67728.h5\")\n",
    "#weight_file=os.path.join(checkpoint_dir, \"rim_035_11.35379.h5\")\n",
    "weight_file=os.path.join(checkpoint_dir, \"rim_098_15.75180.h5\")\n",
    "#weight_file=None\n",
    "rim = RIM(mask_coordinates=mask_coordinates, hyperparameters=hparams, arrays=arrays, weight_file=weight_file)"
   ]
  },
  {
   "cell_type": "code",
   "execution_count": 9,
   "metadata": {},
   "outputs": [],
   "source": [
    "meta_data = CenteredImagesv1(total_items=1000, pixels=32)\n",
    "test_meta = CenteredImagesv1(total_items=200, pixels=32)\n",
    "train_dataset = create_dataset(meta_data, rim, data_dir, batch_size=50)\n",
    "test_dataset = create_dataset(test_meta, rim, test_dir)\n",
    "# train_dataset = load_dataset(data_dir, rim, batch_size=50)\n",
    "# test_dataset = load_dataset(test_dir, rim)"
   ]
  },
  {
   "cell_type": "code",
   "execution_count": null,
   "metadata": {},
   "outputs": [],
   "source": [
    "if os.path.isfile(os.path.join(output_dir, \"history.pickle\")):\n",
    "    with open(os.path.join(output_dir, \"history.pickle\"), \"rb\") as f:\n",
    "        history = pickle.load(f)\n",
    "else:\n",
    "    history = {key + \"_train\": [] for key in metrics.keys()}\n",
    "    history.update({key + \"_test\": [] for key in metrics.keys()})\n",
    "    history.update({\"train_loss\": [], \"test_loss\": []})\n",
    "start = time.time()\n",
    "_history = rim.fit(\n",
    "    train_dataset=train_dataset,\n",
    "    test_dataset=test_dataset,\n",
    "    optimizer=tf.keras.optimizers.Adam(learning_rate=1e-5),\n",
    "    max_time=0.8,\n",
    "    cost_function=cost_function,\n",
    "    min_delta=0,\n",
    "    patience=10,\n",
    "    checkpoints=5,\n",
    "    output_dir=output_dir,\n",
    "    checkpoint_dir=checkpoint_dir,\n",
    "    max_epochs=70,\n",
    "    output_save_mod={\"index_mod\": 300,\n",
    "                     \"epoch_mod\": 1,\n",
    "                     \"step_mod\": 11}, # save first and last step imagees\n",
    "    metrics=metrics,\n",
    "    name=\"rim\"\n",
    ")\n",
    "end = time.time() - start\n",
    "print(f\"Training took {end/60:.02f} minute\")"
   ]
  },
  {
   "cell_type": "code",
   "execution_count": 46,
   "metadata": {},
   "outputs": [],
   "source": [
    "with open(os.path.join(checkpoint_dir, \"hyperparameters.json\"), \"w\") as f:\n",
    "    json.dump(rim.hyperparameters, f)"
   ]
  },
  {
   "cell_type": "code",
   "execution_count": 47,
   "metadata": {},
   "outputs": [],
   "source": [
    "for key, item in _history.items():\n",
    "    history[key].extend(item)\n",
    "with open(os.path.join(output_dir, \"history.pickle\"), \"wb\") as f:\n",
    "    pickle.dump(history, f)"
   ]
  },
  {
   "cell_type": "code",
   "execution_count": 48,
   "metadata": {},
   "outputs": [
    {
     "data": {
      "text/plain": [
       "[241.94124,\n",
       " 66.19267,\n",
       " 56.345245,\n",
       " 50.3719,\n",
       " 43.513863,\n",
       " 35.895218,\n",
       " 30.85555,\n",
       " 26.696148,\n",
       " 24.472286,\n",
       " 23.526653,\n",
       " 25.622732,\n",
       " 26.788975,\n",
       " 34.040634,\n",
       " 26.358143,\n",
       " 20.142132,\n",
       " 19.406338,\n",
       " 19.170404,\n",
       " 18.78827,\n",
       " 18.754877,\n",
       " 18.968184,\n",
       " 18.863161,\n",
       " 17.786917,\n",
       " 18.168411,\n",
       " 17.54705,\n",
       " 17.412416,\n",
       " 15.580187,\n",
       " 14.701436,\n",
       " 14.628352,\n",
       " 14.582952,\n",
       " 14.533079,\n",
       " 14.490044,\n",
       " 14.447741,\n",
       " 14.422986,\n",
       " 14.398577,\n",
       " 14.379988,\n",
       " 14.361885,\n",
       " 14.344313,\n",
       " 14.327212,\n",
       " 14.310658,\n",
       " 14.294207,\n",
       " 14.278051,\n",
       " 14.262331,\n",
       " 14.246286,\n",
       " 14.23041,\n",
       " 14.237822,\n",
       " 14.221161,\n",
       " 14.211992,\n",
       " 14.207639,\n",
       " 14.205335,\n",
       " 14.20413,\n",
       " 14.2034855,\n",
       " 14.203125,\n",
       " 14.202986,\n",
       " 14.202909,\n",
       " 14.202782,\n",
       " 14.203821,\n",
       " 14.20161,\n",
       " 14.200177,\n",
       " 14.19601,\n",
       " 14.193921,\n",
       " 14.191501,\n",
       " 14.189627,\n",
       " 14.1874695,\n",
       " 14.186078,\n",
       " 14.185557,\n",
       " 14.181895,\n",
       " 14.180384,\n",
       " 14.178482,\n",
       " 14.177869,\n",
       " 14.174948,\n",
       " 14.173492,\n",
       " 14.1715145,\n",
       " 14.170883,\n",
       " 14.167931,\n",
       " 14.166494,\n",
       " 14.16448,\n",
       " 14.163828,\n",
       " 14.160937,\n",
       " 14.159624,\n",
       " 14.157476,\n",
       " 14.156794,\n",
       " 14.154019,\n",
       " 14.152908,\n",
       " 14.150556,\n",
       " 14.149793,\n",
       " 14.147138,\n",
       " 14.146167,\n",
       " 14.1437025,\n",
       " 14.142901,\n",
       " 14.140291,\n",
       " 14.139376,\n",
       " 14.136862,\n",
       " 14.136017,\n",
       " 14.133449,\n",
       " 14.132593]"
      ]
     },
     "execution_count": 48,
     "metadata": {},
     "output_type": "execute_result"
    }
   ],
   "source": [
    "history[\"train_loss\"]"
   ]
  },
  {
   "cell_type": "code",
   "execution_count": 49,
   "metadata": {},
   "outputs": [],
   "source": [
    "# update of nested dictionaries\n",
    "def update(d, u):\n",
    "    for k, v in u.items():\n",
    "        if isinstance(v, collections.abc.Mapping):\n",
    "            d[k] = update(d.get(k, {}), v)\n",
    "        else:\n",
    "            d[k] = v\n",
    "    return d\n",
    "\n",
    "images = {}\n",
    "for file in glob.glob(os.path.join(output_dir, \"output*\")):\n",
    "    name = os.path.split(file)[-1]\n",
    "    epoch = int(name[7:10])\n",
    "    index = int(name[11:15])\n",
    "    step = int(name[16:18])\n",
    "    with Image.open(file) as image:\n",
    "        im = np.array(image.getdata()).reshape([image.size[0], image.size[1]])\n",
    "        update(images, {index: {epoch : {step: im}}})"
   ]
  },
  {
   "cell_type": "code",
   "execution_count": 26,
   "metadata": {},
   "outputs": [
    {
     "data": {
      "text/plain": [
       "dict_keys([900, 300, 600, 0])"
      ]
     },
     "execution_count": 26,
     "metadata": {},
     "output_type": "execute_result"
    }
   ],
   "source": [
    "index=900\n",
    "images.keys()"
   ]
  },
  {
   "cell_type": "code",
   "execution_count": 50,
   "metadata": {},
   "outputs": [
    {
     "name": "stdout",
     "output_type": "stream",
     "text": [
      "98\n"
     ]
    },
    {
     "data": {
      "text/plain": [
       "dict_keys([49, 74, 24, 16, 92, 19, 34, 9, 82, 6, 56, 59, 64, 29, 14, 90, 44, 79, 76, 54, 66, 69, 39, 36, 80, 4, 10, 94, 22, 72, 40, 62, 50, 84, 32, 70, 42, 12, 96, 20, 86, 2, 89, 30, 60, 52, 61, 53, 88, 87, 3, 31, 13, 97, 98, 21, 71, 43, 85, 1, 33, 63, 51, 73, 41, 11, 95, 23, 37, 38, 81, 5, 55, 68, 67, 45, 77, 78, 28, 27, 15, 91, 57, 65, 35, 83, 7, 8, 25, 18, 17, 93, 47, 48, 75])"
      ]
     },
     "execution_count": 50,
     "metadata": {},
     "output_type": "execute_result"
    }
   ],
   "source": [
    "epoch = max(images[0].keys())\n",
    "print(epoch)\n",
    "images[0].keys()"
   ]
  },
  {
   "cell_type": "code",
   "execution_count": 28,
   "metadata": {},
   "outputs": [
    {
     "data": {
      "text/plain": [
       "dict_keys([0, 11])"
      ]
     },
     "execution_count": 28,
     "metadata": {},
     "output_type": "execute_result"
    }
   ],
   "source": [
    "step=max(images[index][epoch])\n",
    "images[index][epoch].keys()"
   ]
  },
  {
   "cell_type": "code",
   "execution_count": 51,
   "metadata": {},
   "outputs": [
    {
     "data": {
      "text/plain": [
       "<matplotlib.image.AxesImage at 0x2b6ce3acbb38>"
      ]
     },
     "execution_count": 51,
     "metadata": {},
     "output_type": "execute_result"
    },
    {
     "data": {
      "image/png": "[encoded data removed]",
      "text/plain": [
       "<Figure size 432x288 with 1 Axes>"
      ]
     },
     "metadata": {
      "needs_background": "light"
     },
     "output_type": "display_data"
    }
   ],
   "source": [
    "plt.imshow(images[index][epoch][step], cmap=\"gray\")"
   ]
  },
  {
   "cell_type": "code",
   "execution_count": 31,
   "metadata": {},
   "outputs": [
    {
     "data": {
      "text/plain": [
       "<matplotlib.image.AxesImage at 0x2b6ce30e0080>"
      ]
     },
     "execution_count": 31,
     "metadata": {},
     "output_type": "execute_result"
    },
    {
     "data": {
      "image/png": "[encoded data removed]",
      "text/plain": [
       "<Figure size 432x288 with 1 Axes>"
      ]
     },
     "metadata": {
      "needs_background": "light"
     },
     "output_type": "display_data"
    }
   ],
   "source": [
    "gt_file = os.path.join(data_dir, \"image\" + str(index) + \".png\")\n",
    "with Image.open(gt_file) as image:\n",
    "    im = np.array(image.getdata()).reshape([32,32])\n",
    "plt.imshow(im)"
   ]
  }
 ],
 "metadata": {
  "kernelspec": {
   "display_name": "Python 3",
   "language": "python",
   "name": "python3"
  },
  "language_info": {
   "codemirror_mode": {
    "name": "ipython",
    "version": 3
   },
   "file_extension": ".py",
   "mimetype": "text/x-python",
   "name": "python",
   "nbconvert_exporter": "python",
   "pygments_lexer": "ipython3",
   "version": "3.6.10"
  },
  "toc-showmarkdowntxt": false,
  "toc-showtags": false
 },
 "nbformat": 4,
 "nbformat_minor": 4
}
