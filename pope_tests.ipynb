{
 "cells": [
  {
   "cell_type": "code",
   "execution_count": 1,
   "metadata": {},
   "outputs": [
    {
     "name": "stdout",
     "output_type": "stream",
     "text": [
      "Populating the interactive namespace from numpy and matplotlib\n"
     ]
    }
   ],
   "source": [
    "import numpy as np\n",
    "import matplotlib \n",
    "import matplotlib as mpl\n",
    "\n",
    "%pylab inline --no-import-all\n",
    "\n",
    "matplotlib.rcParams['image.origin'] = 'lower'\n",
    "matplotlib.rcParams['figure.figsize']=(10.0,10.0)    #(6.0,4.0)\n",
    "matplotlib.rcParams['font.size']=16              #10 \n",
    "matplotlib.rcParams['savefig.dpi']= 300             #72 \n",
    "matplotlib.rcParams['axes.facecolor']='white'\n",
    "matplotlib.rcParams['savefig.facecolor']='white'\n",
    "\n",
    "colours = mpl.rcParams['axes.prop_cycle'].by_key()['color']\n",
    "\n",
    "\n",
    "import tensorflow as tf\n",
    "\n",
    "tf.enable_eager_execution()\n"
   ]
  },
  {
   "cell_type": "code",
   "execution_count": 2,
   "metadata": {},
   "outputs": [],
   "source": [
    "from definitions import *"
   ]
  },
  {
   "cell_type": "code",
   "execution_count": 3,
   "metadata": {},
   "outputs": [],
   "source": [
    "## define your image grid\n",
    "\n",
    "x = np.arange(128)\n",
    "xx, yy = np.meshgrid(x,x)"
   ]
  },
  {
   "cell_type": "code",
   "execution_count": 4,
   "metadata": {},
   "outputs": [
    {
     "data": {
      "image/png": "[encoded data removed]",
      "text/plain": [
       "<Figure size 432x288 with 1 Axes>"
      ]
     },
     "metadata": {
      "needs_background": "light"
     },
     "output_type": "display_data"
    }
   ],
   "source": [
    "## define your interferometric array\n",
    "\n",
    "coords = np.random.randn(6,2)\n",
    "plt.plot(coords[:,0],coords[:,1],'.')\n",
    "np.savetxt('coords.txt',coords)"
   ]
  },
  {
   "cell_type": "code",
   "execution_count": 5,
   "metadata": {},
   "outputs": [],
   "source": [
    "from kpi import kpi"
   ]
  },
  {
   "cell_type": "code",
   "execution_count": 6,
   "metadata": {},
   "outputs": [
    {
     "name": "stdout",
     "output_type": "stream",
     "text": [
      "File coords.txt isn't a valid Ker-phase data structure\n",
      "Creating from coordinate file\n",
      "15 distinct baselines were identified\n",
      "10 Kernel Phases identified.\n"
     ]
    }
   ],
   "source": [
    "op = kpi(file='coords.txt',bsp_mat=None)"
   ]
  },
  {
   "cell_type": "code",
   "execution_count": 7,
   "metadata": {},
   "outputs": [
    {
     "name": "stdout",
     "output_type": "stream",
     "text": [
      "File coords.txt isn't a valid Ker-phase data structure\n",
      "Creating from coordinate file\n",
      "15 distinct baselines were identified\n",
      "10 Kernel Phases identified.\n",
      "Now calculating bispectrum\n",
      "Calculating bispectrum matrix. Will take a few minutes.\n",
      "Done 0 of 6 .  10  bispectra found. Time taken: 0.0 sec\n",
      "Done. Total time taken: 0.0 mins\n",
      "Found 20 bispectra\n",
      "Doing sparse svd\n",
      "Matrix rank: 10\n",
      "Reduced-rank bispectrum matrix calculated.\n",
      "Matrix shape (10, 15)\n",
      "Time taken: 0.0 mins\n"
     ]
    }
   ],
   "source": [
    "bs = kpi(file='coords.txt',bsp_mat='sparse')"
   ]
  },
  {
   "cell_type": "code",
   "execution_count": 11,
   "metadata": {},
   "outputs": [
    {
     "data": {
      "text/plain": [
       "array([[ 0.28727393,  0.01192423,  0.11633484,  0.10683471, -0.28938862,\n",
       "        -0.16372633, -0.4594611 , -0.13037376,  0.05835168,  0.3973324 ,\n",
       "         0.10590025,  0.08390968, -0.31429198, -0.37757036,  0.36449645],\n",
       "       [-0.16302236, -0.27221972, -0.34352405,  0.07682598, -0.18667339,\n",
       "         0.10044218, -0.20849709,  0.26604801,  0.41917592,  0.13145713,\n",
       "         0.2878536 , -0.40765127,  0.39340548, -0.13219515, -0.0441458 ],\n",
       "       [-0.09899456, -0.15472797,  0.58103769,  0.14407575,  0.13086603,\n",
       "         0.09807034, -0.21731196, -0.39443825,  0.16347211,  0.0965614 ,\n",
       "        -0.32587974, -0.37606114,  0.23290961,  0.19652265,  0.04256893],\n",
       "       [ 0.28626041, -0.0283174 , -0.01067355,  0.18728858, -0.56587303,\n",
       "        -0.53270223,  0.20879013, -0.24062167, -0.09422706, -0.17784263,\n",
       "         0.04311728, -0.14551037,  0.20466361,  0.16789616, -0.2072937 ],\n",
       "       [-0.11688159, -0.34651937,  0.04342724, -0.19960305,  0.05214885,\n",
       "        -0.45288107, -0.13060988,  0.23835939,  0.144674  , -0.13057635,\n",
       "        -0.34976135,  0.44300206,  0.32636365, -0.02469222,  0.28134195],\n",
       "       [-0.14246229, -0.48653239,  0.20635289,  0.03448764, -0.18452152,\n",
       "         0.20825652,  0.29317376, -0.04680431, -0.14502201, -0.18771109,\n",
       "         0.42002071,  0.0269049 , -0.12718676,  0.16046841,  0.50825649],\n",
       "       [-0.25315621,  0.23866229, -0.27081664, -0.31873237, -0.23702778,\n",
       "         0.15985155, -0.40511717, -0.45802964, -0.01976695, -0.09169426,\n",
       "         0.13669571,  0.24744409,  0.16459293,  0.35187788,  0.09355621],\n",
       "       [-0.50481894,  0.10018601, -0.21221639,  0.66788739,  0.12628916,\n",
       "        -0.18635911,  0.07425115, -0.2664994 ,  0.16309775, -0.12510376,\n",
       "        -0.02350542,  0.15353648, -0.13024582, -0.16403909,  0.08091242],\n",
       "       [-0.08585742,  0.08487863,  0.18205138, -0.06452531,  0.2468118 ,\n",
       "        -0.13855968, -0.18710873, -0.10597563, -0.47942894, -0.24703416,\n",
       "         0.35769941, -0.09426238,  0.38320478, -0.49603673, -0.03394052],\n",
       "       [ 0.32490088,  0.36971278,  0.03765342,  0.02564687,  0.20228902,\n",
       "        -0.09181071, -0.11670773,  0.11982371,  0.39133842, -0.55963403,\n",
       "         0.13637417, -0.20047168, -0.05826535,  0.12916012,  0.36489432]])"
      ]
     },
     "execution_count": 11,
     "metadata": {},
     "output_type": "execute_result"
    }
   ],
   "source": [
    "bs.uv_to_bsp"
   ]
  },
  {
   "cell_type": "code",
   "execution_count": 13,
   "metadata": {},
   "outputs": [
    {
     "data": {
      "text/plain": [
       "Text(0, 0.5, '$v$')"
      ]
     },
     "execution_count": 13,
     "metadata": {},
     "output_type": "execute_result"
    },
    {
     "data": {
      "image/png": "[encoded data removed]",
      "text/plain": [
       "<Figure size 432x288 with 1 Axes>"
      ]
     },
     "metadata": {
      "needs_background": "light"
     },
     "output_type": "display_data"
    }
   ],
   "source": [
    "plt.plot(bs.uv[:,0],bs.uv[:,1],'.')\n",
    "plt.xlabel(r'$u$')\n",
    "plt.ylabel(r'$v$')"
   ]
  },
  {
   "cell_type": "code",
   "execution_count": 14,
   "metadata": {},
   "outputs": [],
   "source": [
    "## create p2vm matrix\n",
    "\n",
    "p2vm_sin = np.zeros((bs.uv.shape[0],xx.ravel().shape[0]))\n",
    "\n",
    "for j in range(bs.uv.shape[0]):\n",
    "    p2vm_sin[j,:] = np.ravel(np.sin(xx*bs.uv[j,0]+yy*bs.uv[j,1]))\n",
    "    \n",
    "p2vm_cos = np.zeros((bs.uv.shape[0],xx.ravel().shape[0]))\n",
    "\n",
    "for j in range(bs.uv.shape[0]):\n",
    "    p2vm_cos[j,:] = np.ravel(np.cos(xx*bs.uv[j,0]+yy*bs.uv[j,1]))"
   ]
  },
  {
   "cell_type": "code",
   "execution_count": 15,
   "metadata": {},
   "outputs": [],
   "source": [
    "## define gaussian image - from halophot\n",
    "\n",
    "def gaussian_psf(pixels,xp,yp,width):\n",
    "    # make rr array\n",
    "    npix = np.shape(pixels[0])[0]\n",
    "    xx,yy = np.meshgrid(np.arange(npix)-npix/2.,np.arange(npix)-npix/2.)\n",
    "    rr2 = (xx-xp)**2 + (yy-yp)**2\n",
    "    \n",
    "    return 1./(width*np.sqrt(2.*np.pi))*np.exp(-0.5*(rr2/width**2))\n",
    "\n",
    "def normalize(vector):\n",
    "    return (vector-vector.min())/(vector.max()-vector.min())"
   ]
  },
  {
   "cell_type": "code",
   "execution_count": 16,
   "metadata": {},
   "outputs": [],
   "source": [
    "widths = [5,10,20,20]\n",
    "xs = [20,-20,-50,90]\n",
    "ys = [20,60,20,-60]\n",
    "fs = [5,10,20,30]"
   ]
  },
  {
   "cell_type": "code",
   "execution_count": 17,
   "metadata": {},
   "outputs": [],
   "source": [
    "image = np.zeros_like(xx)*1.\n",
    "pixels = np.zeros_like(xx)\n",
    "for j, w in enumerate(widths):\n",
    "    image += fs[j]*gaussian_psf(pixels,xs[j]/2.,ys[j]/2.,w/2.)\n",
    "    \n",
    "image = normalize(image)\n",
    "# image /= image.sum()"
   ]
  },
  {
   "cell_type": "code",
   "execution_count": 18,
   "metadata": {},
   "outputs": [
    {
     "data": {
      "text/plain": [
       "<matplotlib.image.AxesImage at 0xd548ff4a8>"
      ]
     },
     "execution_count": 18,
     "metadata": {},
     "output_type": "execute_result"
    },
    {
     "data": {
      "image/png": "[encoded data removed]",
      "text/plain": [
       "<Figure size 432x288 with 1 Axes>"
      ]
     },
     "metadata": {
      "needs_background": "light"
     },
     "output_type": "display_data"
    }
   ],
   "source": [
    "plt.imshow(image)"
   ]
  },
  {
   "cell_type": "code",
   "execution_count": 149,
   "metadata": {},
   "outputs": [],
   "source": [
    "data_sin = np.dot(p2vm_sin,image.ravel())\n",
    "data_cos = np.dot(p2vm_cos,image.ravel())\n",
    "vis2s = np.abs(data_sin**2 + data_cos**2)\n",
    "closure_phases = np.dot(bs.uv_to_bsp,np.angle(data_cos+1.j*data_sin))\n",
    "recon = np.zeros_like(image)*1. # placeholder\n"
   ]
  },
  {
   "cell_type": "markdown",
   "metadata": {},
   "source": [
    "### Now let's build the forwards model in TensorFlow"
   ]
  },
  {
   "cell_type": "code",
   "execution_count": 150,
   "metadata": {},
   "outputs": [
    {
     "name": "stderr",
     "output_type": "stream",
     "text": [
      "/anaconda3/lib/python3.7/site-packages/ipykernel_launcher.py:12: RuntimeWarning: invalid value encountered in true_divide\n",
      "  if sys.path[0] == '':\n"
     ]
    }
   ],
   "source": [
    "# create tensor to hold cosine and sine projection operators\n",
    "T = tf.float64\n",
    "\n",
    "# create tensor to hold cosine and sine projection operators\n",
    "cos_tensor = tf.constant(p2vm_cos.T,dtype=T)\n",
    "sin_tensor = tf.constant(p2vm_sin.T,dtype=T)\n",
    "bs_tensor = tf.constant(bs.uv_to_bsp,dtype=T)\n",
    "\n",
    "\n",
    "# create tensor to hold your data\n",
    "vis2s_tensor = tf.constant(vis2s,dtype=T)\n",
    "cp_tensor = tf.constant(closure_phases,dtype=T)\n",
    "data_tensor = tf.concat([vis2s_tensor,cp_tensor],0)\n",
    "\n",
    "# create tensor to hold your uncertainties\n",
    "vis2s_err_tensor = tf.constant(np.ones_like(vis2s)*np.median(vis2s)/5.,dtype=T)\n",
    "cp_err_tensor = tf.constant(np.ones_like(closure_phases)*np.median(closure_phases)/5.,dtype=T)\n",
    "error_tensor = tf.concat([vis2s_err_tensor,cp_err_tensor],0)\n",
    "\n",
    "# create tensor to hold your image model\n",
    "image_tensor = tf.Variable(normalize(recon[:,:,np.newaxis])+1e-15,dtype=T)\n",
    "\n"
   ]
  },
  {
   "cell_type": "code",
   "execution_count": 156,
   "metadata": {},
   "outputs": [],
   "source": [
    "class Data_Generator(object):\n",
    "\n",
    "    def __init__(self,train_batch_size=1,test_batch_size=1, impix_side = 192, im_size=128):\n",
    "        self.im_size = im_size\n",
    "        self.train_batch_size = train_batch_size\n",
    "        self.test_batch_size = test_batch_size\n",
    "        self.impix_side = impix_side\n",
    "\n",
    "    def gen_source(self):\n",
    "        Im = np.ones((self.im_size,self.im_size))\n",
    "        return Im\n",
    "\n",
    "    def draw_im(self,train_or_test):\n",
    "        if (train_or_test==\"train\"):\n",
    "            np.random.seed(seed=None)\n",
    "            num_samples = self.train_batch_size\n",
    "        if (train_or_test==\"test\"):\n",
    "            np.random.seed(seed=136)\n",
    "            num_samples = self.test_batch_size\n",
    "        \n",
    "        self.IM_tr = np.zeros((num_samples,self.im_size,self.im_size))\n",
    "        for i in range(num_samples):\n",
    "            \n",
    "            #parameters for im, here it's just an example  \n",
    "            x = np.random.uniform(low=-1.0, high=1.)\n",
    "            \n",
    "            \n",
    "            if (train_or_test==\"train\"):\n",
    "                self.IM_tr[i,:,:] = self.gen_source()\n",
    "\n",
    "            if (train_or_test==\"test\"):\n",
    "                self.IM_ts[i,:,:] = self.gen_source()\n",
    " \n",
    "        return\n",
    "\n",
    "class Phys_Mod(object):\n",
    "\n",
    "    def __init__(self, numpix_side = 192):\n",
    "        self.numpix_side = numpix_side\n",
    "                \n",
    "    def physical_model(self, IM):\n",
    "        \n",
    "        sin_model = tf.tensordot(IM.ravel(),sin_tensor,axes=1)\n",
    "        cos_model = tf.tensordot(IM.ravel(),cos_tensor,axes=1)\n",
    "        vis2s = tf.abs(sin_model**2+cos_model**2)  \n",
    "        phases = tf.angle(tf.complex(data_cos,data_sin))\n",
    "        cps = tf.tensordot(bs_tensor,phases,axes=1)\n",
    "        return tf.concat([vis2s,cps],axis=0)\n",
    "\n",
    "    def simulate_noisy_image(self, IM, noise_rms=0.1):\n",
    "        IM = self.physical_model(IM)\n",
    "        noise = tf.random_normal(tf.shape(IM),mean=0.0,stddev = noise_rms,dtype=T)\n",
    "        IM = IM + noise\n",
    "        self.noise_rms = noise_rms\n",
    "        return IM\n",
    "\n",
    "    def log_likelihood(Data,Model,noise_rms):\n",
    "        #logL = 0.5 * tf.reduce_mean(tf.reduce_mean((Data - Model)**2, axis=2 ), axis=1 )\n",
    "        logL = 0.5 * tf.math.reduce_mean(tf.square(D - M), axis=1 )/ noise_sig**2\n",
    "        return logL"
   ]
  },
  {
   "cell_type": "code",
   "execution_count": 124,
   "metadata": {},
   "outputs": [],
   "source": [
    "train_batch_size = 4\n",
    "num_steps = 10\n",
    "num_features = 512\n",
    "state_size = 128\n",
    "im_size = recon.shape[0]\n",
    "noise_rms = 0.01\n"
   ]
  },
  {
   "cell_type": "code",
   "execution_count": 125,
   "metadata": {},
   "outputs": [],
   "source": [
    "IM_gen = Data_Generator(train_batch_size=train_batch_size,test_batch_size=train_batch_size,im_size=im_size)\n",
    "Phys_Mod_obj = Phys_Mod()\n"
   ]
  },
  {
   "cell_type": "code",
   "execution_count": 126,
   "metadata": {},
   "outputs": [],
   "source": [
    "physical_model = Phys_Mod_obj.physical_model"
   ]
  },
  {
   "cell_type": "code",
   "execution_count": 158,
   "metadata": {},
   "outputs": [
    {
     "name": "stdout",
     "output_type": "stream",
     "text": [
      "tf.Tensor(\n",
      "[ 1.29151050e-07  4.78019813e-08  2.05739088e-01  9.08567742e-02\n",
      "  4.38569135e-08  6.18352902e-08  5.32808880e-03  3.12533124e-01\n",
      "  9.11893719e-01  3.29864522e-03  1.19143139e-07  6.06425677e+01\n",
      "  3.24205873e+01  5.46320436e-06  4.59419266e-01  2.31175179e+00\n",
      " -1.23316710e+00  2.18955092e+00  3.47178012e+00  1.44864939e+00\n",
      " -1.21568251e+00  1.70724082e-01 -1.24277054e+00  1.78727267e+00\n",
      " -2.03262609e-01], shape=(25,), dtype=float64)\n",
      "tf.Tensor(\n",
      "[ 1.29151050e-07  4.78019813e-08  2.05739088e-01  9.08567742e-02\n",
      "  4.38569135e-08  6.18352902e-08  5.32808880e-03  3.12533124e-01\n",
      "  9.11893719e-01  3.29864522e-03  1.19143139e-07  6.06425677e+01\n",
      "  3.24205873e+01  5.46320436e-06  4.59419266e-01  2.31175179e+00\n",
      " -1.23316710e+00  2.18955092e+00  3.47178012e+00  1.44864939e+00\n",
      " -1.21568251e+00  1.70724082e-01 -1.24277054e+00  1.78727267e+00\n",
      " -2.03262609e-01], shape=(25,), dtype=float64)\n"
     ]
    }
   ],
   "source": [
    "# test our tensorflow model is giving the same results on the input image\n",
    "print(physical_model(image))\n",
    "print(data_tensor)"
   ]
  },
  {
   "cell_type": "markdown",
   "metadata": {},
   "source": [
    "### It gives the same results! Hurrah!"
   ]
  },
  {
   "cell_type": "code",
   "execution_count": 159,
   "metadata": {},
   "outputs": [],
   "source": [
    "IM_gen.draw_im(\"train\")\n"
   ]
  },
  {
   "cell_type": "code",
   "execution_count": 135,
   "metadata": {},
   "outputs": [],
   "source": [
    "noisy_data = Phys_Mod_obj.simulate_noisy_image(IM_gen.IM_tr[0,:,:],noise_rms)\n"
   ]
  }
 ],
 "metadata": {
  "kernelspec": {
   "display_name": "Python 3",
   "language": "python",
   "name": "python3"
  },
  "language_info": {
   "codemirror_mode": {
    "name": "ipython",
    "version": 3
   },
   "file_extension": ".py",
   "mimetype": "text/x-python",
   "name": "python",
   "nbconvert_exporter": "python",
   "pygments_lexer": "ipython3",
   "version": "3.7.0"
  }
 },
 "nbformat": 4,
 "nbformat_minor": 2
}
