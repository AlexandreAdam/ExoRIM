{
 "cells": [
  {
   "cell_type": "code",
   "execution_count": 1,
   "metadata": {},
   "outputs": [
    {
     "name": "stdout",
     "output_type": "stream",
     "text": [
      "Populating the interactive namespace from numpy and matplotlib\n"
     ]
    }
   ],
   "source": [
    "import numpy as np\n",
    "import matplotlib \n",
    "import matplotlib as mpl\n",
    "\n",
    "%pylab inline --no-import-all\n",
    "\n",
    "matplotlib.rcParams['image.origin'] = 'lower'\n",
    "matplotlib.rcParams['figure.figsize']=(10.0,10.0)    #(6.0,4.0)\n",
    "matplotlib.rcParams['font.size']=16              #10 \n",
    "matplotlib.rcParams['savefig.dpi']= 300             #72 \n",
    "matplotlib.rcParams['axes.facecolor']='white'\n",
    "matplotlib.rcParams['savefig.facecolor']='white'\n",
    "\n",
    "colours = mpl.rcParams['axes.prop_cycle'].by_key()['color']\n",
    "\n",
    "\n",
    "import tensorflow as tf\n",
    "\n",
    "tf.enable_eager_execution()\n"
   ]
  },
  {
   "cell_type": "code",
   "execution_count": 2,
   "metadata": {},
   "outputs": [],
   "source": [
    "from definitions import *"
   ]
  },
  {
   "cell_type": "code",
   "execution_count": 3,
   "metadata": {},
   "outputs": [],
   "source": [
    "## define your image grid\n",
    "\n",
    "x = np.arange(128)\n",
    "xx, yy = np.meshgrid(x,x)"
   ]
  },
  {
   "cell_type": "code",
   "execution_count": 4,
   "metadata": {},
   "outputs": [
    {
     "data": {
      "image/png": "[encoded data removed]",
      "text/plain": [
       "<Figure size 432x288 with 1 Axes>"
      ]
     },
     "metadata": {
      "needs_background": "light"
     },
     "output_type": "display_data"
    }
   ],
   "source": [
    "## define your interferometric array\n",
    "\n",
    "coords = np.random.randn(6,2)\n",
    "plt.plot(coords[:,0],coords[:,1],'.')\n",
    "np.savetxt('coords.txt',coords)"
   ]
  },
  {
   "cell_type": "code",
   "execution_count": 5,
   "metadata": {},
   "outputs": [],
   "source": [
    "from kpi import kpi"
   ]
  },
  {
   "cell_type": "code",
   "execution_count": 6,
   "metadata": {},
   "outputs": [
    {
     "name": "stdout",
     "output_type": "stream",
     "text": [
      "File coords.txt isn't a valid Ker-phase data structure\n",
      "Creating from coordinate file\n",
      "15 distinct baselines were identified\n",
      "10 Kernel Phases identified.\n"
     ]
    }
   ],
   "source": [
    "op = kpi(file='coords.txt',bsp_mat=None)"
   ]
  },
  {
   "cell_type": "code",
   "execution_count": 7,
   "metadata": {},
   "outputs": [
    {
     "name": "stdout",
     "output_type": "stream",
     "text": [
      "File coords.txt isn't a valid Ker-phase data structure\n",
      "Creating from coordinate file\n",
      "15 distinct baselines were identified\n",
      "10 Kernel Phases identified.\n",
      "Now calculating bispectrum\n",
      "Calculating bispectrum matrix. Will take a few minutes.\n",
      "Done 0 of 6 .  10  bispectra found. Time taken: 0.0 sec\n",
      "Done. Total time taken: 0.0 mins\n",
      "Found 20 bispectra\n",
      "Doing sparse svd\n",
      "Matrix rank: 10\n",
      "Reduced-rank bispectrum matrix calculated.\n",
      "Matrix shape (10, 15)\n",
      "Time taken: 0.0 mins\n"
     ]
    }
   ],
   "source": [
    "bs = kpi(file='coords.txt',bsp_mat='sparse')"
   ]
  },
  {
   "cell_type": "code",
   "execution_count": 8,
   "metadata": {},
   "outputs": [
    {
     "data": {
      "text/plain": [
       "array([[ 0.08507675,  0.00793819,  0.15634619,  0.15642493,  0.23128148,\n",
       "         0.04430423, -0.0675216 , -0.22202865, -0.62493503,  0.06430177,\n",
       "        -0.17158354,  0.37549516, -0.38290884, -0.11414363,  0.3312283 ],\n",
       "       [-0.24780315,  0.06217162,  0.15071584,  0.40665253,  0.14058279,\n",
       "         0.0389659 , -0.15313849,  0.00333523,  0.02802511,  0.42659366,\n",
       "        -0.24074108, -0.2490461 ,  0.41231764,  0.29886249,  0.37393843],\n",
       "       [ 0.1320152 ,  0.24023118,  0.51632344, -0.46679991,  0.06891069,\n",
       "        -0.37444025, -0.09175806,  0.02087048, -0.09213681,  0.09104752,\n",
       "        -0.26448266,  0.18669033,  0.35248048, -0.00941573, -0.20160671],\n",
       "       [ 0.03857278, -0.60815974,  0.44307314,  0.17232122,  0.07744432,\n",
       "         0.08363487,  0.21385198,  0.1799993 ,  0.28855986,  0.01814527,\n",
       "        -0.12397984,  0.10870588,  0.04307096, -0.44130096,  0.0643038 ],\n",
       "       [-0.49624832,  0.29357015,  0.31069973, -0.03792797,  0.37792693,\n",
       "        -0.02931429,  0.19047255,  0.07519254,  0.2444452 , -0.45242764,\n",
       "         0.05891012, -0.00383905, -0.2538607 ,  0.15595276,  0.16511701],\n",
       "       [-0.44561133, -0.04022296,  0.03688776, -0.16600352, -0.44290103,\n",
       "         0.42033731, -0.03863512, -0.15142552,  0.13219168,  0.13549789,\n",
       "        -0.18026129,  0.51964614, -0.00122223,  0.16864755, -0.082605  ],\n",
       "       [ 0.07349246, -0.28703902, -0.20069687, -0.2426249 ,  0.19238731,\n",
       "        -0.14094892, -0.53278626,  0.45588427,  0.18806184, -0.00153402,\n",
       "         0.01511909,  0.26810963, -0.12840754,  0.25303424,  0.2765763 ],\n",
       "       [ 0.12685557,  0.13953071, -0.06811808, -0.10016522,  0.17006682,\n",
       "         0.26581874,  0.29479724,  0.43276102, -0.00288373,  0.33181868,\n",
       "        -0.46218465, -0.16333733, -0.36964481,  0.13762842, -0.26459648],\n",
       "       [-0.33545194,  0.09560218,  0.09786303,  0.24515892,  0.1453211 ,\n",
       "        -0.08051276, -0.16941141,  0.31161568, -0.17293441,  0.35836541,\n",
       "         0.49404066,  0.16762525, -0.04567192, -0.17593899, -0.43783575],\n",
       "       [ 0.01590599,  0.19070327, -0.06490041, -0.26690141,  0.39575473,\n",
       "         0.49135922, -0.38375069, -0.25243412,  0.20266107,  0.1017285 ,\n",
       "         0.00796643, -0.14236893,  0.06546448, -0.45033123,  0.00715434]])"
      ]
     },
     "execution_count": 8,
     "metadata": {},
     "output_type": "execute_result"
    }
   ],
   "source": [
    "bs.uv_to_bsp"
   ]
  },
  {
   "cell_type": "code",
   "execution_count": 9,
   "metadata": {},
   "outputs": [
    {
     "data": {
      "text/plain": [
       "Text(0, 0.5, '$v$')"
      ]
     },
     "execution_count": 9,
     "metadata": {},
     "output_type": "execute_result"
    },
    {
     "data": {
      "image/png": "[encoded data removed]",
      "text/plain": [
       "<Figure size 432x288 with 1 Axes>"
      ]
     },
     "metadata": {
      "needs_background": "light"
     },
     "output_type": "display_data"
    }
   ],
   "source": [
    "plt.plot(bs.uv[:,0],bs.uv[:,1],'.')\n",
    "plt.xlabel(r'$u$')\n",
    "plt.ylabel(r'$v$')"
   ]
  },
  {
   "cell_type": "code",
   "execution_count": 10,
   "metadata": {},
   "outputs": [],
   "source": [
    "## create p2vm matrix\n",
    "\n",
    "p2vm_sin = np.zeros((bs.uv.shape[0],xx.ravel().shape[0]))\n",
    "\n",
    "for j in range(bs.uv.shape[0]):\n",
    "    p2vm_sin[j,:] = np.ravel(np.sin(xx*bs.uv[j,0]+yy*bs.uv[j,1]))\n",
    "    \n",
    "p2vm_cos = np.zeros((bs.uv.shape[0],xx.ravel().shape[0]))\n",
    "\n",
    "for j in range(bs.uv.shape[0]):\n",
    "    p2vm_cos[j,:] = np.ravel(np.cos(xx*bs.uv[j,0]+yy*bs.uv[j,1]))"
   ]
  },
  {
   "cell_type": "code",
   "execution_count": 11,
   "metadata": {},
   "outputs": [],
   "source": [
    "## define gaussian image - from halophot\n",
    "\n",
    "def gaussian_psf(pixels,xp,yp,width):\n",
    "    # make rr array\n",
    "    npix = np.shape(pixels[0])[0]\n",
    "    xx,yy = np.meshgrid(np.arange(npix)-npix/2.,np.arange(npix)-npix/2.)\n",
    "    rr2 = (xx-xp)**2 + (yy-yp)**2\n",
    "    \n",
    "    return 1./(width*np.sqrt(2.*np.pi))*np.exp(-0.5*(rr2/width**2))\n",
    "\n",
    "def normalize(vector):\n",
    "    return (vector-vector.min())/(vector.max()-vector.min())"
   ]
  },
  {
   "cell_type": "code",
   "execution_count": 12,
   "metadata": {},
   "outputs": [],
   "source": [
    "widths = [5,10,20,20]\n",
    "xs = [20,-20,-50,90]\n",
    "ys = [20,60,20,-60]\n",
    "fs = [5,10,20,30]"
   ]
  },
  {
   "cell_type": "code",
   "execution_count": 13,
   "metadata": {},
   "outputs": [],
   "source": [
    "image = np.zeros_like(xx)*1.\n",
    "pixels = np.zeros_like(xx)\n",
    "for j, w in enumerate(widths):\n",
    "    image += fs[j]*gaussian_psf(pixels,xs[j]/2.,ys[j]/2.,w/2.)\n",
    "    \n",
    "image = normalize(image)\n",
    "# image /= image.sum()"
   ]
  },
  {
   "cell_type": "code",
   "execution_count": 14,
   "metadata": {},
   "outputs": [
    {
     "data": {
      "text/plain": [
       "<matplotlib.image.AxesImage at 0xd2769d6a0>"
      ]
     },
     "execution_count": 14,
     "metadata": {},
     "output_type": "execute_result"
    },
    {
     "data": {
      "image/png": "[encoded data removed]",
      "text/plain": [
       "<Figure size 432x288 with 1 Axes>"
      ]
     },
     "metadata": {
      "needs_background": "light"
     },
     "output_type": "display_data"
    }
   ],
   "source": [
    "plt.imshow(image)"
   ]
  },
  {
   "cell_type": "code",
   "execution_count": 15,
   "metadata": {},
   "outputs": [],
   "source": [
    "data_sin = np.dot(p2vm_sin,image.ravel())\n",
    "data_cos = np.dot(p2vm_cos,image.ravel())\n",
    "vis2s = np.abs(data_sin**2 + data_cos**2)\n",
    "closure_phases = np.dot(bs.uv_to_bsp,np.angle(data_cos+1.j*data_sin))\n",
    "recon = np.zeros_like(image)*1. # placeholder\n"
   ]
  },
  {
   "cell_type": "code",
   "execution_count": 27,
   "metadata": {},
   "outputs": [
    {
     "data": {
      "text/plain": [
       "(10,)"
      ]
     },
     "execution_count": 27,
     "metadata": {},
     "output_type": "execute_result"
    }
   ],
   "source": [
    "closure_phases.shape"
   ]
  },
  {
   "cell_type": "markdown",
   "metadata": {},
   "source": [
    "### Now let's build the forwards model in TensorFlow"
   ]
  },
  {
   "cell_type": "code",
   "execution_count": 16,
   "metadata": {},
   "outputs": [
    {
     "name": "stderr",
     "output_type": "stream",
     "text": [
      "/anaconda3/lib/python3.7/site-packages/ipykernel_launcher.py:12: RuntimeWarning: invalid value encountered in true_divide\n",
      "  if sys.path[0] == '':\n"
     ]
    }
   ],
   "source": [
    "# create tensor to hold cosine and sine projection operators\n",
    "T = tf.float64\n",
    "\n",
    "# create tensor to hold cosine and sine projection operators\n",
    "cos_tensor = tf.constant(p2vm_cos.T,dtype=T)\n",
    "sin_tensor = tf.constant(p2vm_sin.T,dtype=T)\n",
    "bs_tensor = tf.constant(bs.uv_to_bsp,dtype=T)\n",
    "\n",
    "\n",
    "# create tensor to hold your data\n",
    "vis2s_tensor = tf.constant(vis2s,dtype=T)\n",
    "cp_tensor = tf.constant(closure_phases,dtype=T)\n",
    "data_tensor = tf.concat([vis2s_tensor,cp_tensor],0)\n",
    "\n",
    "# create tensor to hold your uncertainties\n",
    "vis2s_err_tensor = tf.constant(np.ones_like(vis2s)*np.median(vis2s)/5.,dtype=T)\n",
    "cp_err_tensor = tf.constant(np.ones_like(closure_phases)*np.median(closure_phases)/5.,dtype=T)\n",
    "error_tensor = tf.concat([vis2s_err_tensor,cp_err_tensor],0)\n",
    "\n",
    "# create tensor to hold your image model\n",
    "image_tensor = tf.Variable(normalize(recon[:,:,np.newaxis])+1e-15,dtype=T)\n",
    "\n"
   ]
  },
  {
   "cell_type": "code",
   "execution_count": 17,
   "metadata": {},
   "outputs": [],
   "source": [
    "class Data_Generator(object):\n",
    "\n",
    "    def __init__(self,train_batch_size=1,test_batch_size=1, impix_side = 192, im_size=128):\n",
    "        self.im_size = im_size\n",
    "        self.train_batch_size = train_batch_size\n",
    "        self.test_batch_size = test_batch_size\n",
    "        self.impix_side = impix_side\n",
    "\n",
    "    def gen_source(self):\n",
    "        Im = np.ones((self.im_size,self.im_size))\n",
    "        return Im\n",
    "\n",
    "    def draw_im(self,train_or_test):\n",
    "        if (train_or_test==\"train\"):\n",
    "            np.random.seed(seed=None)\n",
    "            num_samples = self.train_batch_size\n",
    "        if (train_or_test==\"test\"):\n",
    "            np.random.seed(seed=136)\n",
    "            num_samples = self.test_batch_size\n",
    "        \n",
    "        self.IM_tr = np.zeros((num_samples,self.im_size,self.im_size))\n",
    "        for i in range(num_samples):\n",
    "            \n",
    "            #parameters for im, here it's just an example  \n",
    "            x = np.random.uniform(low=-1.0, high=1.)\n",
    "            \n",
    "            \n",
    "            if (train_or_test==\"train\"):\n",
    "                self.IM_tr[i,:,:] = self.gen_source()\n",
    "\n",
    "            if (train_or_test==\"test\"):\n",
    "                self.IM_ts[i,:,:] = self.gen_source()\n",
    " \n",
    "        return\n",
    "\n",
    "class Phys_Mod(object):\n",
    "\n",
    "    def __init__(self, numpix_side = 192):\n",
    "        self.numpix_side = numpix_side\n",
    "                \n",
    "    def physical_model(self, IM):\n",
    "        \n",
    "        sin_model = tf.tensordot(IM.ravel(),sin_tensor,axes=1)\n",
    "        cos_model = tf.tensordot(IM.ravel(),cos_tensor,axes=1)\n",
    "        vis2s = tf.abs(sin_model**2+cos_model**2)  \n",
    "        phases = tf.angle(tf.complex(data_cos,data_sin))\n",
    "        cps = tf.tensordot(bs_tensor,phases,axes=1)\n",
    "        return tf.concat([vis2s,cps],axis=0)\n",
    "\n",
    "    def simulate_noisy_image(self, IM, noise = error_tensor):\n",
    "        IM = self.physical_model(IM)\n",
    "        noise = noise*tf.random_normal(tf.shape(IM),mean=0.0,stddev = 1.0,dtype=T)\n",
    "        IM = IM + noise\n",
    "        self.noise_rms = noise_rms\n",
    "        return IM\n",
    "\n",
    "    def log_likelihood(Data,Model,noise_rms):\n",
    "        #logL = 0.5 * tf.reduce_mean(tf.reduce_mean((Data - Model)**2, axis=2 ), axis=1 )\n",
    "        logL = 0.5 * tf.math.reduce_mean(tf.square(D - M), axis=1 )/ noise_sig**2\n",
    "        return logL"
   ]
  },
  {
   "cell_type": "code",
   "execution_count": 18,
   "metadata": {},
   "outputs": [],
   "source": [
    "train_batch_size = 4\n",
    "num_steps = 10\n",
    "num_features = 512\n",
    "state_size = 128\n",
    "im_size = recon.shape[0]\n",
    "noise_rms = 0.01\n"
   ]
  },
  {
   "cell_type": "code",
   "execution_count": 19,
   "metadata": {},
   "outputs": [],
   "source": [
    "IM_gen = Data_Generator(train_batch_size=train_batch_size,test_batch_size=train_batch_size,im_size=im_size)\n",
    "Phys_Mod_obj = Phys_Mod()\n"
   ]
  },
  {
   "cell_type": "code",
   "execution_count": 20,
   "metadata": {},
   "outputs": [],
   "source": [
    "physical_model = Phys_Mod_obj.physical_model"
   ]
  },
  {
   "cell_type": "code",
   "execution_count": 21,
   "metadata": {},
   "outputs": [
    {
     "name": "stdout",
     "output_type": "stream",
     "text": [
      "tf.Tensor(\n",
      "[ 1.44867752e-07  7.12594812e-08  1.01292470e-06  2.15376305e-02\n",
      "  3.88387209e-08  4.54397316e-08  6.10408763e-05  7.11920873e-08\n",
      "  1.05380334e-07  3.25081520e-07  4.75965983e+01  9.33808888e-04\n",
      "  1.83080931e+01  1.79381206e-07  5.91894994e-04  1.47416144e+00\n",
      " -1.39761460e+00 -3.33211223e+00 -1.79560832e+00  2.58674911e+00\n",
      "  9.08928807e-01  1.65737785e+00 -2.14917320e-01  2.69811559e-01\n",
      " -2.05851815e+00], shape=(25,), dtype=float64)\n",
      "tf.Tensor(\n",
      "[ 1.44867752e-07  7.12594812e-08  1.01292470e-06  2.15376305e-02\n",
      "  3.88387209e-08  4.54397316e-08  6.10408763e-05  7.11920873e-08\n",
      "  1.05380334e-07  3.25081520e-07  4.75965983e+01  9.33808888e-04\n",
      "  1.83080931e+01  1.79381206e-07  5.91894994e-04  1.47416144e+00\n",
      " -1.39761460e+00 -3.33211223e+00 -1.79560832e+00  2.58674911e+00\n",
      "  9.08928807e-01  1.65737785e+00 -2.14917320e-01  2.69811559e-01\n",
      " -2.05851815e+00], shape=(25,), dtype=float64)\n"
     ]
    }
   ],
   "source": [
    "# test our tensorflow model is giving the same results on the input image\n",
    "print(physical_model(image))\n",
    "print(data_tensor)"
   ]
  },
  {
   "cell_type": "markdown",
   "metadata": {},
   "source": [
    "### It gives the same results! Hurrah!"
   ]
  },
  {
   "cell_type": "code",
   "execution_count": 22,
   "metadata": {},
   "outputs": [],
   "source": [
    "IM_gen.draw_im(\"train\")\n"
   ]
  },
  {
   "cell_type": "code",
   "execution_count": 23,
   "metadata": {},
   "outputs": [
    {
     "ename": "NameError",
     "evalue": "name 'IM' is not defined",
     "output_type": "error",
     "traceback": [
      "\u001b[0;31m---------------------------------------------------------------------------\u001b[0m",
      "\u001b[0;31mNameError\u001b[0m                                 Traceback (most recent call last)",
      "\u001b[0;32m<ipython-input-23-3c8dee833324>\u001b[0m in \u001b[0;36m<module>\u001b[0;34m()\u001b[0m\n\u001b[0;32m----> 1\u001b[0;31m \u001b[0mnoisy_data\u001b[0m \u001b[0;34m=\u001b[0m \u001b[0mPhys_Mod_obj\u001b[0m\u001b[0;34m.\u001b[0m\u001b[0msimulate_noisy_image\u001b[0m\u001b[0;34m(\u001b[0m\u001b[0mIM\u001b[0m\u001b[0;34m,\u001b[0m\u001b[0merror_tensor\u001b[0m\u001b[0;34m)\u001b[0m\u001b[0;34m\u001b[0m\u001b[0m\n\u001b[0m",
      "\u001b[0;31mNameError\u001b[0m: name 'IM' is not defined"
     ]
    }
   ],
   "source": [
    "noisy_data = Phys_Mod_obj.simulate_noisy_image(IM,error_tensor)\n"
   ]
  },
  {
   "cell_type": "code",
   "execution_count": null,
   "metadata": {},
   "outputs": [],
   "source": []
  }
 ],
 "metadata": {
  "kernelspec": {
   "display_name": "Python 3",
   "language": "python",
   "name": "python3"
  },
  "language_info": {
   "codemirror_mode": {
    "name": "ipython",
    "version": 3
   },
   "file_extension": ".py",
   "mimetype": "text/x-python",
   "name": "python",
   "nbconvert_exporter": "python",
   "pygments_lexer": "ipython3",
   "version": "3.7.0"
  }
 },
 "nbformat": 4,
 "nbformat_minor": 2
}
